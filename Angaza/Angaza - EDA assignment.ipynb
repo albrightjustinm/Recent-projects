{
 "cells": [
  {
   "cell_type": "markdown",
   "metadata": {},
   "source": [
    "Angaza Data Analysis Assignment"
   ]
  },
  {
   "cell_type": "code",
   "execution_count": 2,
   "metadata": {},
   "outputs": [
    {
     "data": {
      "text/html": [
       "        <script type=\"text/javascript\">\n",
       "        window.PlotlyConfig = {MathJaxConfig: 'local'};\n",
       "        if (window.MathJax) {MathJax.Hub.Config({SVG: {font: \"STIX-Web\"}});}\n",
       "        if (typeof require !== 'undefined') {\n",
       "        require.undef(\"plotly\");\n",
       "        requirejs.config({\n",
       "            paths: {\n",
       "                'plotly': ['https://cdn.plot.ly/plotly-latest.min']\n",
       "            }\n",
       "        });\n",
       "        require(['plotly'], function(Plotly) {\n",
       "            window._Plotly = Plotly;\n",
       "        });\n",
       "        }\n",
       "        </script>\n",
       "        "
      ]
     },
     "metadata": {},
     "output_type": "display_data"
    }
   ],
   "source": [
    "#Import all libraries to be used\n",
    "import numpy as np\n",
    "import pandas as pd \n",
    "import seaborn as sns\n",
    "import matplotlib.pyplot as plt\n",
    "import statsmodels.api as st\n",
    "import plotly\n",
    "plotly.offline.init_notebook_mode(connected=True)\n",
    "import plotly.graph_objs as go\n",
    "import plotly.express as px\n",
    "from datetime import time, date, timedelta\n",
    "from datetime import datetime\n",
    "from dateutil import parser\n",
    "import datetime as dt\n",
    "import math\n",
    "import dash"
   ]
  },
  {
   "cell_type": "code",
   "execution_count": 3,
   "metadata": {},
   "outputs": [
    {
     "data": {
      "text/html": [
       "<div>\n",
       "<style scoped>\n",
       "    .dataframe tbody tr th:only-of-type {\n",
       "        vertical-align: middle;\n",
       "    }\n",
       "\n",
       "    .dataframe tbody tr th {\n",
       "        vertical-align: top;\n",
       "    }\n",
       "\n",
       "    .dataframe thead th {\n",
       "        text-align: right;\n",
       "    }\n",
       "</style>\n",
       "<table border=\"1\" class=\"dataframe\">\n",
       "  <thead>\n",
       "    <tr style=\"text-align: right;\">\n",
       "      <th></th>\n",
       "      <th>id</th>\n",
       "      <th>group_id</th>\n",
       "      <th>organization_id</th>\n",
       "      <th>registration_date</th>\n",
       "      <th>is_written_off</th>\n",
       "      <th>is_unlocked</th>\n",
       "    </tr>\n",
       "  </thead>\n",
       "  <tbody>\n",
       "    <tr>\n",
       "      <td>0</td>\n",
       "      <td>2</td>\n",
       "      <td>1</td>\n",
       "      <td>10001</td>\n",
       "      <td>2019-11-06 05:49:39.571392</td>\n",
       "      <td>False</td>\n",
       "      <td>True</td>\n",
       "    </tr>\n",
       "    <tr>\n",
       "      <td>1</td>\n",
       "      <td>3</td>\n",
       "      <td>1</td>\n",
       "      <td>10001</td>\n",
       "      <td>2019-11-14 14:57:02.571392</td>\n",
       "      <td>False</td>\n",
       "      <td>False</td>\n",
       "    </tr>\n",
       "    <tr>\n",
       "      <td>2</td>\n",
       "      <td>4</td>\n",
       "      <td>1</td>\n",
       "      <td>10001</td>\n",
       "      <td>2019-12-11 03:18:53.571392</td>\n",
       "      <td>False</td>\n",
       "      <td>True</td>\n",
       "    </tr>\n",
       "    <tr>\n",
       "      <td>3</td>\n",
       "      <td>5</td>\n",
       "      <td>1</td>\n",
       "      <td>10001</td>\n",
       "      <td>2019-10-31 22:36:23.571392</td>\n",
       "      <td>False</td>\n",
       "      <td>False</td>\n",
       "    </tr>\n",
       "    <tr>\n",
       "      <td>4</td>\n",
       "      <td>6</td>\n",
       "      <td>1</td>\n",
       "      <td>10001</td>\n",
       "      <td>2019-09-29 13:04:45.571392</td>\n",
       "      <td>False</td>\n",
       "      <td>True</td>\n",
       "    </tr>\n",
       "  </tbody>\n",
       "</table>\n",
       "</div>"
      ],
      "text/plain": [
       "   id  group_id  organization_id           registration_date  is_written_off  \\\n",
       "0   2         1            10001  2019-11-06 05:49:39.571392           False   \n",
       "1   3         1            10001  2019-11-14 14:57:02.571392           False   \n",
       "2   4         1            10001  2019-12-11 03:18:53.571392           False   \n",
       "3   5         1            10001  2019-10-31 22:36:23.571392           False   \n",
       "4   6         1            10001  2019-09-29 13:04:45.571392           False   \n",
       "\n",
       "   is_unlocked  \n",
       "0         True  \n",
       "1        False  \n",
       "2         True  \n",
       "3        False  \n",
       "4         True  "
      ]
     },
     "metadata": {},
     "output_type": "display_data"
    },
    {
     "data": {
      "text/html": [
       "<div>\n",
       "<style scoped>\n",
       "    .dataframe tbody tr th:only-of-type {\n",
       "        vertical-align: middle;\n",
       "    }\n",
       "\n",
       "    .dataframe tbody tr th {\n",
       "        vertical-align: top;\n",
       "    }\n",
       "\n",
       "    .dataframe thead th {\n",
       "        text-align: right;\n",
       "    }\n",
       "</style>\n",
       "<table border=\"1\" class=\"dataframe\">\n",
       "  <thead>\n",
       "    <tr style=\"text-align: right;\">\n",
       "      <th></th>\n",
       "      <th>id</th>\n",
       "      <th>name</th>\n",
       "      <th>price_upfront</th>\n",
       "      <th>price_unlock</th>\n",
       "      <th>price_clock_hour</th>\n",
       "      <th>minimum_payment</th>\n",
       "    </tr>\n",
       "  </thead>\n",
       "  <tbody>\n",
       "    <tr>\n",
       "      <td>0</td>\n",
       "      <td>1</td>\n",
       "      <td>Gugun Polar Wireless Product</td>\n",
       "      <td>950</td>\n",
       "      <td>8100</td>\n",
       "      <td>5.654762</td>\n",
       "      <td>71.5</td>\n",
       "    </tr>\n",
       "    <tr>\n",
       "      <td>1</td>\n",
       "      <td>2</td>\n",
       "      <td>Tennie JUA Home Mate H1G Lite</td>\n",
       "      <td>1500</td>\n",
       "      <td>6100</td>\n",
       "      <td>8.928571</td>\n",
       "      <td>46.0</td>\n",
       "    </tr>\n",
       "    <tr>\n",
       "      <td>2</td>\n",
       "      <td>3</td>\n",
       "      <td>Hong Rath Omnivoltaic Catch (Keycode) Bundle</td>\n",
       "      <td>800</td>\n",
       "      <td>5200</td>\n",
       "      <td>4.761905</td>\n",
       "      <td>44.0</td>\n",
       "    </tr>\n",
       "    <tr>\n",
       "      <td>3</td>\n",
       "      <td>4</td>\n",
       "      <td>Monte Omnivoltaic M400</td>\n",
       "      <td>650</td>\n",
       "      <td>6100</td>\n",
       "      <td>3.869048</td>\n",
       "      <td>54.5</td>\n",
       "    </tr>\n",
       "    <tr>\n",
       "      <td>4</td>\n",
       "      <td>5</td>\n",
       "      <td>Coats Omnivoltaic M600 Bundle</td>\n",
       "      <td>1100</td>\n",
       "      <td>6100</td>\n",
       "      <td>6.547619</td>\n",
       "      <td>50.0</td>\n",
       "    </tr>\n",
       "  </tbody>\n",
       "</table>\n",
       "</div>"
      ],
      "text/plain": [
       "   id                                          name  price_upfront  \\\n",
       "0   1                  Gugun Polar Wireless Product            950   \n",
       "1   2                 Tennie JUA Home Mate H1G Lite           1500   \n",
       "2   3  Hong Rath Omnivoltaic Catch (Keycode) Bundle            800   \n",
       "3   4                        Monte Omnivoltaic M400            650   \n",
       "4   5                 Coats Omnivoltaic M600 Bundle           1100   \n",
       "\n",
       "   price_unlock  price_clock_hour  minimum_payment  \n",
       "0          8100          5.654762             71.5  \n",
       "1          6100          8.928571             46.0  \n",
       "2          5200          4.761905             44.0  \n",
       "3          6100          3.869048             54.5  \n",
       "4          6100          6.547619             50.0  "
      ]
     },
     "metadata": {},
     "output_type": "display_data"
    },
    {
     "data": {
      "text/html": [
       "<div>\n",
       "<style scoped>\n",
       "    .dataframe tbody tr th:only-of-type {\n",
       "        vertical-align: middle;\n",
       "    }\n",
       "\n",
       "    .dataframe tbody tr th {\n",
       "        vertical-align: top;\n",
       "    }\n",
       "\n",
       "    .dataframe thead th {\n",
       "        text-align: right;\n",
       "    }\n",
       "</style>\n",
       "<table border=\"1\" class=\"dataframe\">\n",
       "  <thead>\n",
       "    <tr style=\"text-align: right;\">\n",
       "      <th></th>\n",
       "      <th>id</th>\n",
       "      <th>effective_when</th>\n",
       "      <th>account_id</th>\n",
       "      <th>currency</th>\n",
       "      <th>amount</th>\n",
       "    </tr>\n",
       "  </thead>\n",
       "  <tbody>\n",
       "    <tr>\n",
       "      <td>0</td>\n",
       "      <td>1</td>\n",
       "      <td>2019-12-26 06:00:42.571392</td>\n",
       "      <td>1</td>\n",
       "      <td>KES</td>\n",
       "      <td>950</td>\n",
       "    </tr>\n",
       "    <tr>\n",
       "      <td>1</td>\n",
       "      <td>2</td>\n",
       "      <td>2019-12-26 06:00:42.571392</td>\n",
       "      <td>1</td>\n",
       "      <td>KES</td>\n",
       "      <td>950</td>\n",
       "    </tr>\n",
       "    <tr>\n",
       "      <td>2</td>\n",
       "      <td>3</td>\n",
       "      <td>2019-11-06 05:49:39.571392</td>\n",
       "      <td>2</td>\n",
       "      <td>KES</td>\n",
       "      <td>950</td>\n",
       "    </tr>\n",
       "    <tr>\n",
       "      <td>3</td>\n",
       "      <td>4</td>\n",
       "      <td>2019-11-06 05:49:39.571392</td>\n",
       "      <td>2</td>\n",
       "      <td>KES</td>\n",
       "      <td>950</td>\n",
       "    </tr>\n",
       "    <tr>\n",
       "      <td>4</td>\n",
       "      <td>5</td>\n",
       "      <td>2019-11-11 06:43:34.571392</td>\n",
       "      <td>2</td>\n",
       "      <td>KES</td>\n",
       "      <td>415</td>\n",
       "    </tr>\n",
       "  </tbody>\n",
       "</table>\n",
       "</div>"
      ],
      "text/plain": [
       "   id              effective_when  account_id currency  amount\n",
       "0   1  2019-12-26 06:00:42.571392           1      KES     950\n",
       "1   2  2019-12-26 06:00:42.571392           1      KES     950\n",
       "2   3  2019-11-06 05:49:39.571392           2      KES     950\n",
       "3   4  2019-11-06 05:49:39.571392           2      KES     950\n",
       "4   5  2019-11-11 06:43:34.571392           2      KES     415"
      ]
     },
     "metadata": {},
     "output_type": "display_data"
    },
    {
     "data": {
      "text/html": [
       "<div>\n",
       "<style scoped>\n",
       "    .dataframe tbody tr th:only-of-type {\n",
       "        vertical-align: middle;\n",
       "    }\n",
       "\n",
       "    .dataframe tbody tr th {\n",
       "        vertical-align: top;\n",
       "    }\n",
       "\n",
       "    .dataframe thead th {\n",
       "        text-align: right;\n",
       "    }\n",
       "</style>\n",
       "<table border=\"1\" class=\"dataframe\">\n",
       "  <thead>\n",
       "    <tr style=\"text-align: right;\">\n",
       "      <th></th>\n",
       "      <th>id</th>\n",
       "      <th>created_when</th>\n",
       "      <th>started_when</th>\n",
       "      <th>account_id</th>\n",
       "      <th>from_state</th>\n",
       "      <th>to_state</th>\n",
       "      <th>previous_state_transition_id</th>\n",
       "    </tr>\n",
       "  </thead>\n",
       "  <tbody>\n",
       "    <tr>\n",
       "      <td>0</td>\n",
       "      <td>3</td>\n",
       "      <td>2020-03-12 20:03:35.724574</td>\n",
       "      <td>2019-11-06 05:49:39.571392</td>\n",
       "      <td>2</td>\n",
       "      <td>CREATED</td>\n",
       "      <td>ENABLED</td>\n",
       "      <td>NaN</td>\n",
       "    </tr>\n",
       "    <tr>\n",
       "      <td>1</td>\n",
       "      <td>4</td>\n",
       "      <td>2020-03-12 20:03:35.724574</td>\n",
       "      <td>2019-11-25 22:20:59.150339</td>\n",
       "      <td>2</td>\n",
       "      <td>ENABLED</td>\n",
       "      <td>DISABLED</td>\n",
       "      <td>3.0</td>\n",
       "    </tr>\n",
       "    <tr>\n",
       "      <td>2</td>\n",
       "      <td>5</td>\n",
       "      <td>2020-03-12 20:03:36.042456</td>\n",
       "      <td>2019-11-26 10:22:36.571392</td>\n",
       "      <td>2</td>\n",
       "      <td>DISABLED</td>\n",
       "      <td>ENABLED</td>\n",
       "      <td>4.0</td>\n",
       "    </tr>\n",
       "    <tr>\n",
       "      <td>3</td>\n",
       "      <td>6</td>\n",
       "      <td>2020-03-12 20:03:36.042456</td>\n",
       "      <td>2019-11-29 11:03:32.150339</td>\n",
       "      <td>2</td>\n",
       "      <td>ENABLED</td>\n",
       "      <td>DISABLED</td>\n",
       "      <td>5.0</td>\n",
       "    </tr>\n",
       "    <tr>\n",
       "      <td>4</td>\n",
       "      <td>7</td>\n",
       "      <td>2020-03-12 20:03:36.098448</td>\n",
       "      <td>2019-12-03 10:08:03.571392</td>\n",
       "      <td>2</td>\n",
       "      <td>DISABLED</td>\n",
       "      <td>ENABLED</td>\n",
       "      <td>6.0</td>\n",
       "    </tr>\n",
       "  </tbody>\n",
       "</table>\n",
       "</div>"
      ],
      "text/plain": [
       "   id                created_when                started_when  account_id  \\\n",
       "0   3  2020-03-12 20:03:35.724574  2019-11-06 05:49:39.571392           2   \n",
       "1   4  2020-03-12 20:03:35.724574  2019-11-25 22:20:59.150339           2   \n",
       "2   5  2020-03-12 20:03:36.042456  2019-11-26 10:22:36.571392           2   \n",
       "3   6  2020-03-12 20:03:36.042456  2019-11-29 11:03:32.150339           2   \n",
       "4   7  2020-03-12 20:03:36.098448  2019-12-03 10:08:03.571392           2   \n",
       "\n",
       "  from_state  to_state  previous_state_transition_id  \n",
       "0    CREATED   ENABLED                           NaN  \n",
       "1    ENABLED  DISABLED                           3.0  \n",
       "2   DISABLED   ENABLED                           4.0  \n",
       "3    ENABLED  DISABLED                           5.0  \n",
       "4   DISABLED   ENABLED                           6.0  "
      ]
     },
     "metadata": {},
     "output_type": "display_data"
    },
    {
     "data": {
      "text/html": [
       "<div>\n",
       "<style scoped>\n",
       "    .dataframe tbody tr th:only-of-type {\n",
       "        vertical-align: middle;\n",
       "    }\n",
       "\n",
       "    .dataframe tbody tr th {\n",
       "        vertical-align: top;\n",
       "    }\n",
       "\n",
       "    .dataframe thead th {\n",
       "        text-align: right;\n",
       "    }\n",
       "</style>\n",
       "<table border=\"1\" class=\"dataframe\">\n",
       "  <thead>\n",
       "    <tr style=\"text-align: right;\">\n",
       "      <th></th>\n",
       "      <th>id</th>\n",
       "      <th>group_id</th>\n",
       "      <th>product_id</th>\n",
       "    </tr>\n",
       "  </thead>\n",
       "  <tbody>\n",
       "    <tr>\n",
       "      <td>0</td>\n",
       "      <td>1</td>\n",
       "      <td>1</td>\n",
       "      <td>42</td>\n",
       "    </tr>\n",
       "    <tr>\n",
       "      <td>1</td>\n",
       "      <td>2</td>\n",
       "      <td>2</td>\n",
       "      <td>20</td>\n",
       "    </tr>\n",
       "    <tr>\n",
       "      <td>2</td>\n",
       "      <td>3</td>\n",
       "      <td>3</td>\n",
       "      <td>25</td>\n",
       "    </tr>\n",
       "    <tr>\n",
       "      <td>3</td>\n",
       "      <td>4</td>\n",
       "      <td>3</td>\n",
       "      <td>32</td>\n",
       "    </tr>\n",
       "    <tr>\n",
       "      <td>4</td>\n",
       "      <td>5</td>\n",
       "      <td>3</td>\n",
       "      <td>32</td>\n",
       "    </tr>\n",
       "  </tbody>\n",
       "</table>\n",
       "</div>"
      ],
      "text/plain": [
       "   id  group_id  product_id\n",
       "0   1         1          42\n",
       "1   2         2          20\n",
       "2   3         3          25\n",
       "3   4         3          32\n",
       "4   5         3          32"
      ]
     },
     "metadata": {},
     "output_type": "display_data"
    },
    {
     "data": {
      "text/html": [
       "<div>\n",
       "<style scoped>\n",
       "    .dataframe tbody tr th:only-of-type {\n",
       "        vertical-align: middle;\n",
       "    }\n",
       "\n",
       "    .dataframe tbody tr th {\n",
       "        vertical-align: top;\n",
       "    }\n",
       "\n",
       "    .dataframe thead th {\n",
       "        text-align: right;\n",
       "    }\n",
       "</style>\n",
       "<table border=\"1\" class=\"dataframe\">\n",
       "  <thead>\n",
       "    <tr style=\"text-align: right;\">\n",
       "      <th></th>\n",
       "      <th>id</th>\n",
       "      <th>name</th>\n",
       "      <th>type</th>\n",
       "    </tr>\n",
       "  </thead>\n",
       "  <tbody>\n",
       "    <tr>\n",
       "      <td>0</td>\n",
       "      <td>1</td>\n",
       "      <td>Bright Move</td>\n",
       "      <td>LARGEPADV1_KEYCODE</td>\n",
       "    </tr>\n",
       "    <tr>\n",
       "      <td>1</td>\n",
       "      <td>2</td>\n",
       "      <td>Bright Move Smart</td>\n",
       "      <td>LARGEPADV1_KEYCODE</td>\n",
       "    </tr>\n",
       "    <tr>\n",
       "      <td>2</td>\n",
       "      <td>3</td>\n",
       "      <td>Bright Home 29</td>\n",
       "      <td>LARGEPADV1_KEYCODE</td>\n",
       "    </tr>\n",
       "    <tr>\n",
       "      <td>3</td>\n",
       "      <td>4</td>\n",
       "      <td>Bright Home 58</td>\n",
       "      <td>LARGEPADV1_KEYCODE</td>\n",
       "    </tr>\n",
       "    <tr>\n",
       "      <td>4</td>\n",
       "      <td>5</td>\n",
       "      <td>Bright Sun Bell</td>\n",
       "      <td>CABLE</td>\n",
       "    </tr>\n",
       "  </tbody>\n",
       "</table>\n",
       "</div>"
      ],
      "text/plain": [
       "   id               name                type\n",
       "0   1        Bright Move  LARGEPADV1_KEYCODE\n",
       "1   2  Bright Move Smart  LARGEPADV1_KEYCODE\n",
       "2   3     Bright Home 29  LARGEPADV1_KEYCODE\n",
       "3   4     Bright Home 58  LARGEPADV1_KEYCODE\n",
       "4   5    Bright Sun Bell               CABLE"
      ]
     },
     "metadata": {},
     "output_type": "display_data"
    },
    {
     "name": "stdout",
     "output_type": "stream",
     "text": [
      "<class 'pandas.core.frame.DataFrame'>\n",
      "RangeIndex: 772 entries, 0 to 771\n",
      "Data columns (total 6 columns):\n",
      "id                   772 non-null int64\n",
      "group_id             772 non-null int64\n",
      "organization_id      772 non-null int64\n",
      "registration_date    772 non-null object\n",
      "is_written_off       772 non-null bool\n",
      "is_unlocked          772 non-null bool\n",
      "dtypes: bool(2), int64(3), object(1)\n",
      "memory usage: 25.8+ KB\n"
     ]
    },
    {
     "data": {
      "text/plain": [
       "None"
      ]
     },
     "metadata": {},
     "output_type": "display_data"
    },
    {
     "name": "stdout",
     "output_type": "stream",
     "text": [
      "<class 'pandas.core.frame.DataFrame'>\n",
      "RangeIndex: 42 entries, 0 to 41\n",
      "Data columns (total 6 columns):\n",
      "id                  42 non-null int64\n",
      "name                42 non-null object\n",
      "price_upfront       42 non-null int64\n",
      "price_unlock        42 non-null int64\n",
      "price_clock_hour    42 non-null float64\n",
      "minimum_payment     42 non-null float64\n",
      "dtypes: float64(2), int64(3), object(1)\n",
      "memory usage: 2.1+ KB\n"
     ]
    },
    {
     "data": {
      "text/plain": [
       "None"
      ]
     },
     "metadata": {},
     "output_type": "display_data"
    },
    {
     "name": "stdout",
     "output_type": "stream",
     "text": [
      "<class 'pandas.core.frame.DataFrame'>\n",
      "RangeIndex: 9452 entries, 0 to 9451\n",
      "Data columns (total 5 columns):\n",
      "id                9452 non-null int64\n",
      "effective_when    9452 non-null object\n",
      "account_id        9452 non-null int64\n",
      "currency          9452 non-null object\n",
      "amount            9452 non-null int64\n",
      "dtypes: int64(3), object(2)\n",
      "memory usage: 369.3+ KB\n"
     ]
    },
    {
     "data": {
      "text/plain": [
       "None"
      ]
     },
     "metadata": {},
     "output_type": "display_data"
    },
    {
     "name": "stdout",
     "output_type": "stream",
     "text": [
      "<class 'pandas.core.frame.DataFrame'>\n",
      "RangeIndex: 14762 entries, 0 to 14761\n",
      "Data columns (total 7 columns):\n",
      "id                              14762 non-null int64\n",
      "created_when                    14762 non-null object\n",
      "started_when                    14762 non-null object\n",
      "account_id                      14762 non-null int64\n",
      "from_state                      14762 non-null object\n",
      "to_state                        14762 non-null object\n",
      "previous_state_transition_id    13990 non-null float64\n",
      "dtypes: float64(1), int64(2), object(4)\n",
      "memory usage: 807.4+ KB\n"
     ]
    },
    {
     "data": {
      "text/plain": [
       "None"
      ]
     },
     "metadata": {},
     "output_type": "display_data"
    },
    {
     "name": "stdout",
     "output_type": "stream",
     "text": [
      "<class 'pandas.core.frame.DataFrame'>\n",
      "RangeIndex: 107 entries, 0 to 106\n",
      "Data columns (total 3 columns):\n",
      "id            107 non-null int64\n",
      "group_id      107 non-null int64\n",
      "product_id    107 non-null int64\n",
      "dtypes: int64(3)\n",
      "memory usage: 2.6 KB\n"
     ]
    },
    {
     "data": {
      "text/plain": [
       "None"
      ]
     },
     "metadata": {},
     "output_type": "display_data"
    },
    {
     "name": "stdout",
     "output_type": "stream",
     "text": [
      "<class 'pandas.core.frame.DataFrame'>\n",
      "RangeIndex: 42 entries, 0 to 41\n",
      "Data columns (total 3 columns):\n",
      "id      42 non-null int64\n",
      "name    42 non-null object\n",
      "type    42 non-null object\n",
      "dtypes: int64(1), object(2)\n",
      "memory usage: 1.1+ KB\n"
     ]
    },
    {
     "data": {
      "text/plain": [
       "None"
      ]
     },
     "metadata": {},
     "output_type": "display_data"
    }
   ],
   "source": [
    "#Read data set\n",
    "accts=pd.read_csv('accounts.csv')\n",
    "group=pd.read_csv('groups.csv')\n",
    "pymt=pd.read_csv('payments.csv')\n",
    "ast=pd.read_csv('account_state_transitions.csv')\n",
    "gpa=pd.read_csv('group_product_associations.csv')\n",
    "products=pd.read_csv('products.csv')\n",
    "\n",
    "display(accts.head())\n",
    "display(group.head())\n",
    "display(pymt.head())\n",
    "display(ast.head())\n",
    "display(gpa.head())\n",
    "display(products.head())\n",
    "\n",
    "display(accts.info())\n",
    "display(group.info())\n",
    "display(pymt.info())\n",
    "display(ast.info())\n",
    "display(gpa.info())\n",
    "display(products.info())"
   ]
  },
  {
   "cell_type": "code",
   "execution_count": 4,
   "metadata": {},
   "outputs": [],
   "source": [
    "#Rename some columns for easier merging in exercises below\n",
    "accts=accts.rename(columns={'id': 'account_id'})\n",
    "group=group.rename(columns={'id': 'group_id', 'name': 'group_name'})\n",
    "pymt=pymt.rename(columns={'id': 'pymt_id'})\n",
    "ast=ast.rename(columns={'id': 'ast_id'})\n",
    "gpa=gpa.rename(columns={'id': 'gpa_id'})\n",
    "products=products.rename(columns={'id': 'product_id', 'name': 'product_name'})"
   ]
  },
  {
   "cell_type": "markdown",
   "metadata": {},
   "source": [
    "Part 1: Data Handling:\n",
    "1. Generate a bar chart visualizing the relative frequency of Products registered with Accounts."
   ]
  },
  {
   "cell_type": "code",
   "execution_count": 11,
   "metadata": {
    "scrolled": false
   },
   "outputs": [
    {
     "data": {
      "text/html": [
       "<div>\n",
       "<style scoped>\n",
       "    .dataframe tbody tr th:only-of-type {\n",
       "        vertical-align: middle;\n",
       "    }\n",
       "\n",
       "    .dataframe tbody tr th {\n",
       "        vertical-align: top;\n",
       "    }\n",
       "\n",
       "    .dataframe thead th {\n",
       "        text-align: right;\n",
       "    }\n",
       "</style>\n",
       "<table border=\"1\" class=\"dataframe\">\n",
       "  <thead>\n",
       "    <tr style=\"text-align: right;\">\n",
       "      <th></th>\n",
       "      <th>account_id</th>\n",
       "      <th>group_id</th>\n",
       "      <th>organization_id</th>\n",
       "      <th>registration_date</th>\n",
       "      <th>is_written_off</th>\n",
       "      <th>is_unlocked</th>\n",
       "      <th>group_name</th>\n",
       "      <th>price_upfront</th>\n",
       "      <th>price_unlock</th>\n",
       "      <th>price_clock_hour</th>\n",
       "      <th>minimum_payment</th>\n",
       "      <th>gpa_id</th>\n",
       "      <th>product_id</th>\n",
       "      <th>product_name</th>\n",
       "      <th>type</th>\n",
       "    </tr>\n",
       "  </thead>\n",
       "  <tbody>\n",
       "    <tr>\n",
       "      <td>0</td>\n",
       "      <td>2</td>\n",
       "      <td>1</td>\n",
       "      <td>10001</td>\n",
       "      <td>2019-11-06 05:49:39.571392</td>\n",
       "      <td>False</td>\n",
       "      <td>True</td>\n",
       "      <td>Gugun Polar Wireless Product</td>\n",
       "      <td>950</td>\n",
       "      <td>8100</td>\n",
       "      <td>5.654762</td>\n",
       "      <td>71.5</td>\n",
       "      <td>1</td>\n",
       "      <td>42</td>\n",
       "      <td>Polar Wireless Product</td>\n",
       "      <td>IOT_API</td>\n",
       "    </tr>\n",
       "    <tr>\n",
       "      <td>1</td>\n",
       "      <td>3</td>\n",
       "      <td>1</td>\n",
       "      <td>10001</td>\n",
       "      <td>2019-11-14 14:57:02.571392</td>\n",
       "      <td>False</td>\n",
       "      <td>False</td>\n",
       "      <td>Gugun Polar Wireless Product</td>\n",
       "      <td>950</td>\n",
       "      <td>8100</td>\n",
       "      <td>5.654762</td>\n",
       "      <td>71.5</td>\n",
       "      <td>1</td>\n",
       "      <td>42</td>\n",
       "      <td>Polar Wireless Product</td>\n",
       "      <td>IOT_API</td>\n",
       "    </tr>\n",
       "    <tr>\n",
       "      <td>2</td>\n",
       "      <td>4</td>\n",
       "      <td>1</td>\n",
       "      <td>10001</td>\n",
       "      <td>2019-12-11 03:18:53.571392</td>\n",
       "      <td>False</td>\n",
       "      <td>True</td>\n",
       "      <td>Gugun Polar Wireless Product</td>\n",
       "      <td>950</td>\n",
       "      <td>8100</td>\n",
       "      <td>5.654762</td>\n",
       "      <td>71.5</td>\n",
       "      <td>1</td>\n",
       "      <td>42</td>\n",
       "      <td>Polar Wireless Product</td>\n",
       "      <td>IOT_API</td>\n",
       "    </tr>\n",
       "    <tr>\n",
       "      <td>3</td>\n",
       "      <td>5</td>\n",
       "      <td>1</td>\n",
       "      <td>10001</td>\n",
       "      <td>2019-10-31 22:36:23.571392</td>\n",
       "      <td>False</td>\n",
       "      <td>False</td>\n",
       "      <td>Gugun Polar Wireless Product</td>\n",
       "      <td>950</td>\n",
       "      <td>8100</td>\n",
       "      <td>5.654762</td>\n",
       "      <td>71.5</td>\n",
       "      <td>1</td>\n",
       "      <td>42</td>\n",
       "      <td>Polar Wireless Product</td>\n",
       "      <td>IOT_API</td>\n",
       "    </tr>\n",
       "    <tr>\n",
       "      <td>4</td>\n",
       "      <td>6</td>\n",
       "      <td>1</td>\n",
       "      <td>10001</td>\n",
       "      <td>2019-09-29 13:04:45.571392</td>\n",
       "      <td>False</td>\n",
       "      <td>True</td>\n",
       "      <td>Gugun Polar Wireless Product</td>\n",
       "      <td>950</td>\n",
       "      <td>8100</td>\n",
       "      <td>5.654762</td>\n",
       "      <td>71.5</td>\n",
       "      <td>1</td>\n",
       "      <td>42</td>\n",
       "      <td>Polar Wireless Product</td>\n",
       "      <td>IOT_API</td>\n",
       "    </tr>\n",
       "  </tbody>\n",
       "</table>\n",
       "</div>"
      ],
      "text/plain": [
       "   account_id  group_id  organization_id           registration_date  \\\n",
       "0           2         1            10001  2019-11-06 05:49:39.571392   \n",
       "1           3         1            10001  2019-11-14 14:57:02.571392   \n",
       "2           4         1            10001  2019-12-11 03:18:53.571392   \n",
       "3           5         1            10001  2019-10-31 22:36:23.571392   \n",
       "4           6         1            10001  2019-09-29 13:04:45.571392   \n",
       "\n",
       "   is_written_off  is_unlocked                    group_name  price_upfront  \\\n",
       "0           False         True  Gugun Polar Wireless Product            950   \n",
       "1           False        False  Gugun Polar Wireless Product            950   \n",
       "2           False         True  Gugun Polar Wireless Product            950   \n",
       "3           False        False  Gugun Polar Wireless Product            950   \n",
       "4           False         True  Gugun Polar Wireless Product            950   \n",
       "\n",
       "   price_unlock  price_clock_hour  minimum_payment  gpa_id  product_id  \\\n",
       "0          8100          5.654762             71.5       1          42   \n",
       "1          8100          5.654762             71.5       1          42   \n",
       "2          8100          5.654762             71.5       1          42   \n",
       "3          8100          5.654762             71.5       1          42   \n",
       "4          8100          5.654762             71.5       1          42   \n",
       "\n",
       "             product_name     type  \n",
       "0  Polar Wireless Product  IOT_API  \n",
       "1  Polar Wireless Product  IOT_API  \n",
       "2  Polar Wireless Product  IOT_API  \n",
       "3  Polar Wireless Product  IOT_API  \n",
       "4  Polar Wireless Product  IOT_API  "
      ]
     },
     "metadata": {},
     "output_type": "display_data"
    },
    {
     "name": "stdout",
     "output_type": "stream",
     "text": [
      "<class 'pandas.core.frame.DataFrame'>\n",
      "Int64Index: 889 entries, 0 to 1836\n",
      "Data columns (total 15 columns):\n",
      "account_id           889 non-null int64\n",
      "group_id             889 non-null int64\n",
      "organization_id      889 non-null int64\n",
      "registration_date    889 non-null object\n",
      "is_written_off       889 non-null bool\n",
      "is_unlocked          889 non-null bool\n",
      "group_name           889 non-null object\n",
      "price_upfront        889 non-null int64\n",
      "price_unlock         889 non-null int64\n",
      "price_clock_hour     889 non-null float64\n",
      "minimum_payment      889 non-null float64\n",
      "gpa_id               889 non-null int64\n",
      "product_id           889 non-null int64\n",
      "product_name         889 non-null object\n",
      "type                 889 non-null object\n",
      "dtypes: bool(2), float64(2), int64(7), object(4)\n",
      "memory usage: 99.0+ KB\n",
      "Number of unique products =  42\n",
      "Number of unique accounts =  772\n",
      "Total products sold amongst all accounts =  889\n"
     ]
    },
    {
     "data": {
      "application/vnd.plotly.v1+json": {
       "config": {
        "linkText": "Export to plot.ly",
        "plotlyServerURL": "https://plot.ly",
        "showLink": false
       },
       "data": [
        {
         "type": "bar",
         "x": [
          "Polar Non-metered Product",
          "Sun King Home 120 Easy Buy",
          "Polar PAYG Product",
          "Omnivoltaic Pilot Bluetooth",
          "Solar Village Battery Stick",
          "Fosera LSHS",
          "Sun King Home 120 Plus Easy Buy",
          "BioLite SolarHome 620",
          "WOWsolarTV",
          "RAYGO150",
          "Sun King Boom Easy Buy",
          "Niwa Energy 50 (42Wh)",
          "Bright Sun Bell Smart",
          "Bright Home 58",
          "Sun King Home 40Z Easy Buy",
          "Fosera PSHS",
          "JUA Home Mate H2G",
          "Bright Move",
          "Sun King Home 60 Easy Buy",
          "Sun King Home 400 Easybuy Keypad",
          "Futurepump",
          "Sun King Home 400 Easybuy GSM",
          "WOWsolar60",
          "JUA Home Mate H1G",
          "Bright Sun Bell",
          "Sun King Eco Easy Buy",
          "JUA Home Mate H1G Lite",
          "Fosera LSHS GSM",
          "Renewit Small Home Power Station",
          "Renewit Home Power Station",
          "WOWsolar100",
          "Niwa Energy 50 (128Wh)",
          "Omnivoltaic Catch (Keycode)",
          "Polar Wireless Product",
          "Omnivoltaic Pilot L190 Bluetooth",
          "Omnivoltaic Camp",
          "Omnivoltaic M600",
          "Sun King Pro Easy Buy",
          "Polar GSM Product",
          "Bright Move Smart",
          "Omnivoltaic M400",
          "Bright Home 29"
         ],
         "y": [
          138,
          41,
          41,
          41,
          41,
          41,
          21,
          21,
          21,
          21,
          21,
          21,
          21,
          21,
          21,
          21,
          21,
          21,
          21,
          21,
          21,
          11,
          11,
          11,
          11,
          11,
          11,
          11,
          11,
          11,
          11,
          11,
          11,
          11,
          11,
          11,
          11,
          11,
          11,
          11,
          11,
          11
         ]
        }
       ],
       "layout": {
        "template": {
         "data": {
          "bar": [
           {
            "error_x": {
             "color": "#2a3f5f"
            },
            "error_y": {
             "color": "#2a3f5f"
            },
            "marker": {
             "line": {
              "color": "#E5ECF6",
              "width": 0.5
             }
            },
            "type": "bar"
           }
          ],
          "barpolar": [
           {
            "marker": {
             "line": {
              "color": "#E5ECF6",
              "width": 0.5
             }
            },
            "type": "barpolar"
           }
          ],
          "carpet": [
           {
            "aaxis": {
             "endlinecolor": "#2a3f5f",
             "gridcolor": "white",
             "linecolor": "white",
             "minorgridcolor": "white",
             "startlinecolor": "#2a3f5f"
            },
            "baxis": {
             "endlinecolor": "#2a3f5f",
             "gridcolor": "white",
             "linecolor": "white",
             "minorgridcolor": "white",
             "startlinecolor": "#2a3f5f"
            },
            "type": "carpet"
           }
          ],
          "choropleth": [
           {
            "colorbar": {
             "outlinewidth": 0,
             "ticks": ""
            },
            "type": "choropleth"
           }
          ],
          "contour": [
           {
            "colorbar": {
             "outlinewidth": 0,
             "ticks": ""
            },
            "colorscale": [
             [
              0,
              "#0d0887"
             ],
             [
              0.1111111111111111,
              "#46039f"
             ],
             [
              0.2222222222222222,
              "#7201a8"
             ],
             [
              0.3333333333333333,
              "#9c179e"
             ],
             [
              0.4444444444444444,
              "#bd3786"
             ],
             [
              0.5555555555555556,
              "#d8576b"
             ],
             [
              0.6666666666666666,
              "#ed7953"
             ],
             [
              0.7777777777777778,
              "#fb9f3a"
             ],
             [
              0.8888888888888888,
              "#fdca26"
             ],
             [
              1,
              "#f0f921"
             ]
            ],
            "type": "contour"
           }
          ],
          "contourcarpet": [
           {
            "colorbar": {
             "outlinewidth": 0,
             "ticks": ""
            },
            "type": "contourcarpet"
           }
          ],
          "heatmap": [
           {
            "colorbar": {
             "outlinewidth": 0,
             "ticks": ""
            },
            "colorscale": [
             [
              0,
              "#0d0887"
             ],
             [
              0.1111111111111111,
              "#46039f"
             ],
             [
              0.2222222222222222,
              "#7201a8"
             ],
             [
              0.3333333333333333,
              "#9c179e"
             ],
             [
              0.4444444444444444,
              "#bd3786"
             ],
             [
              0.5555555555555556,
              "#d8576b"
             ],
             [
              0.6666666666666666,
              "#ed7953"
             ],
             [
              0.7777777777777778,
              "#fb9f3a"
             ],
             [
              0.8888888888888888,
              "#fdca26"
             ],
             [
              1,
              "#f0f921"
             ]
            ],
            "type": "heatmap"
           }
          ],
          "heatmapgl": [
           {
            "colorbar": {
             "outlinewidth": 0,
             "ticks": ""
            },
            "colorscale": [
             [
              0,
              "#0d0887"
             ],
             [
              0.1111111111111111,
              "#46039f"
             ],
             [
              0.2222222222222222,
              "#7201a8"
             ],
             [
              0.3333333333333333,
              "#9c179e"
             ],
             [
              0.4444444444444444,
              "#bd3786"
             ],
             [
              0.5555555555555556,
              "#d8576b"
             ],
             [
              0.6666666666666666,
              "#ed7953"
             ],
             [
              0.7777777777777778,
              "#fb9f3a"
             ],
             [
              0.8888888888888888,
              "#fdca26"
             ],
             [
              1,
              "#f0f921"
             ]
            ],
            "type": "heatmapgl"
           }
          ],
          "histogram": [
           {
            "marker": {
             "colorbar": {
              "outlinewidth": 0,
              "ticks": ""
             }
            },
            "type": "histogram"
           }
          ],
          "histogram2d": [
           {
            "colorbar": {
             "outlinewidth": 0,
             "ticks": ""
            },
            "colorscale": [
             [
              0,
              "#0d0887"
             ],
             [
              0.1111111111111111,
              "#46039f"
             ],
             [
              0.2222222222222222,
              "#7201a8"
             ],
             [
              0.3333333333333333,
              "#9c179e"
             ],
             [
              0.4444444444444444,
              "#bd3786"
             ],
             [
              0.5555555555555556,
              "#d8576b"
             ],
             [
              0.6666666666666666,
              "#ed7953"
             ],
             [
              0.7777777777777778,
              "#fb9f3a"
             ],
             [
              0.8888888888888888,
              "#fdca26"
             ],
             [
              1,
              "#f0f921"
             ]
            ],
            "type": "histogram2d"
           }
          ],
          "histogram2dcontour": [
           {
            "colorbar": {
             "outlinewidth": 0,
             "ticks": ""
            },
            "colorscale": [
             [
              0,
              "#0d0887"
             ],
             [
              0.1111111111111111,
              "#46039f"
             ],
             [
              0.2222222222222222,
              "#7201a8"
             ],
             [
              0.3333333333333333,
              "#9c179e"
             ],
             [
              0.4444444444444444,
              "#bd3786"
             ],
             [
              0.5555555555555556,
              "#d8576b"
             ],
             [
              0.6666666666666666,
              "#ed7953"
             ],
             [
              0.7777777777777778,
              "#fb9f3a"
             ],
             [
              0.8888888888888888,
              "#fdca26"
             ],
             [
              1,
              "#f0f921"
             ]
            ],
            "type": "histogram2dcontour"
           }
          ],
          "mesh3d": [
           {
            "colorbar": {
             "outlinewidth": 0,
             "ticks": ""
            },
            "type": "mesh3d"
           }
          ],
          "parcoords": [
           {
            "line": {
             "colorbar": {
              "outlinewidth": 0,
              "ticks": ""
             }
            },
            "type": "parcoords"
           }
          ],
          "pie": [
           {
            "automargin": true,
            "type": "pie"
           }
          ],
          "scatter": [
           {
            "marker": {
             "colorbar": {
              "outlinewidth": 0,
              "ticks": ""
             }
            },
            "type": "scatter"
           }
          ],
          "scatter3d": [
           {
            "line": {
             "colorbar": {
              "outlinewidth": 0,
              "ticks": ""
             }
            },
            "marker": {
             "colorbar": {
              "outlinewidth": 0,
              "ticks": ""
             }
            },
            "type": "scatter3d"
           }
          ],
          "scattercarpet": [
           {
            "marker": {
             "colorbar": {
              "outlinewidth": 0,
              "ticks": ""
             }
            },
            "type": "scattercarpet"
           }
          ],
          "scattergeo": [
           {
            "marker": {
             "colorbar": {
              "outlinewidth": 0,
              "ticks": ""
             }
            },
            "type": "scattergeo"
           }
          ],
          "scattergl": [
           {
            "marker": {
             "colorbar": {
              "outlinewidth": 0,
              "ticks": ""
             }
            },
            "type": "scattergl"
           }
          ],
          "scattermapbox": [
           {
            "marker": {
             "colorbar": {
              "outlinewidth": 0,
              "ticks": ""
             }
            },
            "type": "scattermapbox"
           }
          ],
          "scatterpolar": [
           {
            "marker": {
             "colorbar": {
              "outlinewidth": 0,
              "ticks": ""
             }
            },
            "type": "scatterpolar"
           }
          ],
          "scatterpolargl": [
           {
            "marker": {
             "colorbar": {
              "outlinewidth": 0,
              "ticks": ""
             }
            },
            "type": "scatterpolargl"
           }
          ],
          "scatterternary": [
           {
            "marker": {
             "colorbar": {
              "outlinewidth": 0,
              "ticks": ""
             }
            },
            "type": "scatterternary"
           }
          ],
          "surface": [
           {
            "colorbar": {
             "outlinewidth": 0,
             "ticks": ""
            },
            "colorscale": [
             [
              0,
              "#0d0887"
             ],
             [
              0.1111111111111111,
              "#46039f"
             ],
             [
              0.2222222222222222,
              "#7201a8"
             ],
             [
              0.3333333333333333,
              "#9c179e"
             ],
             [
              0.4444444444444444,
              "#bd3786"
             ],
             [
              0.5555555555555556,
              "#d8576b"
             ],
             [
              0.6666666666666666,
              "#ed7953"
             ],
             [
              0.7777777777777778,
              "#fb9f3a"
             ],
             [
              0.8888888888888888,
              "#fdca26"
             ],
             [
              1,
              "#f0f921"
             ]
            ],
            "type": "surface"
           }
          ],
          "table": [
           {
            "cells": {
             "fill": {
              "color": "#EBF0F8"
             },
             "line": {
              "color": "white"
             }
            },
            "header": {
             "fill": {
              "color": "#C8D4E3"
             },
             "line": {
              "color": "white"
             }
            },
            "type": "table"
           }
          ]
         },
         "layout": {
          "annotationdefaults": {
           "arrowcolor": "#2a3f5f",
           "arrowhead": 0,
           "arrowwidth": 1
          },
          "coloraxis": {
           "colorbar": {
            "outlinewidth": 0,
            "ticks": ""
           }
          },
          "colorscale": {
           "diverging": [
            [
             0,
             "#8e0152"
            ],
            [
             0.1,
             "#c51b7d"
            ],
            [
             0.2,
             "#de77ae"
            ],
            [
             0.3,
             "#f1b6da"
            ],
            [
             0.4,
             "#fde0ef"
            ],
            [
             0.5,
             "#f7f7f7"
            ],
            [
             0.6,
             "#e6f5d0"
            ],
            [
             0.7,
             "#b8e186"
            ],
            [
             0.8,
             "#7fbc41"
            ],
            [
             0.9,
             "#4d9221"
            ],
            [
             1,
             "#276419"
            ]
           ],
           "sequential": [
            [
             0,
             "#0d0887"
            ],
            [
             0.1111111111111111,
             "#46039f"
            ],
            [
             0.2222222222222222,
             "#7201a8"
            ],
            [
             0.3333333333333333,
             "#9c179e"
            ],
            [
             0.4444444444444444,
             "#bd3786"
            ],
            [
             0.5555555555555556,
             "#d8576b"
            ],
            [
             0.6666666666666666,
             "#ed7953"
            ],
            [
             0.7777777777777778,
             "#fb9f3a"
            ],
            [
             0.8888888888888888,
             "#fdca26"
            ],
            [
             1,
             "#f0f921"
            ]
           ],
           "sequentialminus": [
            [
             0,
             "#0d0887"
            ],
            [
             0.1111111111111111,
             "#46039f"
            ],
            [
             0.2222222222222222,
             "#7201a8"
            ],
            [
             0.3333333333333333,
             "#9c179e"
            ],
            [
             0.4444444444444444,
             "#bd3786"
            ],
            [
             0.5555555555555556,
             "#d8576b"
            ],
            [
             0.6666666666666666,
             "#ed7953"
            ],
            [
             0.7777777777777778,
             "#fb9f3a"
            ],
            [
             0.8888888888888888,
             "#fdca26"
            ],
            [
             1,
             "#f0f921"
            ]
           ]
          },
          "colorway": [
           "#636efa",
           "#EF553B",
           "#00cc96",
           "#ab63fa",
           "#FFA15A",
           "#19d3f3",
           "#FF6692",
           "#B6E880",
           "#FF97FF",
           "#FECB52"
          ],
          "font": {
           "color": "#2a3f5f"
          },
          "geo": {
           "bgcolor": "white",
           "lakecolor": "white",
           "landcolor": "#E5ECF6",
           "showlakes": true,
           "showland": true,
           "subunitcolor": "white"
          },
          "hoverlabel": {
           "align": "left"
          },
          "hovermode": "closest",
          "mapbox": {
           "style": "light"
          },
          "paper_bgcolor": "white",
          "plot_bgcolor": "#E5ECF6",
          "polar": {
           "angularaxis": {
            "gridcolor": "white",
            "linecolor": "white",
            "ticks": ""
           },
           "bgcolor": "#E5ECF6",
           "radialaxis": {
            "gridcolor": "white",
            "linecolor": "white",
            "ticks": ""
           }
          },
          "scene": {
           "xaxis": {
            "backgroundcolor": "#E5ECF6",
            "gridcolor": "white",
            "gridwidth": 2,
            "linecolor": "white",
            "showbackground": true,
            "ticks": "",
            "zerolinecolor": "white"
           },
           "yaxis": {
            "backgroundcolor": "#E5ECF6",
            "gridcolor": "white",
            "gridwidth": 2,
            "linecolor": "white",
            "showbackground": true,
            "ticks": "",
            "zerolinecolor": "white"
           },
           "zaxis": {
            "backgroundcolor": "#E5ECF6",
            "gridcolor": "white",
            "gridwidth": 2,
            "linecolor": "white",
            "showbackground": true,
            "ticks": "",
            "zerolinecolor": "white"
           }
          },
          "shapedefaults": {
           "line": {
            "color": "#2a3f5f"
           }
          },
          "ternary": {
           "aaxis": {
            "gridcolor": "white",
            "linecolor": "white",
            "ticks": ""
           },
           "baxis": {
            "gridcolor": "white",
            "linecolor": "white",
            "ticks": ""
           },
           "bgcolor": "#E5ECF6",
           "caxis": {
            "gridcolor": "white",
            "linecolor": "white",
            "ticks": ""
           }
          },
          "title": {
           "x": 0.05
          },
          "xaxis": {
           "automargin": true,
           "gridcolor": "white",
           "linecolor": "white",
           "ticks": "",
           "title": {
            "standoff": 15
           },
           "zerolinecolor": "white",
           "zerolinewidth": 2
          },
          "yaxis": {
           "automargin": true,
           "gridcolor": "white",
           "linecolor": "white",
           "ticks": "",
           "title": {
            "standoff": 15
           },
           "zerolinecolor": "white",
           "zerolinewidth": 2
          }
         }
        }
       }
      },
      "text/html": [
       "<div>\n",
       "        \n",
       "        \n",
       "            <div id=\"58fe9055-b175-4611-8d1e-381d9fee4874\" class=\"plotly-graph-div\" style=\"height:525px; width:100%;\"></div>\n",
       "            <script type=\"text/javascript\">\n",
       "                require([\"plotly\"], function(Plotly) {\n",
       "                    window.PLOTLYENV=window.PLOTLYENV || {};\n",
       "                    \n",
       "                if (document.getElementById(\"58fe9055-b175-4611-8d1e-381d9fee4874\")) {\n",
       "                    Plotly.newPlot(\n",
       "                        '58fe9055-b175-4611-8d1e-381d9fee4874',\n",
       "                        [{\"type\": \"bar\", \"x\": [\"Polar Non-metered Product\", \"Sun King Home 120 Easy Buy\", \"Polar PAYG Product\", \"Omnivoltaic Pilot Bluetooth\", \"Solar Village Battery Stick\", \"Fosera LSHS\", \"Sun King Home 120 Plus Easy Buy\", \"BioLite SolarHome 620\", \"WOWsolarTV\", \"RAYGO150\", \"Sun King Boom Easy Buy\", \"Niwa Energy 50 (42Wh)\", \"Bright Sun Bell Smart\", \"Bright Home 58\", \"Sun King Home 40Z Easy Buy\", \"Fosera PSHS\", \"JUA Home Mate H2G\", \"Bright Move\", \"Sun King Home 60 Easy Buy\", \"Sun King Home 400 Easybuy Keypad\", \"Futurepump\", \"Sun King Home 400 Easybuy GSM\", \"WOWsolar60\", \"JUA Home Mate H1G\", \"Bright Sun Bell\", \"Sun King Eco Easy Buy\", \"JUA Home Mate H1G Lite\", \"Fosera LSHS GSM\", \"Renewit Small Home Power Station\", \"Renewit Home Power Station\", \"WOWsolar100\", \"Niwa Energy 50 (128Wh)\", \"Omnivoltaic Catch (Keycode)\", \"Polar Wireless Product\", \"Omnivoltaic Pilot L190 Bluetooth\", \"Omnivoltaic Camp\", \"Omnivoltaic M600\", \"Sun King Pro Easy Buy\", \"Polar GSM Product\", \"Bright Move Smart\", \"Omnivoltaic M400\", \"Bright Home 29\"], \"y\": [138, 41, 41, 41, 41, 41, 21, 21, 21, 21, 21, 21, 21, 21, 21, 21, 21, 21, 21, 21, 21, 11, 11, 11, 11, 11, 11, 11, 11, 11, 11, 11, 11, 11, 11, 11, 11, 11, 11, 11, 11, 11]}],\n",
       "                        {\"template\": {\"data\": {\"bar\": [{\"error_x\": {\"color\": \"#2a3f5f\"}, \"error_y\": {\"color\": \"#2a3f5f\"}, \"marker\": {\"line\": {\"color\": \"#E5ECF6\", \"width\": 0.5}}, \"type\": \"bar\"}], \"barpolar\": [{\"marker\": {\"line\": {\"color\": \"#E5ECF6\", \"width\": 0.5}}, \"type\": \"barpolar\"}], \"carpet\": [{\"aaxis\": {\"endlinecolor\": \"#2a3f5f\", \"gridcolor\": \"white\", \"linecolor\": \"white\", \"minorgridcolor\": \"white\", \"startlinecolor\": \"#2a3f5f\"}, \"baxis\": {\"endlinecolor\": \"#2a3f5f\", \"gridcolor\": \"white\", \"linecolor\": \"white\", \"minorgridcolor\": \"white\", \"startlinecolor\": \"#2a3f5f\"}, \"type\": \"carpet\"}], \"choropleth\": [{\"colorbar\": {\"outlinewidth\": 0, \"ticks\": \"\"}, \"type\": \"choropleth\"}], \"contour\": [{\"colorbar\": {\"outlinewidth\": 0, \"ticks\": \"\"}, \"colorscale\": [[0.0, \"#0d0887\"], [0.1111111111111111, \"#46039f\"], [0.2222222222222222, \"#7201a8\"], [0.3333333333333333, \"#9c179e\"], [0.4444444444444444, \"#bd3786\"], [0.5555555555555556, \"#d8576b\"], [0.6666666666666666, \"#ed7953\"], [0.7777777777777778, \"#fb9f3a\"], [0.8888888888888888, \"#fdca26\"], [1.0, \"#f0f921\"]], \"type\": \"contour\"}], \"contourcarpet\": [{\"colorbar\": {\"outlinewidth\": 0, \"ticks\": \"\"}, \"type\": \"contourcarpet\"}], \"heatmap\": [{\"colorbar\": {\"outlinewidth\": 0, \"ticks\": \"\"}, \"colorscale\": [[0.0, \"#0d0887\"], [0.1111111111111111, \"#46039f\"], [0.2222222222222222, \"#7201a8\"], [0.3333333333333333, \"#9c179e\"], [0.4444444444444444, \"#bd3786\"], [0.5555555555555556, \"#d8576b\"], [0.6666666666666666, \"#ed7953\"], [0.7777777777777778, \"#fb9f3a\"], [0.8888888888888888, \"#fdca26\"], [1.0, \"#f0f921\"]], \"type\": \"heatmap\"}], \"heatmapgl\": [{\"colorbar\": {\"outlinewidth\": 0, \"ticks\": \"\"}, \"colorscale\": [[0.0, \"#0d0887\"], [0.1111111111111111, \"#46039f\"], [0.2222222222222222, \"#7201a8\"], [0.3333333333333333, \"#9c179e\"], [0.4444444444444444, \"#bd3786\"], [0.5555555555555556, \"#d8576b\"], [0.6666666666666666, \"#ed7953\"], [0.7777777777777778, \"#fb9f3a\"], [0.8888888888888888, \"#fdca26\"], [1.0, \"#f0f921\"]], \"type\": \"heatmapgl\"}], \"histogram\": [{\"marker\": {\"colorbar\": {\"outlinewidth\": 0, \"ticks\": \"\"}}, \"type\": \"histogram\"}], \"histogram2d\": [{\"colorbar\": {\"outlinewidth\": 0, \"ticks\": \"\"}, \"colorscale\": [[0.0, \"#0d0887\"], [0.1111111111111111, \"#46039f\"], [0.2222222222222222, \"#7201a8\"], [0.3333333333333333, \"#9c179e\"], [0.4444444444444444, \"#bd3786\"], [0.5555555555555556, \"#d8576b\"], [0.6666666666666666, \"#ed7953\"], [0.7777777777777778, \"#fb9f3a\"], [0.8888888888888888, \"#fdca26\"], [1.0, \"#f0f921\"]], \"type\": \"histogram2d\"}], \"histogram2dcontour\": [{\"colorbar\": {\"outlinewidth\": 0, \"ticks\": \"\"}, \"colorscale\": [[0.0, \"#0d0887\"], [0.1111111111111111, \"#46039f\"], [0.2222222222222222, \"#7201a8\"], [0.3333333333333333, \"#9c179e\"], [0.4444444444444444, \"#bd3786\"], [0.5555555555555556, \"#d8576b\"], [0.6666666666666666, \"#ed7953\"], [0.7777777777777778, \"#fb9f3a\"], [0.8888888888888888, \"#fdca26\"], [1.0, \"#f0f921\"]], \"type\": \"histogram2dcontour\"}], \"mesh3d\": [{\"colorbar\": {\"outlinewidth\": 0, \"ticks\": \"\"}, \"type\": \"mesh3d\"}], \"parcoords\": [{\"line\": {\"colorbar\": {\"outlinewidth\": 0, \"ticks\": \"\"}}, \"type\": \"parcoords\"}], \"pie\": [{\"automargin\": true, \"type\": \"pie\"}], \"scatter\": [{\"marker\": {\"colorbar\": {\"outlinewidth\": 0, \"ticks\": \"\"}}, \"type\": \"scatter\"}], \"scatter3d\": [{\"line\": {\"colorbar\": {\"outlinewidth\": 0, \"ticks\": \"\"}}, \"marker\": {\"colorbar\": {\"outlinewidth\": 0, \"ticks\": \"\"}}, \"type\": \"scatter3d\"}], \"scattercarpet\": [{\"marker\": {\"colorbar\": {\"outlinewidth\": 0, \"ticks\": \"\"}}, \"type\": \"scattercarpet\"}], \"scattergeo\": [{\"marker\": {\"colorbar\": {\"outlinewidth\": 0, \"ticks\": \"\"}}, \"type\": \"scattergeo\"}], \"scattergl\": [{\"marker\": {\"colorbar\": {\"outlinewidth\": 0, \"ticks\": \"\"}}, \"type\": \"scattergl\"}], \"scattermapbox\": [{\"marker\": {\"colorbar\": {\"outlinewidth\": 0, \"ticks\": \"\"}}, \"type\": \"scattermapbox\"}], \"scatterpolar\": [{\"marker\": {\"colorbar\": {\"outlinewidth\": 0, \"ticks\": \"\"}}, \"type\": \"scatterpolar\"}], \"scatterpolargl\": [{\"marker\": {\"colorbar\": {\"outlinewidth\": 0, \"ticks\": \"\"}}, \"type\": \"scatterpolargl\"}], \"scatterternary\": [{\"marker\": {\"colorbar\": {\"outlinewidth\": 0, \"ticks\": \"\"}}, \"type\": \"scatterternary\"}], \"surface\": [{\"colorbar\": {\"outlinewidth\": 0, \"ticks\": \"\"}, \"colorscale\": [[0.0, \"#0d0887\"], [0.1111111111111111, \"#46039f\"], [0.2222222222222222, \"#7201a8\"], [0.3333333333333333, \"#9c179e\"], [0.4444444444444444, \"#bd3786\"], [0.5555555555555556, \"#d8576b\"], [0.6666666666666666, \"#ed7953\"], [0.7777777777777778, \"#fb9f3a\"], [0.8888888888888888, \"#fdca26\"], [1.0, \"#f0f921\"]], \"type\": \"surface\"}], \"table\": [{\"cells\": {\"fill\": {\"color\": \"#EBF0F8\"}, \"line\": {\"color\": \"white\"}}, \"header\": {\"fill\": {\"color\": \"#C8D4E3\"}, \"line\": {\"color\": \"white\"}}, \"type\": \"table\"}]}, \"layout\": {\"annotationdefaults\": {\"arrowcolor\": \"#2a3f5f\", \"arrowhead\": 0, \"arrowwidth\": 1}, \"coloraxis\": {\"colorbar\": {\"outlinewidth\": 0, \"ticks\": \"\"}}, \"colorscale\": {\"diverging\": [[0, \"#8e0152\"], [0.1, \"#c51b7d\"], [0.2, \"#de77ae\"], [0.3, \"#f1b6da\"], [0.4, \"#fde0ef\"], [0.5, \"#f7f7f7\"], [0.6, \"#e6f5d0\"], [0.7, \"#b8e186\"], [0.8, \"#7fbc41\"], [0.9, \"#4d9221\"], [1, \"#276419\"]], \"sequential\": [[0.0, \"#0d0887\"], [0.1111111111111111, \"#46039f\"], [0.2222222222222222, \"#7201a8\"], [0.3333333333333333, \"#9c179e\"], [0.4444444444444444, \"#bd3786\"], [0.5555555555555556, \"#d8576b\"], [0.6666666666666666, \"#ed7953\"], [0.7777777777777778, \"#fb9f3a\"], [0.8888888888888888, \"#fdca26\"], [1.0, \"#f0f921\"]], \"sequentialminus\": [[0.0, \"#0d0887\"], [0.1111111111111111, \"#46039f\"], [0.2222222222222222, \"#7201a8\"], [0.3333333333333333, \"#9c179e\"], [0.4444444444444444, \"#bd3786\"], [0.5555555555555556, \"#d8576b\"], [0.6666666666666666, \"#ed7953\"], [0.7777777777777778, \"#fb9f3a\"], [0.8888888888888888, \"#fdca26\"], [1.0, \"#f0f921\"]]}, \"colorway\": [\"#636efa\", \"#EF553B\", \"#00cc96\", \"#ab63fa\", \"#FFA15A\", \"#19d3f3\", \"#FF6692\", \"#B6E880\", \"#FF97FF\", \"#FECB52\"], \"font\": {\"color\": \"#2a3f5f\"}, \"geo\": {\"bgcolor\": \"white\", \"lakecolor\": \"white\", \"landcolor\": \"#E5ECF6\", \"showlakes\": true, \"showland\": true, \"subunitcolor\": \"white\"}, \"hoverlabel\": {\"align\": \"left\"}, \"hovermode\": \"closest\", \"mapbox\": {\"style\": \"light\"}, \"paper_bgcolor\": \"white\", \"plot_bgcolor\": \"#E5ECF6\", \"polar\": {\"angularaxis\": {\"gridcolor\": \"white\", \"linecolor\": \"white\", \"ticks\": \"\"}, \"bgcolor\": \"#E5ECF6\", \"radialaxis\": {\"gridcolor\": \"white\", \"linecolor\": \"white\", \"ticks\": \"\"}}, \"scene\": {\"xaxis\": {\"backgroundcolor\": \"#E5ECF6\", \"gridcolor\": \"white\", \"gridwidth\": 2, \"linecolor\": \"white\", \"showbackground\": true, \"ticks\": \"\", \"zerolinecolor\": \"white\"}, \"yaxis\": {\"backgroundcolor\": \"#E5ECF6\", \"gridcolor\": \"white\", \"gridwidth\": 2, \"linecolor\": \"white\", \"showbackground\": true, \"ticks\": \"\", \"zerolinecolor\": \"white\"}, \"zaxis\": {\"backgroundcolor\": \"#E5ECF6\", \"gridcolor\": \"white\", \"gridwidth\": 2, \"linecolor\": \"white\", \"showbackground\": true, \"ticks\": \"\", \"zerolinecolor\": \"white\"}}, \"shapedefaults\": {\"line\": {\"color\": \"#2a3f5f\"}}, \"ternary\": {\"aaxis\": {\"gridcolor\": \"white\", \"linecolor\": \"white\", \"ticks\": \"\"}, \"baxis\": {\"gridcolor\": \"white\", \"linecolor\": \"white\", \"ticks\": \"\"}, \"bgcolor\": \"#E5ECF6\", \"caxis\": {\"gridcolor\": \"white\", \"linecolor\": \"white\", \"ticks\": \"\"}}, \"title\": {\"x\": 0.05}, \"xaxis\": {\"automargin\": true, \"gridcolor\": \"white\", \"linecolor\": \"white\", \"ticks\": \"\", \"title\": {\"standoff\": 15}, \"zerolinecolor\": \"white\", \"zerolinewidth\": 2}, \"yaxis\": {\"automargin\": true, \"gridcolor\": \"white\", \"linecolor\": \"white\", \"ticks\": \"\", \"title\": {\"standoff\": 15}, \"zerolinecolor\": \"white\", \"zerolinewidth\": 2}}}},\n",
       "                        {\"responsive\": true}\n",
       "                    ).then(function(){\n",
       "                            \n",
       "var gd = document.getElementById('58fe9055-b175-4611-8d1e-381d9fee4874');\n",
       "var x = new MutationObserver(function (mutations, observer) {{\n",
       "        var display = window.getComputedStyle(gd).display;\n",
       "        if (!display || display === 'none') {{\n",
       "            console.log([gd, 'removed!']);\n",
       "            Plotly.purge(gd);\n",
       "            observer.disconnect();\n",
       "        }}\n",
       "}});\n",
       "\n",
       "// Listen for the removal of the full notebook cells\n",
       "var notebookContainer = gd.closest('#notebook-container');\n",
       "if (notebookContainer) {{\n",
       "    x.observe(notebookContainer, {childList: true});\n",
       "}}\n",
       "\n",
       "// Listen for the clearing of the current output cell\n",
       "var outputEl = gd.closest('.output');\n",
       "if (outputEl) {{\n",
       "    x.observe(outputEl, {childList: true});\n",
       "}}\n",
       "\n",
       "                        })\n",
       "                };\n",
       "                });\n",
       "            </script>\n",
       "        </div>"
      ]
     },
     "metadata": {},
     "output_type": "display_data"
    }
   ],
   "source": [
    "dfq11 = accts.merge(group, on=['group_id']) \\\n",
    "    .merge(gpa, on=['group_id']) \\\n",
    "    .merge(products, on=['product_id'])\n",
    "dfq11=dfq11.drop_duplicates(subset=['account_id','product_id']) \\\n",
    "\n",
    "display(dfq11.head())\n",
    "dfq11.info()\n",
    "dfq11.columns\n",
    "dfq11.index\n",
    "\n",
    "# Identify totals\n",
    "num_prod = len(dfq11['product_name'].unique())\n",
    "num_acct = len(dfq11['account_id'].unique())\n",
    "tot_prod = len(dfq11)\n",
    "print('Number of unique products = ', num_prod)\n",
    "print('Number of unique accounts = ', num_acct)\n",
    "print('Total products sold amongst all accounts = ', tot_prod)\n",
    "\n",
    "# Count number of accts registered with each product and sort them in descending order\n",
    "num_accts_in_prod = dfq11['product_name'].value_counts().sort_values(ascending = False)\n",
    "\n",
    "data = [go.Bar(\n",
    "        x = num_accts_in_prod.index,\n",
    "        y = num_accts_in_prod.values)]\n",
    "\n",
    "plotly.offline.iplot(data)"
   ]
  },
  {
   "cell_type": "markdown",
   "metadata": {},
   "source": [
    "Part 1: Data Handling:\n",
    "2.  Devise a method of generating a table of all Accounts with their State as of any arbitrary timestamp in the past and the total time they had been in that state as of the timestamp."
   ]
  },
  {
   "cell_type": "code",
   "execution_count": 16,
   "metadata": {
    "scrolled": false
   },
   "outputs": [
    {
     "data": {
      "text/html": [
       "<div>\n",
       "<style scoped>\n",
       "    .dataframe tbody tr th:only-of-type {\n",
       "        vertical-align: middle;\n",
       "    }\n",
       "\n",
       "    .dataframe tbody tr th {\n",
       "        vertical-align: top;\n",
       "    }\n",
       "\n",
       "    .dataframe thead th {\n",
       "        text-align: right;\n",
       "    }\n",
       "</style>\n",
       "<table border=\"1\" class=\"dataframe\">\n",
       "  <thead>\n",
       "    <tr style=\"text-align: right;\">\n",
       "      <th></th>\n",
       "      <th>account_id</th>\n",
       "      <th>to_state</th>\n",
       "      <th>time_in_state</th>\n",
       "    </tr>\n",
       "  </thead>\n",
       "  <tbody>\n",
       "    <tr>\n",
       "      <td>11860</td>\n",
       "      <td>1</td>\n",
       "      <td>ENABLED</td>\n",
       "      <td>5 days 17:59:17.428608</td>\n",
       "    </tr>\n",
       "    <tr>\n",
       "      <td>12</td>\n",
       "      <td>2</td>\n",
       "      <td>ENABLED</td>\n",
       "      <td>0 days 23:17:54.428608</td>\n",
       "    </tr>\n",
       "    <tr>\n",
       "      <td>37</td>\n",
       "      <td>3</td>\n",
       "      <td>ENABLED</td>\n",
       "      <td>0 days 21:54:10.428608</td>\n",
       "    </tr>\n",
       "    <tr>\n",
       "      <td>51</td>\n",
       "      <td>4</td>\n",
       "      <td>ENABLED</td>\n",
       "      <td>20 days 20:41:06.428608</td>\n",
       "    </tr>\n",
       "    <tr>\n",
       "      <td>77</td>\n",
       "      <td>5</td>\n",
       "      <td>DISABLED</td>\n",
       "      <td>4 days 15:12:16.954924</td>\n",
       "    </tr>\n",
       "    <tr>\n",
       "      <td>111</td>\n",
       "      <td>6</td>\n",
       "      <td>DISABLED</td>\n",
       "      <td>2 days 20:46:02.533871</td>\n",
       "    </tr>\n",
       "    <tr>\n",
       "      <td>12321</td>\n",
       "      <td>7</td>\n",
       "      <td>DISABLED</td>\n",
       "      <td>8 days 05:41:42.060187</td>\n",
       "    </tr>\n",
       "    <tr>\n",
       "      <td>145</td>\n",
       "      <td>9</td>\n",
       "      <td>ENABLED</td>\n",
       "      <td>1 days 00:48:45.428608</td>\n",
       "    </tr>\n",
       "    <tr>\n",
       "      <td>164</td>\n",
       "      <td>10</td>\n",
       "      <td>ENABLED</td>\n",
       "      <td>16 days 20:21:28.428608</td>\n",
       "    </tr>\n",
       "    <tr>\n",
       "      <td>202</td>\n",
       "      <td>11</td>\n",
       "      <td>DISABLED</td>\n",
       "      <td>0 days 23:58:49.218082</td>\n",
       "    </tr>\n",
       "    <tr>\n",
       "      <td>239</td>\n",
       "      <td>12</td>\n",
       "      <td>DISABLED</td>\n",
       "      <td>5 days 05:08:54.428608</td>\n",
       "    </tr>\n",
       "    <tr>\n",
       "      <td>12917</td>\n",
       "      <td>13</td>\n",
       "      <td>DISABLED</td>\n",
       "      <td>4 days 15:31:25.228608</td>\n",
       "    </tr>\n",
       "    <tr>\n",
       "      <td>304</td>\n",
       "      <td>14</td>\n",
       "      <td>DISABLED</td>\n",
       "      <td>4 days 15:47:34.028608</td>\n",
       "    </tr>\n",
       "    <tr>\n",
       "      <td>327</td>\n",
       "      <td>15</td>\n",
       "      <td>DISABLED</td>\n",
       "      <td>60 days 15:31:02.428608</td>\n",
       "    </tr>\n",
       "    <tr>\n",
       "      <td>377</td>\n",
       "      <td>16</td>\n",
       "      <td>DISABLED</td>\n",
       "      <td>6 days 00:40:53.628608</td>\n",
       "    </tr>\n",
       "  </tbody>\n",
       "</table>\n",
       "</div>"
      ],
      "text/plain": [
       "       account_id  to_state           time_in_state\n",
       "11860           1   ENABLED  5 days 17:59:17.428608\n",
       "12              2   ENABLED  0 days 23:17:54.428608\n",
       "37              3   ENABLED  0 days 21:54:10.428608\n",
       "51              4   ENABLED 20 days 20:41:06.428608\n",
       "77              5  DISABLED  4 days 15:12:16.954924\n",
       "111             6  DISABLED  2 days 20:46:02.533871\n",
       "12321           7  DISABLED  8 days 05:41:42.060187\n",
       "145             9   ENABLED  1 days 00:48:45.428608\n",
       "164            10   ENABLED 16 days 20:21:28.428608\n",
       "202            11  DISABLED  0 days 23:58:49.218082\n",
       "239            12  DISABLED  5 days 05:08:54.428608\n",
       "12917          13  DISABLED  4 days 15:31:25.228608\n",
       "304            14  DISABLED  4 days 15:47:34.028608\n",
       "327            15  DISABLED 60 days 15:31:02.428608\n",
       "377            16  DISABLED  6 days 00:40:53.628608"
      ]
     },
     "metadata": {},
     "output_type": "display_data"
    },
    {
     "name": "stdout",
     "output_type": "stream",
     "text": [
      "<class 'pandas.core.frame.DataFrame'>\n",
      "Int64Index: 470 entries, 11860 to 11762\n",
      "Data columns (total 3 columns):\n",
      "account_id       470 non-null int64\n",
      "to_state         470 non-null object\n",
      "time_in_state    470 non-null timedelta64[ns]\n",
      "dtypes: int64(1), object(1), timedelta64[ns](1)\n",
      "memory usage: 14.7+ KB\n"
     ]
    },
    {
     "data": {
      "text/plain": [
       "None"
      ]
     },
     "metadata": {},
     "output_type": "display_data"
    }
   ],
   "source": [
    "timestamp2 = \"2020-01-01 00:00:00\"\n",
    "\n",
    "dfq12 = ast.filter(['account_id','ast_id','started_when','to_state'])\n",
    "\n",
    "dfq12['timestamp'] = timestamp2\n",
    "dfq12['timestamp'] = pd.to_datetime(dfq12['timestamp'], format='%Y-%m-%d %H:%M:%S')\n",
    "dfq12['started_when'] = pd.to_datetime(dfq12['started_when'], format='%Y-%m-%d %H:%M:%S')\n",
    "\n",
    "dfq12['time_in_state'] = dfq12['timestamp'] - dfq12['started_when']\n",
    "\n",
    "dfq12 = dfq12.loc[(dfq12['started_when'] <= timestamp2)]\n",
    "dfq12 = dfq12.sort_values(['ast_id']).drop_duplicates('account_id', keep='last')\n",
    "dfq12 = dfq12.sort_values('account_id')\n",
    "\n",
    "dfq12 = dfq12.drop(columns=['ast_id', 'started_when', 'timestamp'])\n",
    "\n",
    "display(dfq12.head(15))\n",
    "display(dfq12.info())"
   ]
  },
  {
   "cell_type": "markdown",
   "metadata": {},
   "source": [
    "Part 1: Data Handling:\n",
    "3.  Devise a method of generating a table of all Accounts with their cumulative payments to date as of any arbitrary timestamp in the past."
   ]
  },
  {
   "cell_type": "code",
   "execution_count": 25,
   "metadata": {
    "scrolled": false,
    "slideshow": {
     "slide_type": "slide"
    }
   },
   "outputs": [
    {
     "data": {
      "text/html": [
       "<div>\n",
       "<style scoped>\n",
       "    .dataframe tbody tr th:only-of-type {\n",
       "        vertical-align: middle;\n",
       "    }\n",
       "\n",
       "    .dataframe tbody tr th {\n",
       "        vertical-align: top;\n",
       "    }\n",
       "\n",
       "    .dataframe thead th {\n",
       "        text-align: right;\n",
       "    }\n",
       "</style>\n",
       "<table border=\"1\" class=\"dataframe\">\n",
       "  <thead>\n",
       "    <tr style=\"text-align: right;\">\n",
       "      <th></th>\n",
       "      <th>amount</th>\n",
       "    </tr>\n",
       "    <tr>\n",
       "      <th>account_id</th>\n",
       "      <th></th>\n",
       "    </tr>\n",
       "  </thead>\n",
       "  <tbody>\n",
       "    <tr>\n",
       "      <td>1</td>\n",
       "      <td>1900</td>\n",
       "    </tr>\n",
       "    <tr>\n",
       "      <td>2</td>\n",
       "      <td>4998</td>\n",
       "    </tr>\n",
       "    <tr>\n",
       "      <td>3</td>\n",
       "      <td>4448</td>\n",
       "    </tr>\n",
       "    <tr>\n",
       "      <td>4</td>\n",
       "      <td>3501</td>\n",
       "    </tr>\n",
       "    <tr>\n",
       "      <td>5</td>\n",
       "      <td>4357</td>\n",
       "    </tr>\n",
       "    <tr>\n",
       "      <td>6</td>\n",
       "      <td>5740</td>\n",
       "    </tr>\n",
       "    <tr>\n",
       "      <td>7</td>\n",
       "      <td>3124</td>\n",
       "    </tr>\n",
       "    <tr>\n",
       "      <td>9</td>\n",
       "      <td>5563</td>\n",
       "    </tr>\n",
       "    <tr>\n",
       "      <td>10</td>\n",
       "      <td>3084</td>\n",
       "    </tr>\n",
       "    <tr>\n",
       "      <td>11</td>\n",
       "      <td>5826</td>\n",
       "    </tr>\n",
       "    <tr>\n",
       "      <td>12</td>\n",
       "      <td>4731</td>\n",
       "    </tr>\n",
       "    <tr>\n",
       "      <td>13</td>\n",
       "      <td>3783</td>\n",
       "    </tr>\n",
       "    <tr>\n",
       "      <td>14</td>\n",
       "      <td>5285</td>\n",
       "    </tr>\n",
       "    <tr>\n",
       "      <td>15</td>\n",
       "      <td>3224</td>\n",
       "    </tr>\n",
       "    <tr>\n",
       "      <td>16</td>\n",
       "      <td>5283</td>\n",
       "    </tr>\n",
       "  </tbody>\n",
       "</table>\n",
       "</div>"
      ],
      "text/plain": [
       "            amount\n",
       "account_id        \n",
       "1             1900\n",
       "2             4998\n",
       "3             4448\n",
       "4             3501\n",
       "5             4357\n",
       "6             5740\n",
       "7             3124\n",
       "9             5563\n",
       "10            3084\n",
       "11            5826\n",
       "12            4731\n",
       "13            3783\n",
       "14            5285\n",
       "15            3224\n",
       "16            5283"
      ]
     },
     "metadata": {},
     "output_type": "display_data"
    },
    {
     "name": "stdout",
     "output_type": "stream",
     "text": [
      "<class 'pandas.core.frame.DataFrame'>\n",
      "Int64Index: 470 entries, 1 to 772\n",
      "Data columns (total 1 columns):\n",
      "amount    470 non-null int64\n",
      "dtypes: int64(1)\n",
      "memory usage: 7.3 KB\n"
     ]
    },
    {
     "data": {
      "text/plain": [
       "None"
      ]
     },
     "metadata": {},
     "output_type": "display_data"
    }
   ],
   "source": [
    "timestamp3 = \"2020-01-01 00:00:00\"\n",
    "\n",
    "pymt['effective_when'] = pd.to_datetime(pymt['effective_when'], format='%Y-%m-%d %H:%M:%S')\n",
    "pymtloc = pymt.loc[(pymt.effective_when <= timestamp3)]\n",
    "dfq13 = pymtloc.groupby(['account_id'])['amount','effective_when'].sum()\n",
    "\n",
    "display(dfq13.head(15))\n",
    "display(dfq13.info())"
   ]
  },
  {
   "cell_type": "markdown",
   "metadata": {},
   "source": [
    "Part 1: Data Handling:\n",
    "4. Devise a method of generating a table of all Accounts with their “nominal” expected payments as of any arbitrary timestamp in the past. In other words, we’re looking for the amount the distributor would have collected as of the test date assuming the client had paid the minimum payment instantaneously upon going to a “disabled” state until reaching the unlock price."
   ]
  },
  {
   "cell_type": "code",
   "execution_count": 26,
   "metadata": {
    "scrolled": false
   },
   "outputs": [
    {
     "data": {
      "text/html": [
       "<div>\n",
       "<style scoped>\n",
       "    .dataframe tbody tr th:only-of-type {\n",
       "        vertical-align: middle;\n",
       "    }\n",
       "\n",
       "    .dataframe tbody tr th {\n",
       "        vertical-align: top;\n",
       "    }\n",
       "\n",
       "    .dataframe thead th {\n",
       "        text-align: right;\n",
       "    }\n",
       "</style>\n",
       "<table border=\"1\" class=\"dataframe\">\n",
       "  <thead>\n",
       "    <tr style=\"text-align: right;\">\n",
       "      <th></th>\n",
       "      <th>account_id</th>\n",
       "      <th>expected_payments</th>\n",
       "    </tr>\n",
       "  </thead>\n",
       "  <tbody>\n",
       "    <tr>\n",
       "      <td>8</td>\n",
       "      <td>1</td>\n",
       "      <td>950.0</td>\n",
       "    </tr>\n",
       "    <tr>\n",
       "      <td>0</td>\n",
       "      <td>2</td>\n",
       "      <td>7528.0</td>\n",
       "    </tr>\n",
       "    <tr>\n",
       "      <td>1</td>\n",
       "      <td>3</td>\n",
       "      <td>6384.0</td>\n",
       "    </tr>\n",
       "    <tr>\n",
       "      <td>2</td>\n",
       "      <td>4</td>\n",
       "      <td>2809.0</td>\n",
       "    </tr>\n",
       "    <tr>\n",
       "      <td>3</td>\n",
       "      <td>5</td>\n",
       "      <td>8100.0</td>\n",
       "    </tr>\n",
       "    <tr>\n",
       "      <td>4</td>\n",
       "      <td>6</td>\n",
       "      <td>8100.0</td>\n",
       "    </tr>\n",
       "    <tr>\n",
       "      <td>9</td>\n",
       "      <td>7</td>\n",
       "      <td>6169.5</td>\n",
       "    </tr>\n",
       "    <tr>\n",
       "      <td>5</td>\n",
       "      <td>9</td>\n",
       "      <td>8100.0</td>\n",
       "    </tr>\n",
       "    <tr>\n",
       "      <td>6</td>\n",
       "      <td>10</td>\n",
       "      <td>2237.0</td>\n",
       "    </tr>\n",
       "    <tr>\n",
       "      <td>7</td>\n",
       "      <td>11</td>\n",
       "      <td>8100.0</td>\n",
       "    </tr>\n",
       "    <tr>\n",
       "      <td>11</td>\n",
       "      <td>12</td>\n",
       "      <td>6100.0</td>\n",
       "    </tr>\n",
       "    <tr>\n",
       "      <td>20</td>\n",
       "      <td>13</td>\n",
       "      <td>6100.0</td>\n",
       "    </tr>\n",
       "    <tr>\n",
       "      <td>12</td>\n",
       "      <td>14</td>\n",
       "      <td>6100.0</td>\n",
       "    </tr>\n",
       "    <tr>\n",
       "      <td>21</td>\n",
       "      <td>15</td>\n",
       "      <td>6100.0</td>\n",
       "    </tr>\n",
       "    <tr>\n",
       "      <td>13</td>\n",
       "      <td>16</td>\n",
       "      <td>6100.0</td>\n",
       "    </tr>\n",
       "  </tbody>\n",
       "</table>\n",
       "</div>"
      ],
      "text/plain": [
       "    account_id  expected_payments\n",
       "8            1              950.0\n",
       "0            2             7528.0\n",
       "1            3             6384.0\n",
       "2            4             2809.0\n",
       "3            5             8100.0\n",
       "4            6             8100.0\n",
       "9            7             6169.5\n",
       "5            9             8100.0\n",
       "6           10             2237.0\n",
       "7           11             8100.0\n",
       "11          12             6100.0\n",
       "20          13             6100.0\n",
       "12          14             6100.0\n",
       "21          15             6100.0\n",
       "13          16             6100.0"
      ]
     },
     "metadata": {},
     "output_type": "display_data"
    },
    {
     "name": "stdout",
     "output_type": "stream",
     "text": [
      "<class 'pandas.core.frame.DataFrame'>\n",
      "Int64Index: 470 entries, 8 to 770\n",
      "Data columns (total 2 columns):\n",
      "account_id           470 non-null int64\n",
      "expected_payments    470 non-null float64\n",
      "dtypes: float64(1), int64(1)\n",
      "memory usage: 11.0 KB\n"
     ]
    },
    {
     "data": {
      "text/plain": [
       "None"
      ]
     },
     "metadata": {},
     "output_type": "display_data"
    }
   ],
   "source": [
    "dfq14 = accts.merge(group, on=['group_id'])\n",
    "\n",
    "timestamp4 = \"2020-01-01 00:00:00\"\n",
    "dfq14['timestamp'] = timestamp4\n",
    "dfq14['timestamp'] = pd.to_datetime(dfq14['timestamp'], format='%Y-%m-%d %H:%M:%S')\n",
    "dfq14['registration_date'] = pd.to_datetime(dfq14['registration_date'], format='%Y-%m-%d %H:%M:%S')\n",
    "dfq14 = dfq14.loc[(dfq14.registration_date <= timestamp4)]\n",
    "\n",
    "dfq14['total_time'] = dfq14['timestamp'] - dfq14['registration_date']\n",
    "dfq14['total_hours'] = dfq14['total_time'] / np.timedelta64(1,'h')\n",
    "\n",
    "dfq14['hours_post_upfront_period'] = dfq14['total_hours'] - (dfq14['price_upfront']/dfq14['price_clock_hour'])\n",
    "\n",
    "dfq14['hours_interval'] = dfq14['minimum_payment']/dfq14['price_clock_hour']\n",
    "\n",
    "dfq14['interval_payments'] = dfq14['hours_post_upfront_period']/dfq14['hours_interval']\n",
    "dfq14['interval_payments'] = ((dfq14['interval_payments']).astype(int).astype(float))\n",
    "\n",
    "dfq14['expected_payments'] = dfq14['price_upfront'] + ((dfq14['interval_payments'])*dfq14['minimum_payment'])\n",
    "dfq14['expected_payments'] = dfq14[['expected_payments','price_unlock']].min(axis=1)\n",
    "dfq14['expected_payments'] = dfq14[['expected_payments','price_upfront']].max(axis=1)\n",
    "\n",
    "dfq14 = dfq14[['account_id', 'expected_payments']].sort_values('account_id')\n",
    "\n",
    "display(dfq14.head(15))\n",
    "display(dfq14.info())"
   ]
  },
  {
   "cell_type": "markdown",
   "metadata": {},
   "source": [
    "Question 5:  \n",
    "How long does it typically take Account holders to repay the unlock price as a % of the nominal loan term?\n",
    "\n",
    "Answer - 223%, more than double the original nominal loan term\n",
    "only 292 out of 772 accounts were unlocked\n",
    "%s subsetted per group_id also given below"
   ]
  },
  {
   "cell_type": "code",
   "execution_count": 27,
   "metadata": {
    "scrolled": true
   },
   "outputs": [
    {
     "name": "stdout",
     "output_type": "stream",
     "text": [
      "Average time to repay = 223.2 % of nominal loan term\n",
      "group_id\n",
      "1     194.866030\n",
      "2     679.718431\n",
      "3     555.928584\n",
      "4     295.398597\n",
      "5     137.102486\n",
      "6     328.428637\n",
      "7     128.042106\n",
      "8     175.197288\n",
      "9     198.530045\n",
      "10    289.637026\n",
      "11    204.774802\n",
      "12    119.281823\n",
      "13    568.925645\n",
      "14    308.255745\n",
      "15    152.058047\n",
      "16    303.136084\n",
      "17    406.153163\n",
      "18    118.255033\n",
      "19    178.533993\n",
      "20    324.439691\n",
      "21    109.197955\n",
      "22     81.800998\n",
      "23    237.171923\n",
      "24    167.653334\n",
      "25    210.046816\n",
      "26     13.810964\n",
      "27     25.246177\n",
      "28     23.940419\n",
      "29    611.063909\n",
      "30    419.594279\n",
      "31    413.514450\n",
      "32    122.468323\n",
      "33    139.787810\n",
      "34    245.769085\n",
      "35    362.476255\n",
      "36    196.200842\n",
      "37    290.337683\n",
      "38    566.981481\n",
      "39     16.420016\n",
      "40     36.357399\n",
      "41    217.034024\n",
      "42    236.050316\n",
      "Name: time_to_repay_as%_of_term, dtype: float64\n"
     ]
    },
    {
     "data": {
      "text/html": [
       "<div>\n",
       "<style scoped>\n",
       "    .dataframe tbody tr th:only-of-type {\n",
       "        vertical-align: middle;\n",
       "    }\n",
       "\n",
       "    .dataframe tbody tr th {\n",
       "        vertical-align: top;\n",
       "    }\n",
       "\n",
       "    .dataframe thead th {\n",
       "        text-align: right;\n",
       "    }\n",
       "</style>\n",
       "<table border=\"1\" class=\"dataframe\">\n",
       "  <thead>\n",
       "    <tr style=\"text-align: right;\">\n",
       "      <th></th>\n",
       "      <th>account_id</th>\n",
       "      <th>group_id</th>\n",
       "      <th>organization_id</th>\n",
       "      <th>registration_date</th>\n",
       "      <th>is_written_off</th>\n",
       "      <th>is_unlocked</th>\n",
       "      <th>group_name</th>\n",
       "      <th>price_upfront</th>\n",
       "      <th>price_unlock</th>\n",
       "      <th>price_clock_hour</th>\n",
       "      <th>minimum_payment</th>\n",
       "      <th>ast_id</th>\n",
       "      <th>created_when</th>\n",
       "      <th>started_when</th>\n",
       "      <th>from_state</th>\n",
       "      <th>to_state</th>\n",
       "      <th>previous_state_transition_id</th>\n",
       "      <th>actual_time_to_repay</th>\n",
       "      <th>nominal_loan_term</th>\n",
       "      <th>time_to_repay_as%_of_term</th>\n",
       "    </tr>\n",
       "  </thead>\n",
       "  <tbody>\n",
       "    <tr>\n",
       "      <td>28</td>\n",
       "      <td>2</td>\n",
       "      <td>1</td>\n",
       "      <td>10001</td>\n",
       "      <td>2019-11-06 05:49:39.571392</td>\n",
       "      <td>False</td>\n",
       "      <td>True</td>\n",
       "      <td>Gugun Polar Wireless Product</td>\n",
       "      <td>950</td>\n",
       "      <td>8100</td>\n",
       "      <td>5.654762</td>\n",
       "      <td>71.5</td>\n",
       "      <td>31</td>\n",
       "      <td>2020-03-12 20:03:37.120446</td>\n",
       "      <td>2020-02-24 02:00:21.571392</td>\n",
       "      <td>DISABLED</td>\n",
       "      <td>UNLOCKED</td>\n",
       "      <td>30.0</td>\n",
       "      <td>2636.178333</td>\n",
       "      <td>1432.421053</td>\n",
       "      <td>184.036553</td>\n",
       "    </tr>\n",
       "    <tr>\n",
       "      <td>67</td>\n",
       "      <td>4</td>\n",
       "      <td>1</td>\n",
       "      <td>10001</td>\n",
       "      <td>2019-12-11 03:18:53.571392</td>\n",
       "      <td>False</td>\n",
       "      <td>True</td>\n",
       "      <td>Gugun Polar Wireless Product</td>\n",
       "      <td>950</td>\n",
       "      <td>8100</td>\n",
       "      <td>5.654762</td>\n",
       "      <td>71.5</td>\n",
       "      <td>258</td>\n",
       "      <td>2020-03-12 20:03:40.459370</td>\n",
       "      <td>2020-02-25 04:28:59.571392</td>\n",
       "      <td>DISABLED</td>\n",
       "      <td>UNLOCKED</td>\n",
       "      <td>257.0</td>\n",
       "      <td>1825.168333</td>\n",
       "      <td>1432.421053</td>\n",
       "      <td>127.418424</td>\n",
       "    </tr>\n",
       "    <tr>\n",
       "      <td>126</td>\n",
       "      <td>6</td>\n",
       "      <td>1</td>\n",
       "      <td>10001</td>\n",
       "      <td>2019-09-29 13:04:45.571392</td>\n",
       "      <td>False</td>\n",
       "      <td>True</td>\n",
       "      <td>Gugun Polar Wireless Product</td>\n",
       "      <td>950</td>\n",
       "      <td>8100</td>\n",
       "      <td>5.654762</td>\n",
       "      <td>71.5</td>\n",
       "      <td>483</td>\n",
       "      <td>2020-03-12 20:03:44.402369</td>\n",
       "      <td>2020-02-20 18:54:47.571392</td>\n",
       "      <td>DISABLED</td>\n",
       "      <td>UNLOCKED</td>\n",
       "      <td>482.0</td>\n",
       "      <td>3461.833889</td>\n",
       "      <td>1432.421053</td>\n",
       "      <td>241.677116</td>\n",
       "    </tr>\n",
       "    <tr>\n",
       "      <td>163</td>\n",
       "      <td>9</td>\n",
       "      <td>1</td>\n",
       "      <td>10001</td>\n",
       "      <td>2019-10-10 12:49:10.571392</td>\n",
       "      <td>False</td>\n",
       "      <td>True</td>\n",
       "      <td>Gugun Polar Wireless Product</td>\n",
       "      <td>950</td>\n",
       "      <td>8100</td>\n",
       "      <td>5.654762</td>\n",
       "      <td>71.5</td>\n",
       "      <td>680</td>\n",
       "      <td>2020-03-12 20:03:49.246836</td>\n",
       "      <td>2020-03-04 07:45:50.571392</td>\n",
       "      <td>DISABLED</td>\n",
       "      <td>UNLOCKED</td>\n",
       "      <td>679.0</td>\n",
       "      <td>3498.944444</td>\n",
       "      <td>1432.421053</td>\n",
       "      <td>244.267873</td>\n",
       "    </tr>\n",
       "    <tr>\n",
       "      <td>176</td>\n",
       "      <td>10</td>\n",
       "      <td>1</td>\n",
       "      <td>10001</td>\n",
       "      <td>2019-12-15 03:38:31.571392</td>\n",
       "      <td>False</td>\n",
       "      <td>True</td>\n",
       "      <td>Gugun Polar Wireless Product</td>\n",
       "      <td>950</td>\n",
       "      <td>8100</td>\n",
       "      <td>5.654762</td>\n",
       "      <td>71.5</td>\n",
       "      <td>693</td>\n",
       "      <td>2020-03-12 20:03:50.585713</td>\n",
       "      <td>2020-02-21 15:48:49.571392</td>\n",
       "      <td>DISABLED</td>\n",
       "      <td>UNLOCKED</td>\n",
       "      <td>692.0</td>\n",
       "      <td>1644.171667</td>\n",
       "      <td>1432.421053</td>\n",
       "      <td>114.782707</td>\n",
       "    </tr>\n",
       "  </tbody>\n",
       "</table>\n",
       "</div>"
      ],
      "text/plain": [
       "     account_id  group_id  organization_id          registration_date  \\\n",
       "28            2         1            10001 2019-11-06 05:49:39.571392   \n",
       "67            4         1            10001 2019-12-11 03:18:53.571392   \n",
       "126           6         1            10001 2019-09-29 13:04:45.571392   \n",
       "163           9         1            10001 2019-10-10 12:49:10.571392   \n",
       "176          10         1            10001 2019-12-15 03:38:31.571392   \n",
       "\n",
       "     is_written_off  is_unlocked                    group_name  price_upfront  \\\n",
       "28            False         True  Gugun Polar Wireless Product            950   \n",
       "67            False         True  Gugun Polar Wireless Product            950   \n",
       "126           False         True  Gugun Polar Wireless Product            950   \n",
       "163           False         True  Gugun Polar Wireless Product            950   \n",
       "176           False         True  Gugun Polar Wireless Product            950   \n",
       "\n",
       "     price_unlock  price_clock_hour  minimum_payment  ast_id  \\\n",
       "28           8100          5.654762             71.5      31   \n",
       "67           8100          5.654762             71.5     258   \n",
       "126          8100          5.654762             71.5     483   \n",
       "163          8100          5.654762             71.5     680   \n",
       "176          8100          5.654762             71.5     693   \n",
       "\n",
       "                   created_when               started_when from_state  \\\n",
       "28   2020-03-12 20:03:37.120446 2020-02-24 02:00:21.571392   DISABLED   \n",
       "67   2020-03-12 20:03:40.459370 2020-02-25 04:28:59.571392   DISABLED   \n",
       "126  2020-03-12 20:03:44.402369 2020-02-20 18:54:47.571392   DISABLED   \n",
       "163  2020-03-12 20:03:49.246836 2020-03-04 07:45:50.571392   DISABLED   \n",
       "176  2020-03-12 20:03:50.585713 2020-02-21 15:48:49.571392   DISABLED   \n",
       "\n",
       "     to_state  previous_state_transition_id  actual_time_to_repay  \\\n",
       "28   UNLOCKED                          30.0           2636.178333   \n",
       "67   UNLOCKED                         257.0           1825.168333   \n",
       "126  UNLOCKED                         482.0           3461.833889   \n",
       "163  UNLOCKED                         679.0           3498.944444   \n",
       "176  UNLOCKED                         692.0           1644.171667   \n",
       "\n",
       "     nominal_loan_term  time_to_repay_as%_of_term  \n",
       "28         1432.421053                 184.036553  \n",
       "67         1432.421053                 127.418424  \n",
       "126        1432.421053                 241.677116  \n",
       "163        1432.421053                 244.267873  \n",
       "176        1432.421053                 114.782707  "
      ]
     },
     "metadata": {},
     "output_type": "display_data"
    },
    {
     "name": "stdout",
     "output_type": "stream",
     "text": [
      "<class 'pandas.core.frame.DataFrame'>\n",
      "Int64Index: 292 entries, 28 to 14673\n",
      "Data columns (total 20 columns):\n",
      "account_id                      292 non-null int64\n",
      "group_id                        292 non-null int64\n",
      "organization_id                 292 non-null int64\n",
      "registration_date               292 non-null datetime64[ns]\n",
      "is_written_off                  292 non-null bool\n",
      "is_unlocked                     292 non-null bool\n",
      "group_name                      292 non-null object\n",
      "price_upfront                   292 non-null int64\n",
      "price_unlock                    292 non-null int64\n",
      "price_clock_hour                292 non-null float64\n",
      "minimum_payment                 292 non-null float64\n",
      "ast_id                          292 non-null int64\n",
      "created_when                    292 non-null object\n",
      "started_when                    292 non-null datetime64[ns]\n",
      "from_state                      292 non-null object\n",
      "to_state                        292 non-null object\n",
      "previous_state_transition_id    292 non-null float64\n",
      "actual_time_to_repay            292 non-null float64\n",
      "nominal_loan_term               292 non-null float64\n",
      "time_to_repay_as%_of_term       292 non-null float64\n",
      "dtypes: bool(2), datetime64[ns](2), float64(6), int64(6), object(4)\n",
      "memory usage: 43.9+ KB\n"
     ]
    },
    {
     "data": {
      "text/plain": [
       "None"
      ]
     },
     "metadata": {},
     "output_type": "display_data"
    },
    {
     "data": {
      "application/vnd.plotly.v1+json": {
       "config": {
        "linkText": "Export to plot.ly",
        "plotlyServerURL": "https://plot.ly",
        "showLink": false
       },
       "data": [
        {
         "type": "histogram",
         "x": [
          184.03655326073732,
          127.41842421661327,
          241.67711600403567,
          244.26787348340534,
          114.78270748082747,
          257.0135051385243,
          534.5746324742674,
          806.604052862032,
          877.5819672552387,
          538.2499431041601,
          805.1850361432548,
          754.9718238067304,
          585.6128025261579,
          534.9671887454286,
          593.6173433167156,
          518.2398250001897,
          306.3715047342811,
          284.4256887487762,
          49.92350811288816,
          158.0805441804178,
          177.99753069385,
          156.08510062491962,
          143.4257443270194,
          423.55216600007805,
          186.29544402127618,
          433.96889279167664,
          437.15048099510074,
          172.53714976940125,
          317.0676902919129,
          48.72134399623515,
          126.17611564970403,
          186.58965974862147,
          165.65825850210905,
          137.17606685837623,
          127.54970073931284,
          137.49773937980524,
          94.96796121681098,
          232.95329363269283,
          160.53493081630694,
          183.55165939973378,
          99.10428927034744,
          184.16718874428838,
          210.03510558403113,
          46.80903276328926,
          195.7432175365405,
          207.5876461103591,
          231.48651777271434,
          370.00115739754074,
          70.78779289304808,
          154.80118574795057,
          248.81849576975372,
          319.7444786230295,
          193.7514230573945,
          274.28417200129917,
          411.5865589278875,
          205.19579022236059,
          254.10728514506943,
          245.0093717316522,
          216.5720953543413,
          207.7080690408311,
          243.70316157690883,
          61.12784201404254,
          174.0761124156595,
          250.85206870134803,
          52.49964220765941,
          77.05246552326885,
          37.302628155833226,
          173.34094457801794,
          208.40580276242986,
          196.3532396604454,
          31.186475410459792,
          76.92206609573569,
          34.10860655805922,
          646.4828111630771,
          973.2306759392102,
          559.1197590931223,
          384.5669785096193,
          281.22800195790217,
          391.2932638888889,
          361.3611111111111,
          276.60358796296293,
          260.7014814814815,
          223.91682870370371,
          335.65819444444446,
          116.30138889121491,
          128.46732804489736,
          211.40542328465136,
          392.6024443363812,
          365.08365525494037,
          63.34149155277853,
          148.7412417837291,
          456.85033119139337,
          392.19734172294307,
          259.49714579376996,
          346.95261271725417,
          590.3711212153704,
          546.9347921740134,
          235.6794496570917,
          528.0595360258013,
          438.6184865495532,
          303.1121560412223,
          56.78976963979613,
          22.897449865080997,
          181.87425595014247,
          160.2822642057937,
          31.138866744231258,
          180.75069680427575,
          194.05192979730933,
          200.111623995084,
          203.10909637670065,
          272.67116618037556,
          199.7790393022369,
          191.95973723682013,
          26.592292525552676,
          294.46611523122226,
          38.77930108740224,
          179.33756798515495,
          335.8428110612725,
          373.9554693165809,
          285.01520571683085,
          302.9452770497725,
          145.9042155085238,
          129.6537013907576,
          118.3123966711882,
          144.27770157814587,
          105.35698527363951,
          104.88952831468346,
          63.428597269527955,
          61.76051355367981,
          16.366103953279367,
          97.25627763600035,
          117.78773092523576,
          95.79387846885864,
          330.6967538447612,
          154.60815118706302,
          228.8642011495161,
          345.98298855753114,
          308.44034608995753,
          290.9570322722776,
          250.98198022880308,
          90.94964871376278,
          57.70511319397221,
          312.53301457819964,
          81.76608946772477,
          80.84379509541196,
          174.0977272762092,
          106.73914141627618,
          281.2763708569963,
          234.27110390078929,
          214.5791125584041,
          252.7157602536335,
          241.83101580498612,
          136.69035150321832,
          262.53665755596734,
          220.21260652214005,
          146.29450461698684,
          9.436910394897023,
          6.390640444480952,
          19.27907872631905,
          18.06931180667976,
          7.534935716056547,
          18.361854251020237,
          16.4520947809125,
          19.41898057381607,
          9.055887152250595,
          16.93751362795893,
          18.103868684988097,
          7.893208726130357,
          7.559998946477976,
          18.85921783322619,
          17.083140432818055,
          27.90796620977785,
          32.7013950141145,
          33.665846072356175,
          29.636944568169294,
          15.307853530430943,
          33.42240624528341,
          11.245791385443132,
          13.227459644393905,
          11.520152055648689,
          31.64101080380139,
          32.258525929733715,
          33.06985627466304,
          30.75812328661744,
          27.239380039890822,
          32.49235623003083,
          32.496394958454545,
          26.46090835982962,
          26.821845995334325,
          9.774617268868745,
          26.502488288701976,
          30.49698043867618,
          11.37696244180809,
          29.0429568894588,
          10.639718318340657,
          646.8591269582525,
          265.397941457638,
          145.80869708411473,
          898.7865409693393,
          947.2656249621092,
          649.729001296762,
          740.2927413725046,
          667.6362020235589,
          348.277943107762,
          916.618716894552,
          495.0304645966009,
          556.6236111434965,
          291.9786375831254,
          516.7813492364164,
          312.993518536729,
          472.79873034531556,
          556.1798778809629,
          140.73079299125348,
          338.2781192861827,
          310.16683470128737,
          421.0126907961969,
          571.69149532294,
          519.6088667374971,
          391.1626387554323,
          110.37876156700983,
          207.3512111309094,
          98.25041335350032,
          207.45393103831026,
          36.395461307194495,
          74.98015872535998,
          176.45162471752622,
          100.63800796404767,
          142.27379868986333,
          296.91137698613045,
          190.63264519573133,
          239.06667822456163,
          267.8729279633239,
          161.3392332309471,
          312.22922441895815,
          252.33150799962254,
          443.45539383273484,
          244.32807904181527,
          385.1382825816494,
          285.6582892073436,
          429.55924818478445,
          395.82907108712726,
          328.58065104816586,
          387.2610228812183,
          191.0327267074921,
          192.21134659902955,
          190.4050127866245,
          119.41654694441924,
          250.13128593955076,
          227.8999042327914,
          202.30906770456278,
          306.9344596478439,
          434.3218048435773,
          280.04295376560214,
          384.89474289408594,
          167.93571684064784,
          167.89641915318455,
          794.8812830369876,
          885.2664976130313,
          282.065659894655,
          305.7124852905345,
          18.68746993627394,
          21.13803586324553,
          21.041290883694245,
          6.963026845393713,
          8.725931186310227,
          20.658331828884695,
          22.031400311240304,
          7.916084204640075,
          20.438687468629393,
          11.168286284759017,
          21.85162638147788,
          18.953773849373903,
          38.53789632388035,
          16.180402737495257,
          35.768791586059685,
          14.45203272789652,
          35.38156114675067,
          14.105772506640562,
          50.829157146239886,
          51.61921797274932,
          15.607438471829713,
          73.90099156154034,
          70.95175464879806,
          96.23806251217461,
          268.40230076691665,
          213.36023347096665,
          191.28393180116032,
          193.88376500311745,
          266.0238012907103,
          290.0460736560722,
          286.7287326353599,
          185.3718997993058
         ]
        }
       ],
       "layout": {
        "shapes": [
         {
          "line": {
           "dash": "dashdot"
          },
          "type": "line",
          "x0": 223.2,
          "x1": 223.2,
          "y0": 0,
          "y1": 80
         }
        ],
        "template": {
         "data": {
          "bar": [
           {
            "error_x": {
             "color": "#2a3f5f"
            },
            "error_y": {
             "color": "#2a3f5f"
            },
            "marker": {
             "line": {
              "color": "#E5ECF6",
              "width": 0.5
             }
            },
            "type": "bar"
           }
          ],
          "barpolar": [
           {
            "marker": {
             "line": {
              "color": "#E5ECF6",
              "width": 0.5
             }
            },
            "type": "barpolar"
           }
          ],
          "carpet": [
           {
            "aaxis": {
             "endlinecolor": "#2a3f5f",
             "gridcolor": "white",
             "linecolor": "white",
             "minorgridcolor": "white",
             "startlinecolor": "#2a3f5f"
            },
            "baxis": {
             "endlinecolor": "#2a3f5f",
             "gridcolor": "white",
             "linecolor": "white",
             "minorgridcolor": "white",
             "startlinecolor": "#2a3f5f"
            },
            "type": "carpet"
           }
          ],
          "choropleth": [
           {
            "colorbar": {
             "outlinewidth": 0,
             "ticks": ""
            },
            "type": "choropleth"
           }
          ],
          "contour": [
           {
            "colorbar": {
             "outlinewidth": 0,
             "ticks": ""
            },
            "colorscale": [
             [
              0,
              "#0d0887"
             ],
             [
              0.1111111111111111,
              "#46039f"
             ],
             [
              0.2222222222222222,
              "#7201a8"
             ],
             [
              0.3333333333333333,
              "#9c179e"
             ],
             [
              0.4444444444444444,
              "#bd3786"
             ],
             [
              0.5555555555555556,
              "#d8576b"
             ],
             [
              0.6666666666666666,
              "#ed7953"
             ],
             [
              0.7777777777777778,
              "#fb9f3a"
             ],
             [
              0.8888888888888888,
              "#fdca26"
             ],
             [
              1,
              "#f0f921"
             ]
            ],
            "type": "contour"
           }
          ],
          "contourcarpet": [
           {
            "colorbar": {
             "outlinewidth": 0,
             "ticks": ""
            },
            "type": "contourcarpet"
           }
          ],
          "heatmap": [
           {
            "colorbar": {
             "outlinewidth": 0,
             "ticks": ""
            },
            "colorscale": [
             [
              0,
              "#0d0887"
             ],
             [
              0.1111111111111111,
              "#46039f"
             ],
             [
              0.2222222222222222,
              "#7201a8"
             ],
             [
              0.3333333333333333,
              "#9c179e"
             ],
             [
              0.4444444444444444,
              "#bd3786"
             ],
             [
              0.5555555555555556,
              "#d8576b"
             ],
             [
              0.6666666666666666,
              "#ed7953"
             ],
             [
              0.7777777777777778,
              "#fb9f3a"
             ],
             [
              0.8888888888888888,
              "#fdca26"
             ],
             [
              1,
              "#f0f921"
             ]
            ],
            "type": "heatmap"
           }
          ],
          "heatmapgl": [
           {
            "colorbar": {
             "outlinewidth": 0,
             "ticks": ""
            },
            "colorscale": [
             [
              0,
              "#0d0887"
             ],
             [
              0.1111111111111111,
              "#46039f"
             ],
             [
              0.2222222222222222,
              "#7201a8"
             ],
             [
              0.3333333333333333,
              "#9c179e"
             ],
             [
              0.4444444444444444,
              "#bd3786"
             ],
             [
              0.5555555555555556,
              "#d8576b"
             ],
             [
              0.6666666666666666,
              "#ed7953"
             ],
             [
              0.7777777777777778,
              "#fb9f3a"
             ],
             [
              0.8888888888888888,
              "#fdca26"
             ],
             [
              1,
              "#f0f921"
             ]
            ],
            "type": "heatmapgl"
           }
          ],
          "histogram": [
           {
            "marker": {
             "colorbar": {
              "outlinewidth": 0,
              "ticks": ""
             }
            },
            "type": "histogram"
           }
          ],
          "histogram2d": [
           {
            "colorbar": {
             "outlinewidth": 0,
             "ticks": ""
            },
            "colorscale": [
             [
              0,
              "#0d0887"
             ],
             [
              0.1111111111111111,
              "#46039f"
             ],
             [
              0.2222222222222222,
              "#7201a8"
             ],
             [
              0.3333333333333333,
              "#9c179e"
             ],
             [
              0.4444444444444444,
              "#bd3786"
             ],
             [
              0.5555555555555556,
              "#d8576b"
             ],
             [
              0.6666666666666666,
              "#ed7953"
             ],
             [
              0.7777777777777778,
              "#fb9f3a"
             ],
             [
              0.8888888888888888,
              "#fdca26"
             ],
             [
              1,
              "#f0f921"
             ]
            ],
            "type": "histogram2d"
           }
          ],
          "histogram2dcontour": [
           {
            "colorbar": {
             "outlinewidth": 0,
             "ticks": ""
            },
            "colorscale": [
             [
              0,
              "#0d0887"
             ],
             [
              0.1111111111111111,
              "#46039f"
             ],
             [
              0.2222222222222222,
              "#7201a8"
             ],
             [
              0.3333333333333333,
              "#9c179e"
             ],
             [
              0.4444444444444444,
              "#bd3786"
             ],
             [
              0.5555555555555556,
              "#d8576b"
             ],
             [
              0.6666666666666666,
              "#ed7953"
             ],
             [
              0.7777777777777778,
              "#fb9f3a"
             ],
             [
              0.8888888888888888,
              "#fdca26"
             ],
             [
              1,
              "#f0f921"
             ]
            ],
            "type": "histogram2dcontour"
           }
          ],
          "mesh3d": [
           {
            "colorbar": {
             "outlinewidth": 0,
             "ticks": ""
            },
            "type": "mesh3d"
           }
          ],
          "parcoords": [
           {
            "line": {
             "colorbar": {
              "outlinewidth": 0,
              "ticks": ""
             }
            },
            "type": "parcoords"
           }
          ],
          "pie": [
           {
            "automargin": true,
            "type": "pie"
           }
          ],
          "scatter": [
           {
            "marker": {
             "colorbar": {
              "outlinewidth": 0,
              "ticks": ""
             }
            },
            "type": "scatter"
           }
          ],
          "scatter3d": [
           {
            "line": {
             "colorbar": {
              "outlinewidth": 0,
              "ticks": ""
             }
            },
            "marker": {
             "colorbar": {
              "outlinewidth": 0,
              "ticks": ""
             }
            },
            "type": "scatter3d"
           }
          ],
          "scattercarpet": [
           {
            "marker": {
             "colorbar": {
              "outlinewidth": 0,
              "ticks": ""
             }
            },
            "type": "scattercarpet"
           }
          ],
          "scattergeo": [
           {
            "marker": {
             "colorbar": {
              "outlinewidth": 0,
              "ticks": ""
             }
            },
            "type": "scattergeo"
           }
          ],
          "scattergl": [
           {
            "marker": {
             "colorbar": {
              "outlinewidth": 0,
              "ticks": ""
             }
            },
            "type": "scattergl"
           }
          ],
          "scattermapbox": [
           {
            "marker": {
             "colorbar": {
              "outlinewidth": 0,
              "ticks": ""
             }
            },
            "type": "scattermapbox"
           }
          ],
          "scatterpolar": [
           {
            "marker": {
             "colorbar": {
              "outlinewidth": 0,
              "ticks": ""
             }
            },
            "type": "scatterpolar"
           }
          ],
          "scatterpolargl": [
           {
            "marker": {
             "colorbar": {
              "outlinewidth": 0,
              "ticks": ""
             }
            },
            "type": "scatterpolargl"
           }
          ],
          "scatterternary": [
           {
            "marker": {
             "colorbar": {
              "outlinewidth": 0,
              "ticks": ""
             }
            },
            "type": "scatterternary"
           }
          ],
          "surface": [
           {
            "colorbar": {
             "outlinewidth": 0,
             "ticks": ""
            },
            "colorscale": [
             [
              0,
              "#0d0887"
             ],
             [
              0.1111111111111111,
              "#46039f"
             ],
             [
              0.2222222222222222,
              "#7201a8"
             ],
             [
              0.3333333333333333,
              "#9c179e"
             ],
             [
              0.4444444444444444,
              "#bd3786"
             ],
             [
              0.5555555555555556,
              "#d8576b"
             ],
             [
              0.6666666666666666,
              "#ed7953"
             ],
             [
              0.7777777777777778,
              "#fb9f3a"
             ],
             [
              0.8888888888888888,
              "#fdca26"
             ],
             [
              1,
              "#f0f921"
             ]
            ],
            "type": "surface"
           }
          ],
          "table": [
           {
            "cells": {
             "fill": {
              "color": "#EBF0F8"
             },
             "line": {
              "color": "white"
             }
            },
            "header": {
             "fill": {
              "color": "#C8D4E3"
             },
             "line": {
              "color": "white"
             }
            },
            "type": "table"
           }
          ]
         },
         "layout": {
          "annotationdefaults": {
           "arrowcolor": "#2a3f5f",
           "arrowhead": 0,
           "arrowwidth": 1
          },
          "coloraxis": {
           "colorbar": {
            "outlinewidth": 0,
            "ticks": ""
           }
          },
          "colorscale": {
           "diverging": [
            [
             0,
             "#8e0152"
            ],
            [
             0.1,
             "#c51b7d"
            ],
            [
             0.2,
             "#de77ae"
            ],
            [
             0.3,
             "#f1b6da"
            ],
            [
             0.4,
             "#fde0ef"
            ],
            [
             0.5,
             "#f7f7f7"
            ],
            [
             0.6,
             "#e6f5d0"
            ],
            [
             0.7,
             "#b8e186"
            ],
            [
             0.8,
             "#7fbc41"
            ],
            [
             0.9,
             "#4d9221"
            ],
            [
             1,
             "#276419"
            ]
           ],
           "sequential": [
            [
             0,
             "#0d0887"
            ],
            [
             0.1111111111111111,
             "#46039f"
            ],
            [
             0.2222222222222222,
             "#7201a8"
            ],
            [
             0.3333333333333333,
             "#9c179e"
            ],
            [
             0.4444444444444444,
             "#bd3786"
            ],
            [
             0.5555555555555556,
             "#d8576b"
            ],
            [
             0.6666666666666666,
             "#ed7953"
            ],
            [
             0.7777777777777778,
             "#fb9f3a"
            ],
            [
             0.8888888888888888,
             "#fdca26"
            ],
            [
             1,
             "#f0f921"
            ]
           ],
           "sequentialminus": [
            [
             0,
             "#0d0887"
            ],
            [
             0.1111111111111111,
             "#46039f"
            ],
            [
             0.2222222222222222,
             "#7201a8"
            ],
            [
             0.3333333333333333,
             "#9c179e"
            ],
            [
             0.4444444444444444,
             "#bd3786"
            ],
            [
             0.5555555555555556,
             "#d8576b"
            ],
            [
             0.6666666666666666,
             "#ed7953"
            ],
            [
             0.7777777777777778,
             "#fb9f3a"
            ],
            [
             0.8888888888888888,
             "#fdca26"
            ],
            [
             1,
             "#f0f921"
            ]
           ]
          },
          "colorway": [
           "#636efa",
           "#EF553B",
           "#00cc96",
           "#ab63fa",
           "#FFA15A",
           "#19d3f3",
           "#FF6692",
           "#B6E880",
           "#FF97FF",
           "#FECB52"
          ],
          "font": {
           "color": "#2a3f5f"
          },
          "geo": {
           "bgcolor": "white",
           "lakecolor": "white",
           "landcolor": "#E5ECF6",
           "showlakes": true,
           "showland": true,
           "subunitcolor": "white"
          },
          "hoverlabel": {
           "align": "left"
          },
          "hovermode": "closest",
          "mapbox": {
           "style": "light"
          },
          "paper_bgcolor": "white",
          "plot_bgcolor": "#E5ECF6",
          "polar": {
           "angularaxis": {
            "gridcolor": "white",
            "linecolor": "white",
            "ticks": ""
           },
           "bgcolor": "#E5ECF6",
           "radialaxis": {
            "gridcolor": "white",
            "linecolor": "white",
            "ticks": ""
           }
          },
          "scene": {
           "xaxis": {
            "backgroundcolor": "#E5ECF6",
            "gridcolor": "white",
            "gridwidth": 2,
            "linecolor": "white",
            "showbackground": true,
            "ticks": "",
            "zerolinecolor": "white"
           },
           "yaxis": {
            "backgroundcolor": "#E5ECF6",
            "gridcolor": "white",
            "gridwidth": 2,
            "linecolor": "white",
            "showbackground": true,
            "ticks": "",
            "zerolinecolor": "white"
           },
           "zaxis": {
            "backgroundcolor": "#E5ECF6",
            "gridcolor": "white",
            "gridwidth": 2,
            "linecolor": "white",
            "showbackground": true,
            "ticks": "",
            "zerolinecolor": "white"
           }
          },
          "shapedefaults": {
           "line": {
            "color": "#2a3f5f"
           }
          },
          "ternary": {
           "aaxis": {
            "gridcolor": "white",
            "linecolor": "white",
            "ticks": ""
           },
           "baxis": {
            "gridcolor": "white",
            "linecolor": "white",
            "ticks": ""
           },
           "bgcolor": "#E5ECF6",
           "caxis": {
            "gridcolor": "white",
            "linecolor": "white",
            "ticks": ""
           }
          },
          "title": {
           "x": 0.05
          },
          "xaxis": {
           "automargin": true,
           "gridcolor": "white",
           "linecolor": "white",
           "ticks": "",
           "title": {
            "standoff": 15
           },
           "zerolinecolor": "white",
           "zerolinewidth": 2
          },
          "yaxis": {
           "automargin": true,
           "gridcolor": "white",
           "linecolor": "white",
           "ticks": "",
           "title": {
            "standoff": 15
           },
           "zerolinecolor": "white",
           "zerolinewidth": 2
          }
         }
        }
       }
      },
      "text/html": [
       "<div>\n",
       "        \n",
       "        \n",
       "            <div id=\"6278dc6f-0489-4d30-b11d-53ce85406b45\" class=\"plotly-graph-div\" style=\"height:525px; width:100%;\"></div>\n",
       "            <script type=\"text/javascript\">\n",
       "                require([\"plotly\"], function(Plotly) {\n",
       "                    window.PLOTLYENV=window.PLOTLYENV || {};\n",
       "                    \n",
       "                if (document.getElementById(\"6278dc6f-0489-4d30-b11d-53ce85406b45\")) {\n",
       "                    Plotly.newPlot(\n",
       "                        '6278dc6f-0489-4d30-b11d-53ce85406b45',\n",
       "                        [{\"type\": \"histogram\", \"x\": [184.03655326073732, 127.41842421661327, 241.67711600403567, 244.26787348340534, 114.78270748082747, 257.0135051385243, 534.5746324742674, 806.604052862032, 877.5819672552387, 538.2499431041601, 805.1850361432548, 754.9718238067304, 585.6128025261579, 534.9671887454286, 593.6173433167156, 518.2398250001897, 306.3715047342811, 284.4256887487762, 49.92350811288816, 158.0805441804178, 177.99753069385, 156.08510062491962, 143.4257443270194, 423.55216600007805, 186.29544402127618, 433.96889279167664, 437.15048099510074, 172.53714976940125, 317.0676902919129, 48.72134399623515, 126.17611564970403, 186.58965974862147, 165.65825850210905, 137.17606685837623, 127.54970073931284, 137.49773937980524, 94.96796121681098, 232.95329363269283, 160.53493081630694, 183.55165939973378, 99.10428927034744, 184.16718874428838, 210.03510558403113, 46.80903276328926, 195.7432175365405, 207.5876461103591, 231.48651777271434, 370.00115739754074, 70.78779289304808, 154.80118574795057, 248.81849576975372, 319.7444786230295, 193.7514230573945, 274.28417200129917, 411.5865589278875, 205.19579022236059, 254.10728514506943, 245.0093717316522, 216.5720953543413, 207.7080690408311, 243.70316157690883, 61.12784201404254, 174.0761124156595, 250.85206870134803, 52.49964220765941, 77.05246552326885, 37.302628155833226, 173.34094457801794, 208.40580276242986, 196.3532396604454, 31.186475410459792, 76.92206609573569, 34.10860655805922, 646.4828111630771, 973.2306759392102, 559.1197590931223, 384.5669785096193, 281.22800195790217, 391.2932638888889, 361.3611111111111, 276.60358796296293, 260.7014814814815, 223.91682870370371, 335.65819444444446, 116.30138889121491, 128.46732804489736, 211.40542328465136, 392.6024443363812, 365.08365525494037, 63.34149155277853, 148.7412417837291, 456.85033119139337, 392.19734172294307, 259.49714579376996, 346.95261271725417, 590.3711212153704, 546.9347921740134, 235.6794496570917, 528.0595360258013, 438.6184865495532, 303.1121560412223, 56.78976963979613, 22.897449865080997, 181.87425595014247, 160.2822642057937, 31.138866744231258, 180.75069680427575, 194.05192979730933, 200.111623995084, 203.10909637670065, 272.67116618037556, 199.7790393022369, 191.95973723682013, 26.592292525552676, 294.46611523122226, 38.77930108740224, 179.33756798515495, 335.8428110612725, 373.9554693165809, 285.01520571683085, 302.9452770497725, 145.9042155085238, 129.6537013907576, 118.3123966711882, 144.27770157814587, 105.35698527363951, 104.88952831468346, 63.428597269527955, 61.76051355367981, 16.366103953279367, 97.25627763600035, 117.78773092523576, 95.79387846885864, 330.6967538447612, 154.60815118706302, 228.8642011495161, 345.98298855753114, 308.44034608995753, 290.9570322722776, 250.98198022880308, 90.94964871376278, 57.70511319397221, 312.53301457819964, 81.76608946772477, 80.84379509541196, 174.0977272762092, 106.73914141627618, 281.2763708569963, 234.27110390078929, 214.5791125584041, 252.7157602536335, 241.83101580498612, 136.69035150321832, 262.53665755596734, 220.21260652214005, 146.29450461698684, 9.436910394897023, 6.390640444480952, 19.27907872631905, 18.06931180667976, 7.534935716056547, 18.361854251020237, 16.4520947809125, 19.41898057381607, 9.055887152250595, 16.93751362795893, 18.103868684988097, 7.893208726130357, 7.559998946477976, 18.85921783322619, 17.083140432818055, 27.90796620977785, 32.7013950141145, 33.665846072356175, 29.636944568169294, 15.307853530430943, 33.42240624528341, 11.245791385443132, 13.227459644393905, 11.520152055648689, 31.64101080380139, 32.258525929733715, 33.06985627466304, 30.75812328661744, 27.239380039890822, 32.49235623003083, 32.496394958454545, 26.46090835982962, 26.821845995334325, 9.774617268868745, 26.502488288701976, 30.49698043867618, 11.37696244180809, 29.0429568894588, 10.639718318340657, 646.8591269582525, 265.397941457638, 145.80869708411473, 898.7865409693393, 947.2656249621092, 649.729001296762, 740.2927413725046, 667.6362020235589, 348.277943107762, 916.618716894552, 495.0304645966009, 556.6236111434965, 291.9786375831254, 516.7813492364164, 312.993518536729, 472.79873034531556, 556.1798778809629, 140.73079299125348, 338.2781192861827, 310.16683470128737, 421.0126907961969, 571.69149532294, 519.6088667374971, 391.1626387554323, 110.37876156700983, 207.3512111309094, 98.25041335350032, 207.45393103831026, 36.395461307194495, 74.98015872535998, 176.45162471752622, 100.63800796404767, 142.27379868986333, 296.91137698613045, 190.63264519573133, 239.06667822456163, 267.8729279633239, 161.3392332309471, 312.22922441895815, 252.33150799962254, 443.45539383273484, 244.32807904181527, 385.1382825816494, 285.6582892073436, 429.55924818478445, 395.82907108712726, 328.58065104816586, 387.2610228812183, 191.0327267074921, 192.21134659902955, 190.4050127866245, 119.41654694441924, 250.13128593955076, 227.8999042327914, 202.30906770456278, 306.9344596478439, 434.3218048435773, 280.04295376560214, 384.89474289408594, 167.93571684064784, 167.89641915318455, 794.8812830369876, 885.2664976130313, 282.065659894655, 305.7124852905345, 18.68746993627394, 21.13803586324553, 21.041290883694245, 6.963026845393713, 8.725931186310227, 20.658331828884695, 22.031400311240304, 7.916084204640075, 20.438687468629393, 11.168286284759017, 21.85162638147788, 18.953773849373903, 38.53789632388035, 16.180402737495257, 35.768791586059685, 14.45203272789652, 35.38156114675067, 14.105772506640562, 50.829157146239886, 51.61921797274932, 15.607438471829713, 73.90099156154034, 70.95175464879806, 96.23806251217461, 268.40230076691665, 213.36023347096665, 191.28393180116032, 193.88376500311745, 266.0238012907103, 290.0460736560722, 286.7287326353599, 185.3718997993058]}],\n",
       "                        {\"shapes\": [{\"line\": {\"dash\": \"dashdot\"}, \"type\": \"line\", \"x0\": 223.2, \"x1\": 223.2, \"y0\": 0, \"y1\": 80}], \"template\": {\"data\": {\"bar\": [{\"error_x\": {\"color\": \"#2a3f5f\"}, \"error_y\": {\"color\": \"#2a3f5f\"}, \"marker\": {\"line\": {\"color\": \"#E5ECF6\", \"width\": 0.5}}, \"type\": \"bar\"}], \"barpolar\": [{\"marker\": {\"line\": {\"color\": \"#E5ECF6\", \"width\": 0.5}}, \"type\": \"barpolar\"}], \"carpet\": [{\"aaxis\": {\"endlinecolor\": \"#2a3f5f\", \"gridcolor\": \"white\", \"linecolor\": \"white\", \"minorgridcolor\": \"white\", \"startlinecolor\": \"#2a3f5f\"}, \"baxis\": {\"endlinecolor\": \"#2a3f5f\", \"gridcolor\": \"white\", \"linecolor\": \"white\", \"minorgridcolor\": \"white\", \"startlinecolor\": \"#2a3f5f\"}, \"type\": \"carpet\"}], \"choropleth\": [{\"colorbar\": {\"outlinewidth\": 0, \"ticks\": \"\"}, \"type\": \"choropleth\"}], \"contour\": [{\"colorbar\": {\"outlinewidth\": 0, \"ticks\": \"\"}, \"colorscale\": [[0.0, \"#0d0887\"], [0.1111111111111111, \"#46039f\"], [0.2222222222222222, \"#7201a8\"], [0.3333333333333333, \"#9c179e\"], [0.4444444444444444, \"#bd3786\"], [0.5555555555555556, \"#d8576b\"], [0.6666666666666666, \"#ed7953\"], [0.7777777777777778, \"#fb9f3a\"], [0.8888888888888888, \"#fdca26\"], [1.0, \"#f0f921\"]], \"type\": \"contour\"}], \"contourcarpet\": [{\"colorbar\": {\"outlinewidth\": 0, \"ticks\": \"\"}, \"type\": \"contourcarpet\"}], \"heatmap\": [{\"colorbar\": {\"outlinewidth\": 0, \"ticks\": \"\"}, \"colorscale\": [[0.0, \"#0d0887\"], [0.1111111111111111, \"#46039f\"], [0.2222222222222222, \"#7201a8\"], [0.3333333333333333, \"#9c179e\"], [0.4444444444444444, \"#bd3786\"], [0.5555555555555556, \"#d8576b\"], [0.6666666666666666, \"#ed7953\"], [0.7777777777777778, \"#fb9f3a\"], [0.8888888888888888, \"#fdca26\"], [1.0, \"#f0f921\"]], \"type\": \"heatmap\"}], \"heatmapgl\": [{\"colorbar\": {\"outlinewidth\": 0, \"ticks\": \"\"}, \"colorscale\": [[0.0, \"#0d0887\"], [0.1111111111111111, \"#46039f\"], [0.2222222222222222, \"#7201a8\"], [0.3333333333333333, \"#9c179e\"], [0.4444444444444444, \"#bd3786\"], [0.5555555555555556, \"#d8576b\"], [0.6666666666666666, \"#ed7953\"], [0.7777777777777778, \"#fb9f3a\"], [0.8888888888888888, \"#fdca26\"], [1.0, \"#f0f921\"]], \"type\": \"heatmapgl\"}], \"histogram\": [{\"marker\": {\"colorbar\": {\"outlinewidth\": 0, \"ticks\": \"\"}}, \"type\": \"histogram\"}], \"histogram2d\": [{\"colorbar\": {\"outlinewidth\": 0, \"ticks\": \"\"}, \"colorscale\": [[0.0, \"#0d0887\"], [0.1111111111111111, \"#46039f\"], [0.2222222222222222, \"#7201a8\"], [0.3333333333333333, \"#9c179e\"], [0.4444444444444444, \"#bd3786\"], [0.5555555555555556, \"#d8576b\"], [0.6666666666666666, \"#ed7953\"], [0.7777777777777778, \"#fb9f3a\"], [0.8888888888888888, \"#fdca26\"], [1.0, \"#f0f921\"]], \"type\": \"histogram2d\"}], \"histogram2dcontour\": [{\"colorbar\": {\"outlinewidth\": 0, \"ticks\": \"\"}, \"colorscale\": [[0.0, \"#0d0887\"], [0.1111111111111111, \"#46039f\"], [0.2222222222222222, \"#7201a8\"], [0.3333333333333333, \"#9c179e\"], [0.4444444444444444, \"#bd3786\"], [0.5555555555555556, \"#d8576b\"], [0.6666666666666666, \"#ed7953\"], [0.7777777777777778, \"#fb9f3a\"], [0.8888888888888888, \"#fdca26\"], [1.0, \"#f0f921\"]], \"type\": \"histogram2dcontour\"}], \"mesh3d\": [{\"colorbar\": {\"outlinewidth\": 0, \"ticks\": \"\"}, \"type\": \"mesh3d\"}], \"parcoords\": [{\"line\": {\"colorbar\": {\"outlinewidth\": 0, \"ticks\": \"\"}}, \"type\": \"parcoords\"}], \"pie\": [{\"automargin\": true, \"type\": \"pie\"}], \"scatter\": [{\"marker\": {\"colorbar\": {\"outlinewidth\": 0, \"ticks\": \"\"}}, \"type\": \"scatter\"}], \"scatter3d\": [{\"line\": {\"colorbar\": {\"outlinewidth\": 0, \"ticks\": \"\"}}, \"marker\": {\"colorbar\": {\"outlinewidth\": 0, \"ticks\": \"\"}}, \"type\": \"scatter3d\"}], \"scattercarpet\": [{\"marker\": {\"colorbar\": {\"outlinewidth\": 0, \"ticks\": \"\"}}, \"type\": \"scattercarpet\"}], \"scattergeo\": [{\"marker\": {\"colorbar\": {\"outlinewidth\": 0, \"ticks\": \"\"}}, \"type\": \"scattergeo\"}], \"scattergl\": [{\"marker\": {\"colorbar\": {\"outlinewidth\": 0, \"ticks\": \"\"}}, \"type\": \"scattergl\"}], \"scattermapbox\": [{\"marker\": {\"colorbar\": {\"outlinewidth\": 0, \"ticks\": \"\"}}, \"type\": \"scattermapbox\"}], \"scatterpolar\": [{\"marker\": {\"colorbar\": {\"outlinewidth\": 0, \"ticks\": \"\"}}, \"type\": \"scatterpolar\"}], \"scatterpolargl\": [{\"marker\": {\"colorbar\": {\"outlinewidth\": 0, \"ticks\": \"\"}}, \"type\": \"scatterpolargl\"}], \"scatterternary\": [{\"marker\": {\"colorbar\": {\"outlinewidth\": 0, \"ticks\": \"\"}}, \"type\": \"scatterternary\"}], \"surface\": [{\"colorbar\": {\"outlinewidth\": 0, \"ticks\": \"\"}, \"colorscale\": [[0.0, \"#0d0887\"], [0.1111111111111111, \"#46039f\"], [0.2222222222222222, \"#7201a8\"], [0.3333333333333333, \"#9c179e\"], [0.4444444444444444, \"#bd3786\"], [0.5555555555555556, \"#d8576b\"], [0.6666666666666666, \"#ed7953\"], [0.7777777777777778, \"#fb9f3a\"], [0.8888888888888888, \"#fdca26\"], [1.0, \"#f0f921\"]], \"type\": \"surface\"}], \"table\": [{\"cells\": {\"fill\": {\"color\": \"#EBF0F8\"}, \"line\": {\"color\": \"white\"}}, \"header\": {\"fill\": {\"color\": \"#C8D4E3\"}, \"line\": {\"color\": \"white\"}}, \"type\": \"table\"}]}, \"layout\": {\"annotationdefaults\": {\"arrowcolor\": \"#2a3f5f\", \"arrowhead\": 0, \"arrowwidth\": 1}, \"coloraxis\": {\"colorbar\": {\"outlinewidth\": 0, \"ticks\": \"\"}}, \"colorscale\": {\"diverging\": [[0, \"#8e0152\"], [0.1, \"#c51b7d\"], [0.2, \"#de77ae\"], [0.3, \"#f1b6da\"], [0.4, \"#fde0ef\"], [0.5, \"#f7f7f7\"], [0.6, \"#e6f5d0\"], [0.7, \"#b8e186\"], [0.8, \"#7fbc41\"], [0.9, \"#4d9221\"], [1, \"#276419\"]], \"sequential\": [[0.0, \"#0d0887\"], [0.1111111111111111, \"#46039f\"], [0.2222222222222222, \"#7201a8\"], [0.3333333333333333, \"#9c179e\"], [0.4444444444444444, \"#bd3786\"], [0.5555555555555556, \"#d8576b\"], [0.6666666666666666, \"#ed7953\"], [0.7777777777777778, \"#fb9f3a\"], [0.8888888888888888, \"#fdca26\"], [1.0, \"#f0f921\"]], \"sequentialminus\": [[0.0, \"#0d0887\"], [0.1111111111111111, \"#46039f\"], [0.2222222222222222, \"#7201a8\"], [0.3333333333333333, \"#9c179e\"], [0.4444444444444444, \"#bd3786\"], [0.5555555555555556, \"#d8576b\"], [0.6666666666666666, \"#ed7953\"], [0.7777777777777778, \"#fb9f3a\"], [0.8888888888888888, \"#fdca26\"], [1.0, \"#f0f921\"]]}, \"colorway\": [\"#636efa\", \"#EF553B\", \"#00cc96\", \"#ab63fa\", \"#FFA15A\", \"#19d3f3\", \"#FF6692\", \"#B6E880\", \"#FF97FF\", \"#FECB52\"], \"font\": {\"color\": \"#2a3f5f\"}, \"geo\": {\"bgcolor\": \"white\", \"lakecolor\": \"white\", \"landcolor\": \"#E5ECF6\", \"showlakes\": true, \"showland\": true, \"subunitcolor\": \"white\"}, \"hoverlabel\": {\"align\": \"left\"}, \"hovermode\": \"closest\", \"mapbox\": {\"style\": \"light\"}, \"paper_bgcolor\": \"white\", \"plot_bgcolor\": \"#E5ECF6\", \"polar\": {\"angularaxis\": {\"gridcolor\": \"white\", \"linecolor\": \"white\", \"ticks\": \"\"}, \"bgcolor\": \"#E5ECF6\", \"radialaxis\": {\"gridcolor\": \"white\", \"linecolor\": \"white\", \"ticks\": \"\"}}, \"scene\": {\"xaxis\": {\"backgroundcolor\": \"#E5ECF6\", \"gridcolor\": \"white\", \"gridwidth\": 2, \"linecolor\": \"white\", \"showbackground\": true, \"ticks\": \"\", \"zerolinecolor\": \"white\"}, \"yaxis\": {\"backgroundcolor\": \"#E5ECF6\", \"gridcolor\": \"white\", \"gridwidth\": 2, \"linecolor\": \"white\", \"showbackground\": true, \"ticks\": \"\", \"zerolinecolor\": \"white\"}, \"zaxis\": {\"backgroundcolor\": \"#E5ECF6\", \"gridcolor\": \"white\", \"gridwidth\": 2, \"linecolor\": \"white\", \"showbackground\": true, \"ticks\": \"\", \"zerolinecolor\": \"white\"}}, \"shapedefaults\": {\"line\": {\"color\": \"#2a3f5f\"}}, \"ternary\": {\"aaxis\": {\"gridcolor\": \"white\", \"linecolor\": \"white\", \"ticks\": \"\"}, \"baxis\": {\"gridcolor\": \"white\", \"linecolor\": \"white\", \"ticks\": \"\"}, \"bgcolor\": \"#E5ECF6\", \"caxis\": {\"gridcolor\": \"white\", \"linecolor\": \"white\", \"ticks\": \"\"}}, \"title\": {\"x\": 0.05}, \"xaxis\": {\"automargin\": true, \"gridcolor\": \"white\", \"linecolor\": \"white\", \"ticks\": \"\", \"title\": {\"standoff\": 15}, \"zerolinecolor\": \"white\", \"zerolinewidth\": 2}, \"yaxis\": {\"automargin\": true, \"gridcolor\": \"white\", \"linecolor\": \"white\", \"ticks\": \"\", \"title\": {\"standoff\": 15}, \"zerolinecolor\": \"white\", \"zerolinewidth\": 2}}}},\n",
       "                        {\"responsive\": true}\n",
       "                    ).then(function(){\n",
       "                            \n",
       "var gd = document.getElementById('6278dc6f-0489-4d30-b11d-53ce85406b45');\n",
       "var x = new MutationObserver(function (mutations, observer) {{\n",
       "        var display = window.getComputedStyle(gd).display;\n",
       "        if (!display || display === 'none') {{\n",
       "            console.log([gd, 'removed!']);\n",
       "            Plotly.purge(gd);\n",
       "            observer.disconnect();\n",
       "        }}\n",
       "}});\n",
       "\n",
       "// Listen for the removal of the full notebook cells\n",
       "var notebookContainer = gd.closest('#notebook-container');\n",
       "if (notebookContainer) {{\n",
       "    x.observe(notebookContainer, {childList: true});\n",
       "}}\n",
       "\n",
       "// Listen for the clearing of the current output cell\n",
       "var outputEl = gd.closest('.output');\n",
       "if (outputEl) {{\n",
       "    x.observe(outputEl, {childList: true});\n",
       "}}\n",
       "\n",
       "                        })\n",
       "                };\n",
       "                });\n",
       "            </script>\n",
       "        </div>"
      ]
     },
     "metadata": {},
     "output_type": "display_data"
    }
   ],
   "source": [
    "dfq5 = accts.merge(group, on=['group_id']) \\\n",
    "    .merge(ast, on=['account_id'])\n",
    "\n",
    "dfq5 = dfq5.loc[(dfq5.to_state == 'UNLOCKED')]\n",
    "dfq5['registration_date'] = pd.to_datetime(dfq5['registration_date'], format='%Y-%m-%d %H:%M:%S')\n",
    "dfq5['started_when'] = pd.to_datetime(dfq5['started_when'], format='%Y-%m-%d %H:%M:%S')\n",
    "\n",
    "dfq5['actual_time_to_repay'] = dfq5['started_when'] - dfq5['registration_date']\n",
    "dfq5['actual_time_to_repay'] = dfq5['actual_time_to_repay'] / np.timedelta64(1,'h')\n",
    "\n",
    "dfq5['nominal_loan_term'] = (dfq5['price_unlock']) / (dfq5['price_clock_hour'])\n",
    "\n",
    "dfq5['time_to_repay_as%_of_term'] = dfq5['actual_time_to_repay'] / dfq5['nominal_loan_term'] * 100\n",
    "\n",
    "avg_pct = round(dfq5['time_to_repay_as%_of_term'].mean(),1)\n",
    "print('Average time to repay =', round(avg_pct,1), '% of nominal loan term')\n",
    "\n",
    "avg_pct_by_group = dfq5.groupby('group_id')['time_to_repay_as%_of_term'].mean()\n",
    "print(avg_pct_by_group)\n",
    "\n",
    "display(dfq5.head())\n",
    "display(dfq5.info())\n",
    "\n",
    "\n",
    "# Distribution by time% (each bin 50% of nominal)\n",
    "data = [go.Histogram(\n",
    "        x = dfq5['time_to_repay_as%_of_term']\n",
    ")]\n",
    "\n",
    "# Vertical dashed line to indicate the average \n",
    "layout = {'shapes': [{\n",
    "              'type' :'line',\n",
    "              'x0': avg_pct,\n",
    "              'y0': 0,\n",
    "              'x1': avg_pct,\n",
    "              'y1': 80,\n",
    "              'line': { 'dash': 'dashdot'}\n",
    "          }]\n",
    "          }\n",
    "\n",
    "plotly.offline.iplot({'data': data, 'layout': layout})"
   ]
  },
  {
   "cell_type": "markdown",
   "metadata": {},
   "source": [
    "Question 6:\n",
    "What % of the total loan value is typically paid at 100% of the nominal term?    \n",
    "\n",
    "Answer - 67.1% of loan value on average is paid by nominal term\n",
    "        "
   ]
  },
  {
   "cell_type": "code",
   "execution_count": 7,
   "metadata": {
    "scrolled": false
   },
   "outputs": [
    {
     "name": "stdout",
     "output_type": "stream",
     "text": [
      "Average % of total loan value paid at end of nominal term = 67.1 %\n"
     ]
    },
    {
     "data": {
      "text/html": [
       "<div>\n",
       "<style scoped>\n",
       "    .dataframe tbody tr th:only-of-type {\n",
       "        vertical-align: middle;\n",
       "    }\n",
       "\n",
       "    .dataframe tbody tr th {\n",
       "        vertical-align: top;\n",
       "    }\n",
       "\n",
       "    .dataframe thead th {\n",
       "        text-align: right;\n",
       "    }\n",
       "</style>\n",
       "<table border=\"1\" class=\"dataframe\">\n",
       "  <thead>\n",
       "    <tr style=\"text-align: right;\">\n",
       "      <th></th>\n",
       "      <th>account_id</th>\n",
       "      <th>group_id</th>\n",
       "      <th>organization_id</th>\n",
       "      <th>registration_date</th>\n",
       "      <th>is_written_off</th>\n",
       "      <th>is_unlocked</th>\n",
       "      <th>group_name</th>\n",
       "      <th>price_upfront</th>\n",
       "      <th>price_unlock</th>\n",
       "      <th>price_clock_hour</th>\n",
       "      <th>minimum_payment</th>\n",
       "      <th>pymt_id</th>\n",
       "      <th>effective_when</th>\n",
       "      <th>currency</th>\n",
       "      <th>amount</th>\n",
       "      <th>created_when</th>\n",
       "      <th>nominal_loan_term</th>\n",
       "      <th>nominal_loan_term_maturity</th>\n",
       "      <th>cum_amount</th>\n",
       "      <th>%_paid</th>\n",
       "    </tr>\n",
       "  </thead>\n",
       "  <tbody>\n",
       "    <tr>\n",
       "      <td>144</td>\n",
       "      <td>1.0</td>\n",
       "      <td>1.0</td>\n",
       "      <td>10001.0</td>\n",
       "      <td>2019-12-26 06:00:42.571392</td>\n",
       "      <td>False</td>\n",
       "      <td>False</td>\n",
       "      <td>Gugun Polar Wireless Product</td>\n",
       "      <td>950.0</td>\n",
       "      <td>8100.0</td>\n",
       "      <td>5.654762</td>\n",
       "      <td>71.5</td>\n",
       "      <td>2.0</td>\n",
       "      <td>2019-12-26 06:00:42.571392</td>\n",
       "      <td>KES</td>\n",
       "      <td>950.0</td>\n",
       "      <td>2020-03-12 20:03:47.925114</td>\n",
       "      <td>1432.421053</td>\n",
       "      <td>2020-02-23 22:25:58.360647600</td>\n",
       "      <td>1900.0</td>\n",
       "      <td>23.456790</td>\n",
       "    </tr>\n",
       "    <tr>\n",
       "      <td>9</td>\n",
       "      <td>2.0</td>\n",
       "      <td>1.0</td>\n",
       "      <td>10001.0</td>\n",
       "      <td>2019-11-06 05:49:39.571392</td>\n",
       "      <td>False</td>\n",
       "      <td>True</td>\n",
       "      <td>Gugun Polar Wireless Product</td>\n",
       "      <td>950.0</td>\n",
       "      <td>8100.0</td>\n",
       "      <td>5.654762</td>\n",
       "      <td>71.5</td>\n",
       "      <td>12.0</td>\n",
       "      <td>2019-12-31 00:42:05.571392</td>\n",
       "      <td>KES</td>\n",
       "      <td>395.0</td>\n",
       "      <td>2020-03-12 20:03:36.247861</td>\n",
       "      <td>1432.421053</td>\n",
       "      <td>2020-01-04 22:14:55.360647600</td>\n",
       "      <td>4998.0</td>\n",
       "      <td>61.703704</td>\n",
       "    </tr>\n",
       "    <tr>\n",
       "      <td>26</td>\n",
       "      <td>3.0</td>\n",
       "      <td>1.0</td>\n",
       "      <td>10001.0</td>\n",
       "      <td>2019-11-14 14:57:02.571392</td>\n",
       "      <td>False</td>\n",
       "      <td>False</td>\n",
       "      <td>Gugun Polar Wireless Product</td>\n",
       "      <td>950.0</td>\n",
       "      <td>8100.0</td>\n",
       "      <td>5.654762</td>\n",
       "      <td>71.5</td>\n",
       "      <td>29.0</td>\n",
       "      <td>2020-01-08 07:02:59.571392</td>\n",
       "      <td>KES</td>\n",
       "      <td>338.0</td>\n",
       "      <td>2020-03-12 20:03:37.007766</td>\n",
       "      <td>1432.421053</td>\n",
       "      <td>2020-01-13 07:22:18.360647600</td>\n",
       "      <td>5113.0</td>\n",
       "      <td>63.123457</td>\n",
       "    </tr>\n",
       "    <tr>\n",
       "      <td>43</td>\n",
       "      <td>4.0</td>\n",
       "      <td>1.0</td>\n",
       "      <td>10001.0</td>\n",
       "      <td>2019-12-11 03:18:53.571392</td>\n",
       "      <td>False</td>\n",
       "      <td>True</td>\n",
       "      <td>Gugun Polar Wireless Product</td>\n",
       "      <td>950.0</td>\n",
       "      <td>8100.0</td>\n",
       "      <td>5.654762</td>\n",
       "      <td>71.5</td>\n",
       "      <td>46.0</td>\n",
       "      <td>2020-02-02 16:59:13.571392</td>\n",
       "      <td>KES</td>\n",
       "      <td>530.0</td>\n",
       "      <td>2020-03-12 20:03:38.848432</td>\n",
       "      <td>1432.421053</td>\n",
       "      <td>2020-02-08 19:44:09.360647600</td>\n",
       "      <td>6364.0</td>\n",
       "      <td>78.567901</td>\n",
       "    </tr>\n",
       "    <tr>\n",
       "      <td>54</td>\n",
       "      <td>5.0</td>\n",
       "      <td>1.0</td>\n",
       "      <td>10001.0</td>\n",
       "      <td>2019-10-31 22:36:23.571392</td>\n",
       "      <td>False</td>\n",
       "      <td>False</td>\n",
       "      <td>Gugun Polar Wireless Product</td>\n",
       "      <td>950.0</td>\n",
       "      <td>8100.0</td>\n",
       "      <td>5.654762</td>\n",
       "      <td>71.5</td>\n",
       "      <td>57.0</td>\n",
       "      <td>2019-12-24 17:39:45.571392</td>\n",
       "      <td>KES</td>\n",
       "      <td>357.0</td>\n",
       "      <td>2020-03-12 20:03:39.952277</td>\n",
       "      <td>1432.421053</td>\n",
       "      <td>2019-12-30 15:01:39.360647600</td>\n",
       "      <td>4643.0</td>\n",
       "      <td>57.320988</td>\n",
       "    </tr>\n",
       "  </tbody>\n",
       "</table>\n",
       "</div>"
      ],
      "text/plain": [
       "     account_id  group_id  organization_id          registration_date  \\\n",
       "144         1.0       1.0          10001.0 2019-12-26 06:00:42.571392   \n",
       "9           2.0       1.0          10001.0 2019-11-06 05:49:39.571392   \n",
       "26          3.0       1.0          10001.0 2019-11-14 14:57:02.571392   \n",
       "43          4.0       1.0          10001.0 2019-12-11 03:18:53.571392   \n",
       "54          5.0       1.0          10001.0 2019-10-31 22:36:23.571392   \n",
       "\n",
       "    is_written_off is_unlocked                    group_name  price_upfront  \\\n",
       "144          False       False  Gugun Polar Wireless Product          950.0   \n",
       "9            False        True  Gugun Polar Wireless Product          950.0   \n",
       "26           False       False  Gugun Polar Wireless Product          950.0   \n",
       "43           False        True  Gugun Polar Wireless Product          950.0   \n",
       "54           False       False  Gugun Polar Wireless Product          950.0   \n",
       "\n",
       "     price_unlock  price_clock_hour  minimum_payment  pymt_id  \\\n",
       "144        8100.0          5.654762             71.5      2.0   \n",
       "9          8100.0          5.654762             71.5     12.0   \n",
       "26         8100.0          5.654762             71.5     29.0   \n",
       "43         8100.0          5.654762             71.5     46.0   \n",
       "54         8100.0          5.654762             71.5     57.0   \n",
       "\n",
       "                effective_when currency  amount               created_when  \\\n",
       "144 2019-12-26 06:00:42.571392      KES   950.0 2020-03-12 20:03:47.925114   \n",
       "9   2019-12-31 00:42:05.571392      KES   395.0 2020-03-12 20:03:36.247861   \n",
       "26  2020-01-08 07:02:59.571392      KES   338.0 2020-03-12 20:03:37.007766   \n",
       "43  2020-02-02 16:59:13.571392      KES   530.0 2020-03-12 20:03:38.848432   \n",
       "54  2019-12-24 17:39:45.571392      KES   357.0 2020-03-12 20:03:39.952277   \n",
       "\n",
       "     nominal_loan_term    nominal_loan_term_maturity  cum_amount     %_paid  \n",
       "144        1432.421053 2020-02-23 22:25:58.360647600      1900.0  23.456790  \n",
       "9          1432.421053 2020-01-04 22:14:55.360647600      4998.0  61.703704  \n",
       "26         1432.421053 2020-01-13 07:22:18.360647600      5113.0  63.123457  \n",
       "43         1432.421053 2020-02-08 19:44:09.360647600      6364.0  78.567901  \n",
       "54         1432.421053 2019-12-30 15:01:39.360647600      4643.0  57.320988  "
      ]
     },
     "metadata": {},
     "output_type": "display_data"
    },
    {
     "name": "stdout",
     "output_type": "stream",
     "text": [
      "<class 'pandas.core.frame.DataFrame'>\n",
      "Int64Index: 518 entries, 144 to 9416\n",
      "Data columns (total 20 columns):\n",
      "account_id                    518 non-null float64\n",
      "group_id                      518 non-null float64\n",
      "organization_id               518 non-null float64\n",
      "registration_date             518 non-null datetime64[ns]\n",
      "is_written_off                518 non-null object\n",
      "is_unlocked                   518 non-null object\n",
      "group_name                    518 non-null object\n",
      "price_upfront                 518 non-null float64\n",
      "price_unlock                  518 non-null float64\n",
      "price_clock_hour              518 non-null float64\n",
      "minimum_payment               518 non-null float64\n",
      "pymt_id                       518 non-null float64\n",
      "effective_when                518 non-null datetime64[ns]\n",
      "currency                      518 non-null object\n",
      "amount                        518 non-null float64\n",
      "created_when                  518 non-null datetime64[ns]\n",
      "nominal_loan_term             518 non-null float64\n",
      "nominal_loan_term_maturity    518 non-null datetime64[ns]\n",
      "cum_amount                    518 non-null float64\n",
      "%_paid                        518 non-null float64\n",
      "dtypes: datetime64[ns](4), float64(12), object(4)\n",
      "memory usage: 85.0+ KB\n"
     ]
    },
    {
     "data": {
      "text/plain": [
       "None"
      ]
     },
     "metadata": {},
     "output_type": "display_data"
    },
    {
     "data": {
      "application/vnd.plotly.v1+json": {
       "config": {
        "linkText": "Export to plot.ly",
        "plotlyServerURL": "https://plot.ly",
        "showLink": false
       },
       "data": [
        {
         "type": "histogram",
         "x": [
          23.456790123456788,
          61.7037037037037,
          63.123456790123456,
          78.5679012345679,
          57.32098765432099,
          52.81481481481482,
          70.44444444444444,
          54.01234567901234,
          84.53086419753086,
          50.80246913580246,
          58.540983606557376,
          91.01639344262296,
          55.557377049180324,
          49.18032786885246,
          54.93442622950819,
          96.21311475409836,
          59.032786885245905,
          95.18032786885246,
          91.26229508196721,
          55.57377049180327,
          55.9016393442623,
          30.76923076923077,
          36.40384615384615,
          86.5576923076923,
          79.09615384615385,
          41.44230769230769,
          41.51923076923077,
          42.98076923076923,
          39.73076923076923,
          71.6923076923077,
          30.76923076923077,
          39.53846153846154,
          46.39344262295082,
          77.11475409836066,
          55.85245901639344,
          70.95081967213115,
          68.70491803278689,
          68.08196721311475,
          68.31147540983606,
          71.67213114754098,
          62.803278688524586,
          81.09836065573771,
          74.91803278688525,
          71.08196721311475,
          72.72131147540983,
          36.0655737704918,
          76.03278688524591,
          84.78688524590164,
          82.9672131147541,
          80.81967213114754,
          76.59016393442623,
          43.127272727272725,
          69.98181818181818,
          60.290909090909096,
          77.69090909090909,
          40.38181818181818,
          40.25454545454545,
          65.9090909090909,
          66.56363636363636,
          46.6,
          35.654545454545456,
          40.31147540983607,
          72.19672131147541,
          28.42622950819672,
          43.0327868852459,
          28.688524590163933,
          55.278688524590166,
          59.27868852459016,
          81.42622950819673,
          63.13114754098361,
          54.622950819672134,
          24.540983606557376,
          68.42622950819673,
          81.68852459016394,
          37.62295081967213,
          81.04918032786885,
          81.32786885245902,
          29.508196721311474,
          100,
          73.33557046979865,
          56.530201342281885,
          69.42953020134229,
          73.56375838926175,
          65.20805369127517,
          70.79865771812081,
          74.8724832214765,
          66.65771812080537,
          100,
          49.04697986577181,
          66.9261744966443,
          58.375838926174495,
          55.4496644295302,
          61.570469798657726,
          68.44295302013423,
          67.64429530201342,
          75.1275167785235,
          37.56375838926175,
          77.42857142857143,
          80.15873015873017,
          71.0952380952381,
          38.80952380952381,
          67.4920634920635,
          78.14285714285715,
          77.25396825396825,
          48.079365079365076,
          28.57142857142857,
          74.60317460317461,
          58.67213114754099,
          77.78688524590164,
          58.868852459016395,
          75.77049180327869,
          52.0655737704918,
          46.21311475409836,
          60.26229508196721,
          48.131147540983605,
          80.01639344262294,
          36.114754098360656,
          41.83606557377049,
          61.68852459016393,
          73.78688524590163,
          54.459016393442624,
          54.77049180327869,
          67.75409836065573,
          59.27868852459016,
          62.18032786885246,
          67.91803278688523,
          55.24590163934426,
          64.34426229508196,
          78.73770491803279,
          83.01639344262296,
          80.0327868852459,
          77.72131147540983,
          53.147540983606554,
          64.08196721311475,
          100,
          86.90163934426229,
          72.77049180327869,
          72.73770491803279,
          81.78688524590164,
          67.08196721311475,
          83.36065573770492,
          86.45901639344262,
          70.0327868852459,
          100,
          81.31147540983606,
          93.11956521739131,
          87.82608695652175,
          92.96739130434783,
          84.25,
          90.11956521739131,
          93.30434782608695,
          82.33695652173914,
          91.98913043478261,
          90.51086956521739,
          88.16304347826087,
          43.47826086956522,
          51.3695652173913,
          43.47826086956522,
          90.58695652173913,
          91.06521739130434,
          85.6413043478261,
          43.47826086956522,
          48.5,
          93.84782608695652,
          90.63043478260869,
          92.26086956521739,
          71.92666666666668,
          64.15333333333334,
          46.053333333333335,
          47.38,
          54.559999999999995,
          55.13333333333333,
          61.266666666666666,
          79.7,
          77.09333333333333,
          49.25333333333333,
          82.19333333333333,
          79.91666666666667,
          63.11666666666667,
          90.4,
          79.55,
          70.89999999999999,
          55.233333333333334,
          74.55000000000001,
          53.46666666666666,
          72.56666666666666,
          26.666666666666668,
          56.8030303030303,
          43.93939393939394,
          92.1969696969697,
          95.96969696969697,
          87.40909090909092,
          93.68181818181817,
          57.36363636363636,
          90.68181818181819,
          89.7121212121212,
          90.6060606060606,
          43.93939393939394,
          84.66666666666667,
          91.77272727272727,
          43.93939393939394,
          80.1969696969697,
          96.03030303030303,
          89.53030303030303,
          85.43939393939394,
          43.93939393939394,
          88.83333333333333,
          87.52459016393442,
          63.77049180327868,
          86.72131147540983,
          95.60655737704919,
          58.21311475409836,
          93.88524590163935,
          53.11475409836065,
          53.54098360655738,
          90.93442622950819,
          96.77049180327869,
          65.8688524590164,
          54.01639344262294,
          90.04918032786885,
          90.81967213114754,
          98.52459016393442,
          85.78688524590163,
          88.8360655737705,
          86.8360655737705,
          80.26229508196721,
          44.26229508196721,
          89.57377049180329,
          23.214285714285715,
          67.35714285714286,
          54.285714285714285,
          23.214285714285715,
          58.75,
          45.14285714285714,
          64.48214285714286,
          69.10714285714286,
          51.83928571428571,
          63.767857142857146,
          54.75,
          68.48214285714286,
          33.19642857142857,
          60.69642857142858,
          23.214285714285715,
          57.31481481481482,
          40.27777777777778,
          62.70370370370371,
          32.07407407407407,
          58.333333333333336,
          46.05555555555556,
          56.99999999999999,
          76.51851851851852,
          68.62962962962963,
          76.16666666666667,
          62.85185185185185,
          56.611111111111114,
          67.16666666666666,
          60.03703703703703,
          61.370370370370374,
          78.87037037037037,
          48.74074074074074,
          72.29629629629629,
          71.79629629629629,
          52.78571428571428,
          89.41071428571429,
          35.714285714285715,
          83.16071428571429,
          51.83928571428571,
          46.25,
          90.03571428571429,
          80.23214285714285,
          86.25,
          86.71428571428571,
          57.01785714285714,
          76.59375,
          51.390625,
          76.71875,
          51.390625,
          83.03125,
          84.015625,
          74.96875,
          63.35937499999999,
          75.03125,
          54.77049180327869,
          100,
          87.90163934426229,
          100,
          48.67213114754098,
          81.68852459016394,
          58.049180327868854,
          78.68852459016394,
          59.01639344262295,
          87.36065573770492,
          84.01639344262296,
          84.63934426229508,
          66.1311475409836,
          73.63934426229508,
          57.08196721311476,
          59.049180327868854,
          59.77049180327869,
          62.967213114754095,
          100,
          74.34426229508196,
          83.88524590163935,
          90.45901639344262,
          39.34426229508197,
          39.34426229508197,
          88.40983606557377,
          88.47272727272727,
          100,
          84.25454545454546,
          82.54545454545455,
          100,
          89.21818181818182,
          86.83636363636363,
          87.21818181818182,
          96.21818181818182,
          75.43636363636364,
          99.72727272727273,
          51.77049180327869,
          72.59016393442623,
          21.311475409836063,
          68.50819672131148,
          52.63934426229508,
          76,
          68.26229508196721,
          76.36065573770492,
          64.8688524590164,
          65.36065573770492,
          63.55737704918033,
          21.311475409836063,
          49.393442622950815,
          49.0655737704918,
          66.45901639344262,
          55.786885245901644,
          54.67213114754098,
          57.45901639344262,
          26.721311475409838,
          58.05357142857142,
          86.05357142857143,
          92.96428571428571,
          90.83928571428571,
          95.03571428571429,
          91.10714285714285,
          50,
          94.25,
          69.08928571428572,
          50,
          87.21428571428571,
          94.01785714285714,
          94.05357142857143,
          92.10714285714286,
          55.839285714285715,
          55.53571428571429,
          57.69642857142857,
          59.44642857142857,
          95.10714285714286,
          57.14285714285714,
          57.57142857142858,
          90.7090909090909,
          87.72727272727273,
          50.8,
          90.25454545454545,
          89.83636363636364,
          60.65454545454545,
          88.27272727272727,
          46.490909090909085,
          83.03636363636365,
          52.27272727272727,
          84.74545454545455,
          46.967213114754095,
          45.14754098360656,
          83.65573770491804,
          76.54098360655738,
          82.29508196721311,
          76.8360655737705,
          52.49180327868852,
          82.9672131147541,
          55.11475409836065,
          78.60655737704919,
          49.049180327868854,
          83.63934426229508,
          79.55737704918033,
          44.459016393442624,
          84.19672131147541,
          41.22950819672131,
          46.032786885245905,
          91.31147540983606,
          70.39344262295081,
          49.9672131147541,
          25,
          93,
          62.18333333333334,
          61.95,
          57.91666666666667,
          100,
          64.3,
          68.81666666666668,
          60.25,
          64.18333333333334,
          54.43333333333334,
          65.61666666666667,
          72.81666666666666,
          73.13333333333333,
          25,
          32.5,
          63.65,
          59.95,
          64.77049180327869,
          36.0655737704918,
          67.72131147540983,
          82.47540983606557,
          91.06557377049181,
          91.93442622950819,
          71.54098360655738,
          79.26229508196721,
          66.26984126984127,
          47.095238095238095,
          30.158730158730158,
          84.76190476190476,
          51.36507936507937,
          30.158730158730158,
          62.61904761904762,
          59.88888888888889,
          83.01587301587303,
          84.01587301587301,
          71.53968253968253,
          81.47619047619048,
          78.03174603174602,
          58.65079365079365,
          30.158730158730158,
          74.01587301587301,
          57.57142857142858,
          67.87301587301587,
          50.39682539682539,
          79.68253968253968,
          30.158730158730158,
          73.9074074074074,
          76.16666666666667,
          82.27777777777779,
          39.38888888888889,
          22.22222222222222,
          68,
          56.407407407407405,
          31.814814814814813,
          42.55555555555556,
          74.96296296296296,
          68.57407407407408,
          49.666666666666664,
          39.81481481481482,
          72.51851851851852,
          54.462962962962955,
          42.629629629629626,
          46.31481481481482,
          62.94444444444445,
          75.13793103448276,
          62.06896551724138,
          62.6551724137931,
          63.58620689655172,
          74.6896551724138,
          90.75862068965517,
          61.258620689655174,
          67.74137931034483,
          72.37931034482759,
          24.137931034482758,
          60.362068965517246,
          24.137931034482758,
          28.86206896551724,
          24.137931034482758,
          71.17241379310344,
          65.5,
          53.706896551724135,
          47.05172413793103,
          61.03448275862069,
          57.22413793103448,
          61.06896551724138,
          78.63793103448276,
          78.8448275862069,
          48.3448275862069,
          41.89655172413793,
          70.62068965517241,
          49.637931034482754,
          43.672413793103445,
          78.24137931034483,
          72.55172413793105,
          25.862068965517242,
          66.37931034482759,
          95.96825396825398,
          88.93650793650794,
          82.33333333333334,
          50.53968253968254,
          90.68253968253968,
          94.76190476190476,
          50.11111111111111,
          85.46031746031746,
          63.301587301587304,
          88.19047619047619,
          61.238095238095234,
          89.83516483516483,
          91.6043956043956,
          94.43956043956044,
          96.5934065934066,
          100,
          69.72527472527472,
          95.25274725274726,
          72.15384615384616,
          90.83516483516483,
          93.21978021978022,
          84.3076923076923,
          67.07692307692308,
          70.5,
          77.65384615384615,
          73.82692307692308,
          52.82692307692308,
          70.57692307692308,
          83.0576923076923,
          67.46153846153847,
          66.84615384615384,
          76.26923076923077
         ]
        }
       ],
       "layout": {
        "shapes": [
         {
          "line": {
           "dash": "dashdot"
          },
          "type": "line",
          "x0": 67.0687853930049,
          "x1": 67.0687853930049,
          "y0": 0,
          "y1": 100
         }
        ],
        "template": {
         "data": {
          "bar": [
           {
            "error_x": {
             "color": "#2a3f5f"
            },
            "error_y": {
             "color": "#2a3f5f"
            },
            "marker": {
             "line": {
              "color": "#E5ECF6",
              "width": 0.5
             }
            },
            "type": "bar"
           }
          ],
          "barpolar": [
           {
            "marker": {
             "line": {
              "color": "#E5ECF6",
              "width": 0.5
             }
            },
            "type": "barpolar"
           }
          ],
          "carpet": [
           {
            "aaxis": {
             "endlinecolor": "#2a3f5f",
             "gridcolor": "white",
             "linecolor": "white",
             "minorgridcolor": "white",
             "startlinecolor": "#2a3f5f"
            },
            "baxis": {
             "endlinecolor": "#2a3f5f",
             "gridcolor": "white",
             "linecolor": "white",
             "minorgridcolor": "white",
             "startlinecolor": "#2a3f5f"
            },
            "type": "carpet"
           }
          ],
          "choropleth": [
           {
            "colorbar": {
             "outlinewidth": 0,
             "ticks": ""
            },
            "type": "choropleth"
           }
          ],
          "contour": [
           {
            "colorbar": {
             "outlinewidth": 0,
             "ticks": ""
            },
            "colorscale": [
             [
              0,
              "#0d0887"
             ],
             [
              0.1111111111111111,
              "#46039f"
             ],
             [
              0.2222222222222222,
              "#7201a8"
             ],
             [
              0.3333333333333333,
              "#9c179e"
             ],
             [
              0.4444444444444444,
              "#bd3786"
             ],
             [
              0.5555555555555556,
              "#d8576b"
             ],
             [
              0.6666666666666666,
              "#ed7953"
             ],
             [
              0.7777777777777778,
              "#fb9f3a"
             ],
             [
              0.8888888888888888,
              "#fdca26"
             ],
             [
              1,
              "#f0f921"
             ]
            ],
            "type": "contour"
           }
          ],
          "contourcarpet": [
           {
            "colorbar": {
             "outlinewidth": 0,
             "ticks": ""
            },
            "type": "contourcarpet"
           }
          ],
          "heatmap": [
           {
            "colorbar": {
             "outlinewidth": 0,
             "ticks": ""
            },
            "colorscale": [
             [
              0,
              "#0d0887"
             ],
             [
              0.1111111111111111,
              "#46039f"
             ],
             [
              0.2222222222222222,
              "#7201a8"
             ],
             [
              0.3333333333333333,
              "#9c179e"
             ],
             [
              0.4444444444444444,
              "#bd3786"
             ],
             [
              0.5555555555555556,
              "#d8576b"
             ],
             [
              0.6666666666666666,
              "#ed7953"
             ],
             [
              0.7777777777777778,
              "#fb9f3a"
             ],
             [
              0.8888888888888888,
              "#fdca26"
             ],
             [
              1,
              "#f0f921"
             ]
            ],
            "type": "heatmap"
           }
          ],
          "heatmapgl": [
           {
            "colorbar": {
             "outlinewidth": 0,
             "ticks": ""
            },
            "colorscale": [
             [
              0,
              "#0d0887"
             ],
             [
              0.1111111111111111,
              "#46039f"
             ],
             [
              0.2222222222222222,
              "#7201a8"
             ],
             [
              0.3333333333333333,
              "#9c179e"
             ],
             [
              0.4444444444444444,
              "#bd3786"
             ],
             [
              0.5555555555555556,
              "#d8576b"
             ],
             [
              0.6666666666666666,
              "#ed7953"
             ],
             [
              0.7777777777777778,
              "#fb9f3a"
             ],
             [
              0.8888888888888888,
              "#fdca26"
             ],
             [
              1,
              "#f0f921"
             ]
            ],
            "type": "heatmapgl"
           }
          ],
          "histogram": [
           {
            "marker": {
             "colorbar": {
              "outlinewidth": 0,
              "ticks": ""
             }
            },
            "type": "histogram"
           }
          ],
          "histogram2d": [
           {
            "colorbar": {
             "outlinewidth": 0,
             "ticks": ""
            },
            "colorscale": [
             [
              0,
              "#0d0887"
             ],
             [
              0.1111111111111111,
              "#46039f"
             ],
             [
              0.2222222222222222,
              "#7201a8"
             ],
             [
              0.3333333333333333,
              "#9c179e"
             ],
             [
              0.4444444444444444,
              "#bd3786"
             ],
             [
              0.5555555555555556,
              "#d8576b"
             ],
             [
              0.6666666666666666,
              "#ed7953"
             ],
             [
              0.7777777777777778,
              "#fb9f3a"
             ],
             [
              0.8888888888888888,
              "#fdca26"
             ],
             [
              1,
              "#f0f921"
             ]
            ],
            "type": "histogram2d"
           }
          ],
          "histogram2dcontour": [
           {
            "colorbar": {
             "outlinewidth": 0,
             "ticks": ""
            },
            "colorscale": [
             [
              0,
              "#0d0887"
             ],
             [
              0.1111111111111111,
              "#46039f"
             ],
             [
              0.2222222222222222,
              "#7201a8"
             ],
             [
              0.3333333333333333,
              "#9c179e"
             ],
             [
              0.4444444444444444,
              "#bd3786"
             ],
             [
              0.5555555555555556,
              "#d8576b"
             ],
             [
              0.6666666666666666,
              "#ed7953"
             ],
             [
              0.7777777777777778,
              "#fb9f3a"
             ],
             [
              0.8888888888888888,
              "#fdca26"
             ],
             [
              1,
              "#f0f921"
             ]
            ],
            "type": "histogram2dcontour"
           }
          ],
          "mesh3d": [
           {
            "colorbar": {
             "outlinewidth": 0,
             "ticks": ""
            },
            "type": "mesh3d"
           }
          ],
          "parcoords": [
           {
            "line": {
             "colorbar": {
              "outlinewidth": 0,
              "ticks": ""
             }
            },
            "type": "parcoords"
           }
          ],
          "pie": [
           {
            "automargin": true,
            "type": "pie"
           }
          ],
          "scatter": [
           {
            "marker": {
             "colorbar": {
              "outlinewidth": 0,
              "ticks": ""
             }
            },
            "type": "scatter"
           }
          ],
          "scatter3d": [
           {
            "line": {
             "colorbar": {
              "outlinewidth": 0,
              "ticks": ""
             }
            },
            "marker": {
             "colorbar": {
              "outlinewidth": 0,
              "ticks": ""
             }
            },
            "type": "scatter3d"
           }
          ],
          "scattercarpet": [
           {
            "marker": {
             "colorbar": {
              "outlinewidth": 0,
              "ticks": ""
             }
            },
            "type": "scattercarpet"
           }
          ],
          "scattergeo": [
           {
            "marker": {
             "colorbar": {
              "outlinewidth": 0,
              "ticks": ""
             }
            },
            "type": "scattergeo"
           }
          ],
          "scattergl": [
           {
            "marker": {
             "colorbar": {
              "outlinewidth": 0,
              "ticks": ""
             }
            },
            "type": "scattergl"
           }
          ],
          "scattermapbox": [
           {
            "marker": {
             "colorbar": {
              "outlinewidth": 0,
              "ticks": ""
             }
            },
            "type": "scattermapbox"
           }
          ],
          "scatterpolar": [
           {
            "marker": {
             "colorbar": {
              "outlinewidth": 0,
              "ticks": ""
             }
            },
            "type": "scatterpolar"
           }
          ],
          "scatterpolargl": [
           {
            "marker": {
             "colorbar": {
              "outlinewidth": 0,
              "ticks": ""
             }
            },
            "type": "scatterpolargl"
           }
          ],
          "scatterternary": [
           {
            "marker": {
             "colorbar": {
              "outlinewidth": 0,
              "ticks": ""
             }
            },
            "type": "scatterternary"
           }
          ],
          "surface": [
           {
            "colorbar": {
             "outlinewidth": 0,
             "ticks": ""
            },
            "colorscale": [
             [
              0,
              "#0d0887"
             ],
             [
              0.1111111111111111,
              "#46039f"
             ],
             [
              0.2222222222222222,
              "#7201a8"
             ],
             [
              0.3333333333333333,
              "#9c179e"
             ],
             [
              0.4444444444444444,
              "#bd3786"
             ],
             [
              0.5555555555555556,
              "#d8576b"
             ],
             [
              0.6666666666666666,
              "#ed7953"
             ],
             [
              0.7777777777777778,
              "#fb9f3a"
             ],
             [
              0.8888888888888888,
              "#fdca26"
             ],
             [
              1,
              "#f0f921"
             ]
            ],
            "type": "surface"
           }
          ],
          "table": [
           {
            "cells": {
             "fill": {
              "color": "#EBF0F8"
             },
             "line": {
              "color": "white"
             }
            },
            "header": {
             "fill": {
              "color": "#C8D4E3"
             },
             "line": {
              "color": "white"
             }
            },
            "type": "table"
           }
          ]
         },
         "layout": {
          "annotationdefaults": {
           "arrowcolor": "#2a3f5f",
           "arrowhead": 0,
           "arrowwidth": 1
          },
          "coloraxis": {
           "colorbar": {
            "outlinewidth": 0,
            "ticks": ""
           }
          },
          "colorscale": {
           "diverging": [
            [
             0,
             "#8e0152"
            ],
            [
             0.1,
             "#c51b7d"
            ],
            [
             0.2,
             "#de77ae"
            ],
            [
             0.3,
             "#f1b6da"
            ],
            [
             0.4,
             "#fde0ef"
            ],
            [
             0.5,
             "#f7f7f7"
            ],
            [
             0.6,
             "#e6f5d0"
            ],
            [
             0.7,
             "#b8e186"
            ],
            [
             0.8,
             "#7fbc41"
            ],
            [
             0.9,
             "#4d9221"
            ],
            [
             1,
             "#276419"
            ]
           ],
           "sequential": [
            [
             0,
             "#0d0887"
            ],
            [
             0.1111111111111111,
             "#46039f"
            ],
            [
             0.2222222222222222,
             "#7201a8"
            ],
            [
             0.3333333333333333,
             "#9c179e"
            ],
            [
             0.4444444444444444,
             "#bd3786"
            ],
            [
             0.5555555555555556,
             "#d8576b"
            ],
            [
             0.6666666666666666,
             "#ed7953"
            ],
            [
             0.7777777777777778,
             "#fb9f3a"
            ],
            [
             0.8888888888888888,
             "#fdca26"
            ],
            [
             1,
             "#f0f921"
            ]
           ],
           "sequentialminus": [
            [
             0,
             "#0d0887"
            ],
            [
             0.1111111111111111,
             "#46039f"
            ],
            [
             0.2222222222222222,
             "#7201a8"
            ],
            [
             0.3333333333333333,
             "#9c179e"
            ],
            [
             0.4444444444444444,
             "#bd3786"
            ],
            [
             0.5555555555555556,
             "#d8576b"
            ],
            [
             0.6666666666666666,
             "#ed7953"
            ],
            [
             0.7777777777777778,
             "#fb9f3a"
            ],
            [
             0.8888888888888888,
             "#fdca26"
            ],
            [
             1,
             "#f0f921"
            ]
           ]
          },
          "colorway": [
           "#636efa",
           "#EF553B",
           "#00cc96",
           "#ab63fa",
           "#FFA15A",
           "#19d3f3",
           "#FF6692",
           "#B6E880",
           "#FF97FF",
           "#FECB52"
          ],
          "font": {
           "color": "#2a3f5f"
          },
          "geo": {
           "bgcolor": "white",
           "lakecolor": "white",
           "landcolor": "#E5ECF6",
           "showlakes": true,
           "showland": true,
           "subunitcolor": "white"
          },
          "hoverlabel": {
           "align": "left"
          },
          "hovermode": "closest",
          "mapbox": {
           "style": "light"
          },
          "paper_bgcolor": "white",
          "plot_bgcolor": "#E5ECF6",
          "polar": {
           "angularaxis": {
            "gridcolor": "white",
            "linecolor": "white",
            "ticks": ""
           },
           "bgcolor": "#E5ECF6",
           "radialaxis": {
            "gridcolor": "white",
            "linecolor": "white",
            "ticks": ""
           }
          },
          "scene": {
           "xaxis": {
            "backgroundcolor": "#E5ECF6",
            "gridcolor": "white",
            "gridwidth": 2,
            "linecolor": "white",
            "showbackground": true,
            "ticks": "",
            "zerolinecolor": "white"
           },
           "yaxis": {
            "backgroundcolor": "#E5ECF6",
            "gridcolor": "white",
            "gridwidth": 2,
            "linecolor": "white",
            "showbackground": true,
            "ticks": "",
            "zerolinecolor": "white"
           },
           "zaxis": {
            "backgroundcolor": "#E5ECF6",
            "gridcolor": "white",
            "gridwidth": 2,
            "linecolor": "white",
            "showbackground": true,
            "ticks": "",
            "zerolinecolor": "white"
           }
          },
          "shapedefaults": {
           "line": {
            "color": "#2a3f5f"
           }
          },
          "ternary": {
           "aaxis": {
            "gridcolor": "white",
            "linecolor": "white",
            "ticks": ""
           },
           "baxis": {
            "gridcolor": "white",
            "linecolor": "white",
            "ticks": ""
           },
           "bgcolor": "#E5ECF6",
           "caxis": {
            "gridcolor": "white",
            "linecolor": "white",
            "ticks": ""
           }
          },
          "title": {
           "x": 0.05
          },
          "xaxis": {
           "automargin": true,
           "gridcolor": "white",
           "linecolor": "white",
           "ticks": "",
           "title": {
            "standoff": 15
           },
           "zerolinecolor": "white",
           "zerolinewidth": 2
          },
          "yaxis": {
           "automargin": true,
           "gridcolor": "white",
           "linecolor": "white",
           "ticks": "",
           "title": {
            "standoff": 15
           },
           "zerolinecolor": "white",
           "zerolinewidth": 2
          }
         }
        }
       }
      },
      "text/html": [
       "<div>\n",
       "        \n",
       "        \n",
       "            <div id=\"eb10771b-8a4c-4aab-9641-6279ad953434\" class=\"plotly-graph-div\" style=\"height:525px; width:100%;\"></div>\n",
       "            <script type=\"text/javascript\">\n",
       "                require([\"plotly\"], function(Plotly) {\n",
       "                    window.PLOTLYENV=window.PLOTLYENV || {};\n",
       "                    \n",
       "                if (document.getElementById(\"eb10771b-8a4c-4aab-9641-6279ad953434\")) {\n",
       "                    Plotly.newPlot(\n",
       "                        'eb10771b-8a4c-4aab-9641-6279ad953434',\n",
       "                        [{\"type\": \"histogram\", \"x\": [23.456790123456788, 61.7037037037037, 63.123456790123456, 78.5679012345679, 57.32098765432099, 52.81481481481482, 70.44444444444444, 54.01234567901234, 84.53086419753086, 50.80246913580246, 58.540983606557376, 91.01639344262296, 55.557377049180324, 49.18032786885246, 54.93442622950819, 96.21311475409836, 59.032786885245905, 95.18032786885246, 91.26229508196721, 55.57377049180327, 55.9016393442623, 30.76923076923077, 36.40384615384615, 86.5576923076923, 79.09615384615385, 41.44230769230769, 41.51923076923077, 42.98076923076923, 39.73076923076923, 71.6923076923077, 30.76923076923077, 39.53846153846154, 46.39344262295082, 77.11475409836066, 55.85245901639344, 70.95081967213115, 68.70491803278689, 68.08196721311475, 68.31147540983606, 71.67213114754098, 62.803278688524586, 81.09836065573771, 74.91803278688525, 71.08196721311475, 72.72131147540983, 36.0655737704918, 76.03278688524591, 84.78688524590164, 82.9672131147541, 80.81967213114754, 76.59016393442623, 43.127272727272725, 69.98181818181818, 60.290909090909096, 77.69090909090909, 40.38181818181818, 40.25454545454545, 65.9090909090909, 66.56363636363636, 46.6, 35.654545454545456, 40.31147540983607, 72.19672131147541, 28.42622950819672, 43.0327868852459, 28.688524590163933, 55.278688524590166, 59.27868852459016, 81.42622950819673, 63.13114754098361, 54.622950819672134, 24.540983606557376, 68.42622950819673, 81.68852459016394, 37.62295081967213, 81.04918032786885, 81.32786885245902, 29.508196721311474, 100.0, 73.33557046979865, 56.530201342281885, 69.42953020134229, 73.56375838926175, 65.20805369127517, 70.79865771812081, 74.8724832214765, 66.65771812080537, 100.0, 49.04697986577181, 66.9261744966443, 58.375838926174495, 55.4496644295302, 61.570469798657726, 68.44295302013423, 67.64429530201342, 75.1275167785235, 37.56375838926175, 77.42857142857143, 80.15873015873017, 71.0952380952381, 38.80952380952381, 67.4920634920635, 78.14285714285715, 77.25396825396825, 48.079365079365076, 28.57142857142857, 74.60317460317461, 58.67213114754099, 77.78688524590164, 58.868852459016395, 75.77049180327869, 52.0655737704918, 46.21311475409836, 60.26229508196721, 48.131147540983605, 80.01639344262294, 36.114754098360656, 41.83606557377049, 61.68852459016393, 73.78688524590163, 54.459016393442624, 54.77049180327869, 67.75409836065573, 59.27868852459016, 62.18032786885246, 67.91803278688523, 55.24590163934426, 64.34426229508196, 78.73770491803279, 83.01639344262296, 80.0327868852459, 77.72131147540983, 53.147540983606554, 64.08196721311475, 100.0, 86.90163934426229, 72.77049180327869, 72.73770491803279, 81.78688524590164, 67.08196721311475, 83.36065573770492, 86.45901639344262, 70.0327868852459, 100.0, 81.31147540983606, 93.11956521739131, 87.82608695652175, 92.96739130434783, 84.25, 90.11956521739131, 93.30434782608695, 82.33695652173914, 91.98913043478261, 90.51086956521739, 88.16304347826087, 43.47826086956522, 51.3695652173913, 43.47826086956522, 90.58695652173913, 91.06521739130434, 85.6413043478261, 43.47826086956522, 48.5, 93.84782608695652, 90.63043478260869, 92.26086956521739, 71.92666666666668, 64.15333333333334, 46.053333333333335, 47.38, 54.559999999999995, 55.13333333333333, 61.266666666666666, 79.7, 77.09333333333333, 49.25333333333333, 82.19333333333333, 79.91666666666667, 63.11666666666667, 90.4, 79.55, 70.89999999999999, 55.233333333333334, 74.55000000000001, 53.46666666666666, 72.56666666666666, 26.666666666666668, 56.8030303030303, 43.93939393939394, 92.1969696969697, 95.96969696969697, 87.40909090909092, 93.68181818181817, 57.36363636363636, 90.68181818181819, 89.7121212121212, 90.6060606060606, 43.93939393939394, 84.66666666666667, 91.77272727272727, 43.93939393939394, 80.1969696969697, 96.03030303030303, 89.53030303030303, 85.43939393939394, 43.93939393939394, 88.83333333333333, 87.52459016393442, 63.77049180327868, 86.72131147540983, 95.60655737704919, 58.21311475409836, 93.88524590163935, 53.11475409836065, 53.54098360655738, 90.93442622950819, 96.77049180327869, 65.8688524590164, 54.01639344262294, 90.04918032786885, 90.81967213114754, 98.52459016393442, 85.78688524590163, 88.8360655737705, 86.8360655737705, 80.26229508196721, 44.26229508196721, 89.57377049180329, 23.214285714285715, 67.35714285714286, 54.285714285714285, 23.214285714285715, 58.75, 45.14285714285714, 64.48214285714286, 69.10714285714286, 51.83928571428571, 63.767857142857146, 54.75, 68.48214285714286, 33.19642857142857, 60.69642857142858, 23.214285714285715, 57.31481481481482, 40.27777777777778, 62.70370370370371, 32.07407407407407, 58.333333333333336, 46.05555555555556, 56.99999999999999, 76.51851851851852, 68.62962962962963, 76.16666666666667, 62.85185185185185, 56.611111111111114, 67.16666666666666, 60.03703703703703, 61.370370370370374, 78.87037037037037, 48.74074074074074, 72.29629629629629, 71.79629629629629, 52.78571428571428, 89.41071428571429, 35.714285714285715, 83.16071428571429, 51.83928571428571, 46.25, 90.03571428571429, 80.23214285714285, 86.25, 86.71428571428571, 57.01785714285714, 76.59375, 51.390625, 76.71875, 51.390625, 83.03125, 84.015625, 74.96875, 63.35937499999999, 75.03125, 54.77049180327869, 100.0, 87.90163934426229, 100.0, 48.67213114754098, 81.68852459016394, 58.049180327868854, 78.68852459016394, 59.01639344262295, 87.36065573770492, 84.01639344262296, 84.63934426229508, 66.1311475409836, 73.63934426229508, 57.08196721311476, 59.049180327868854, 59.77049180327869, 62.967213114754095, 100.0, 74.34426229508196, 83.88524590163935, 90.45901639344262, 39.34426229508197, 39.34426229508197, 88.40983606557377, 88.47272727272727, 100.0, 84.25454545454546, 82.54545454545455, 100.0, 89.21818181818182, 86.83636363636363, 87.21818181818182, 96.21818181818182, 75.43636363636364, 99.72727272727273, 51.77049180327869, 72.59016393442623, 21.311475409836063, 68.50819672131148, 52.63934426229508, 76.0, 68.26229508196721, 76.36065573770492, 64.8688524590164, 65.36065573770492, 63.55737704918033, 21.311475409836063, 49.393442622950815, 49.0655737704918, 66.45901639344262, 55.786885245901644, 54.67213114754098, 57.45901639344262, 26.721311475409838, 58.05357142857142, 86.05357142857143, 92.96428571428571, 90.83928571428571, 95.03571428571429, 91.10714285714285, 50.0, 94.25, 69.08928571428572, 50.0, 87.21428571428571, 94.01785714285714, 94.05357142857143, 92.10714285714286, 55.839285714285715, 55.53571428571429, 57.69642857142857, 59.44642857142857, 95.10714285714286, 57.14285714285714, 57.57142857142858, 90.7090909090909, 87.72727272727273, 50.8, 90.25454545454545, 89.83636363636364, 60.65454545454545, 88.27272727272727, 46.490909090909085, 83.03636363636365, 52.27272727272727, 84.74545454545455, 46.967213114754095, 45.14754098360656, 83.65573770491804, 76.54098360655738, 82.29508196721311, 76.8360655737705, 52.49180327868852, 82.9672131147541, 55.11475409836065, 78.60655737704919, 49.049180327868854, 83.63934426229508, 79.55737704918033, 44.459016393442624, 84.19672131147541, 41.22950819672131, 46.032786885245905, 91.31147540983606, 70.39344262295081, 49.9672131147541, 25.0, 93.0, 62.18333333333334, 61.95, 57.91666666666667, 100.0, 64.3, 68.81666666666668, 60.25, 64.18333333333334, 54.43333333333334, 65.61666666666667, 72.81666666666666, 73.13333333333333, 25.0, 32.5, 63.65, 59.95, 64.77049180327869, 36.0655737704918, 67.72131147540983, 82.47540983606557, 91.06557377049181, 91.93442622950819, 71.54098360655738, 79.26229508196721, 66.26984126984127, 47.095238095238095, 30.158730158730158, 84.76190476190476, 51.36507936507937, 30.158730158730158, 62.61904761904762, 59.88888888888889, 83.01587301587303, 84.01587301587301, 71.53968253968253, 81.47619047619048, 78.03174603174602, 58.65079365079365, 30.158730158730158, 74.01587301587301, 57.57142857142858, 67.87301587301587, 50.39682539682539, 79.68253968253968, 30.158730158730158, 73.9074074074074, 76.16666666666667, 82.27777777777779, 39.38888888888889, 22.22222222222222, 68.0, 56.407407407407405, 31.814814814814813, 42.55555555555556, 74.96296296296296, 68.57407407407408, 49.666666666666664, 39.81481481481482, 72.51851851851852, 54.462962962962955, 42.629629629629626, 46.31481481481482, 62.94444444444445, 75.13793103448276, 62.06896551724138, 62.6551724137931, 63.58620689655172, 74.6896551724138, 90.75862068965517, 61.258620689655174, 67.74137931034483, 72.37931034482759, 24.137931034482758, 60.362068965517246, 24.137931034482758, 28.86206896551724, 24.137931034482758, 71.17241379310344, 65.5, 53.706896551724135, 47.05172413793103, 61.03448275862069, 57.22413793103448, 61.06896551724138, 78.63793103448276, 78.8448275862069, 48.3448275862069, 41.89655172413793, 70.62068965517241, 49.637931034482754, 43.672413793103445, 78.24137931034483, 72.55172413793105, 25.862068965517242, 66.37931034482759, 95.96825396825398, 88.93650793650794, 82.33333333333334, 50.53968253968254, 90.68253968253968, 94.76190476190476, 50.11111111111111, 85.46031746031746, 63.301587301587304, 88.19047619047619, 61.238095238095234, 89.83516483516483, 91.6043956043956, 94.43956043956044, 96.5934065934066, 100.0, 69.72527472527472, 95.25274725274726, 72.15384615384616, 90.83516483516483, 93.21978021978022, 84.3076923076923, 67.07692307692308, 70.5, 77.65384615384615, 73.82692307692308, 52.82692307692308, 70.57692307692308, 83.0576923076923, 67.46153846153847, 66.84615384615384, 76.26923076923077]}],\n",
       "                        {\"shapes\": [{\"line\": {\"dash\": \"dashdot\"}, \"type\": \"line\", \"x0\": 67.0687853930049, \"x1\": 67.0687853930049, \"y0\": 0, \"y1\": 100}], \"template\": {\"data\": {\"bar\": [{\"error_x\": {\"color\": \"#2a3f5f\"}, \"error_y\": {\"color\": \"#2a3f5f\"}, \"marker\": {\"line\": {\"color\": \"#E5ECF6\", \"width\": 0.5}}, \"type\": \"bar\"}], \"barpolar\": [{\"marker\": {\"line\": {\"color\": \"#E5ECF6\", \"width\": 0.5}}, \"type\": \"barpolar\"}], \"carpet\": [{\"aaxis\": {\"endlinecolor\": \"#2a3f5f\", \"gridcolor\": \"white\", \"linecolor\": \"white\", \"minorgridcolor\": \"white\", \"startlinecolor\": \"#2a3f5f\"}, \"baxis\": {\"endlinecolor\": \"#2a3f5f\", \"gridcolor\": \"white\", \"linecolor\": \"white\", \"minorgridcolor\": \"white\", \"startlinecolor\": \"#2a3f5f\"}, \"type\": \"carpet\"}], \"choropleth\": [{\"colorbar\": {\"outlinewidth\": 0, \"ticks\": \"\"}, \"type\": \"choropleth\"}], \"contour\": [{\"colorbar\": {\"outlinewidth\": 0, \"ticks\": \"\"}, \"colorscale\": [[0.0, \"#0d0887\"], [0.1111111111111111, \"#46039f\"], [0.2222222222222222, \"#7201a8\"], [0.3333333333333333, \"#9c179e\"], [0.4444444444444444, \"#bd3786\"], [0.5555555555555556, \"#d8576b\"], [0.6666666666666666, \"#ed7953\"], [0.7777777777777778, \"#fb9f3a\"], [0.8888888888888888, \"#fdca26\"], [1.0, \"#f0f921\"]], \"type\": \"contour\"}], \"contourcarpet\": [{\"colorbar\": {\"outlinewidth\": 0, \"ticks\": \"\"}, \"type\": \"contourcarpet\"}], \"heatmap\": [{\"colorbar\": {\"outlinewidth\": 0, \"ticks\": \"\"}, \"colorscale\": [[0.0, \"#0d0887\"], [0.1111111111111111, \"#46039f\"], [0.2222222222222222, \"#7201a8\"], [0.3333333333333333, \"#9c179e\"], [0.4444444444444444, \"#bd3786\"], [0.5555555555555556, \"#d8576b\"], [0.6666666666666666, \"#ed7953\"], [0.7777777777777778, \"#fb9f3a\"], [0.8888888888888888, \"#fdca26\"], [1.0, \"#f0f921\"]], \"type\": \"heatmap\"}], \"heatmapgl\": [{\"colorbar\": {\"outlinewidth\": 0, \"ticks\": \"\"}, \"colorscale\": [[0.0, \"#0d0887\"], [0.1111111111111111, \"#46039f\"], [0.2222222222222222, \"#7201a8\"], [0.3333333333333333, \"#9c179e\"], [0.4444444444444444, \"#bd3786\"], [0.5555555555555556, \"#d8576b\"], [0.6666666666666666, \"#ed7953\"], [0.7777777777777778, \"#fb9f3a\"], [0.8888888888888888, \"#fdca26\"], [1.0, \"#f0f921\"]], \"type\": \"heatmapgl\"}], \"histogram\": [{\"marker\": {\"colorbar\": {\"outlinewidth\": 0, \"ticks\": \"\"}}, \"type\": \"histogram\"}], \"histogram2d\": [{\"colorbar\": {\"outlinewidth\": 0, \"ticks\": \"\"}, \"colorscale\": [[0.0, \"#0d0887\"], [0.1111111111111111, \"#46039f\"], [0.2222222222222222, \"#7201a8\"], [0.3333333333333333, \"#9c179e\"], [0.4444444444444444, \"#bd3786\"], [0.5555555555555556, \"#d8576b\"], [0.6666666666666666, \"#ed7953\"], [0.7777777777777778, \"#fb9f3a\"], [0.8888888888888888, \"#fdca26\"], [1.0, \"#f0f921\"]], \"type\": \"histogram2d\"}], \"histogram2dcontour\": [{\"colorbar\": {\"outlinewidth\": 0, \"ticks\": \"\"}, \"colorscale\": [[0.0, \"#0d0887\"], [0.1111111111111111, \"#46039f\"], [0.2222222222222222, \"#7201a8\"], [0.3333333333333333, \"#9c179e\"], [0.4444444444444444, \"#bd3786\"], [0.5555555555555556, \"#d8576b\"], [0.6666666666666666, \"#ed7953\"], [0.7777777777777778, \"#fb9f3a\"], [0.8888888888888888, \"#fdca26\"], [1.0, \"#f0f921\"]], \"type\": \"histogram2dcontour\"}], \"mesh3d\": [{\"colorbar\": {\"outlinewidth\": 0, \"ticks\": \"\"}, \"type\": \"mesh3d\"}], \"parcoords\": [{\"line\": {\"colorbar\": {\"outlinewidth\": 0, \"ticks\": \"\"}}, \"type\": \"parcoords\"}], \"pie\": [{\"automargin\": true, \"type\": \"pie\"}], \"scatter\": [{\"marker\": {\"colorbar\": {\"outlinewidth\": 0, \"ticks\": \"\"}}, \"type\": \"scatter\"}], \"scatter3d\": [{\"line\": {\"colorbar\": {\"outlinewidth\": 0, \"ticks\": \"\"}}, \"marker\": {\"colorbar\": {\"outlinewidth\": 0, \"ticks\": \"\"}}, \"type\": \"scatter3d\"}], \"scattercarpet\": [{\"marker\": {\"colorbar\": {\"outlinewidth\": 0, \"ticks\": \"\"}}, \"type\": \"scattercarpet\"}], \"scattergeo\": [{\"marker\": {\"colorbar\": {\"outlinewidth\": 0, \"ticks\": \"\"}}, \"type\": \"scattergeo\"}], \"scattergl\": [{\"marker\": {\"colorbar\": {\"outlinewidth\": 0, \"ticks\": \"\"}}, \"type\": \"scattergl\"}], \"scattermapbox\": [{\"marker\": {\"colorbar\": {\"outlinewidth\": 0, \"ticks\": \"\"}}, \"type\": \"scattermapbox\"}], \"scatterpolar\": [{\"marker\": {\"colorbar\": {\"outlinewidth\": 0, \"ticks\": \"\"}}, \"type\": \"scatterpolar\"}], \"scatterpolargl\": [{\"marker\": {\"colorbar\": {\"outlinewidth\": 0, \"ticks\": \"\"}}, \"type\": \"scatterpolargl\"}], \"scatterternary\": [{\"marker\": {\"colorbar\": {\"outlinewidth\": 0, \"ticks\": \"\"}}, \"type\": \"scatterternary\"}], \"surface\": [{\"colorbar\": {\"outlinewidth\": 0, \"ticks\": \"\"}, \"colorscale\": [[0.0, \"#0d0887\"], [0.1111111111111111, \"#46039f\"], [0.2222222222222222, \"#7201a8\"], [0.3333333333333333, \"#9c179e\"], [0.4444444444444444, \"#bd3786\"], [0.5555555555555556, \"#d8576b\"], [0.6666666666666666, \"#ed7953\"], [0.7777777777777778, \"#fb9f3a\"], [0.8888888888888888, \"#fdca26\"], [1.0, \"#f0f921\"]], \"type\": \"surface\"}], \"table\": [{\"cells\": {\"fill\": {\"color\": \"#EBF0F8\"}, \"line\": {\"color\": \"white\"}}, \"header\": {\"fill\": {\"color\": \"#C8D4E3\"}, \"line\": {\"color\": \"white\"}}, \"type\": \"table\"}]}, \"layout\": {\"annotationdefaults\": {\"arrowcolor\": \"#2a3f5f\", \"arrowhead\": 0, \"arrowwidth\": 1}, \"coloraxis\": {\"colorbar\": {\"outlinewidth\": 0, \"ticks\": \"\"}}, \"colorscale\": {\"diverging\": [[0, \"#8e0152\"], [0.1, \"#c51b7d\"], [0.2, \"#de77ae\"], [0.3, \"#f1b6da\"], [0.4, \"#fde0ef\"], [0.5, \"#f7f7f7\"], [0.6, \"#e6f5d0\"], [0.7, \"#b8e186\"], [0.8, \"#7fbc41\"], [0.9, \"#4d9221\"], [1, \"#276419\"]], \"sequential\": [[0.0, \"#0d0887\"], [0.1111111111111111, \"#46039f\"], [0.2222222222222222, \"#7201a8\"], [0.3333333333333333, \"#9c179e\"], [0.4444444444444444, \"#bd3786\"], [0.5555555555555556, \"#d8576b\"], [0.6666666666666666, \"#ed7953\"], [0.7777777777777778, \"#fb9f3a\"], [0.8888888888888888, \"#fdca26\"], [1.0, \"#f0f921\"]], \"sequentialminus\": [[0.0, \"#0d0887\"], [0.1111111111111111, \"#46039f\"], [0.2222222222222222, \"#7201a8\"], [0.3333333333333333, \"#9c179e\"], [0.4444444444444444, \"#bd3786\"], [0.5555555555555556, \"#d8576b\"], [0.6666666666666666, \"#ed7953\"], [0.7777777777777778, \"#fb9f3a\"], [0.8888888888888888, \"#fdca26\"], [1.0, \"#f0f921\"]]}, \"colorway\": [\"#636efa\", \"#EF553B\", \"#00cc96\", \"#ab63fa\", \"#FFA15A\", \"#19d3f3\", \"#FF6692\", \"#B6E880\", \"#FF97FF\", \"#FECB52\"], \"font\": {\"color\": \"#2a3f5f\"}, \"geo\": {\"bgcolor\": \"white\", \"lakecolor\": \"white\", \"landcolor\": \"#E5ECF6\", \"showlakes\": true, \"showland\": true, \"subunitcolor\": \"white\"}, \"hoverlabel\": {\"align\": \"left\"}, \"hovermode\": \"closest\", \"mapbox\": {\"style\": \"light\"}, \"paper_bgcolor\": \"white\", \"plot_bgcolor\": \"#E5ECF6\", \"polar\": {\"angularaxis\": {\"gridcolor\": \"white\", \"linecolor\": \"white\", \"ticks\": \"\"}, \"bgcolor\": \"#E5ECF6\", \"radialaxis\": {\"gridcolor\": \"white\", \"linecolor\": \"white\", \"ticks\": \"\"}}, \"scene\": {\"xaxis\": {\"backgroundcolor\": \"#E5ECF6\", \"gridcolor\": \"white\", \"gridwidth\": 2, \"linecolor\": \"white\", \"showbackground\": true, \"ticks\": \"\", \"zerolinecolor\": \"white\"}, \"yaxis\": {\"backgroundcolor\": \"#E5ECF6\", \"gridcolor\": \"white\", \"gridwidth\": 2, \"linecolor\": \"white\", \"showbackground\": true, \"ticks\": \"\", \"zerolinecolor\": \"white\"}, \"zaxis\": {\"backgroundcolor\": \"#E5ECF6\", \"gridcolor\": \"white\", \"gridwidth\": 2, \"linecolor\": \"white\", \"showbackground\": true, \"ticks\": \"\", \"zerolinecolor\": \"white\"}}, \"shapedefaults\": {\"line\": {\"color\": \"#2a3f5f\"}}, \"ternary\": {\"aaxis\": {\"gridcolor\": \"white\", \"linecolor\": \"white\", \"ticks\": \"\"}, \"baxis\": {\"gridcolor\": \"white\", \"linecolor\": \"white\", \"ticks\": \"\"}, \"bgcolor\": \"#E5ECF6\", \"caxis\": {\"gridcolor\": \"white\", \"linecolor\": \"white\", \"ticks\": \"\"}}, \"title\": {\"x\": 0.05}, \"xaxis\": {\"automargin\": true, \"gridcolor\": \"white\", \"linecolor\": \"white\", \"ticks\": \"\", \"title\": {\"standoff\": 15}, \"zerolinecolor\": \"white\", \"zerolinewidth\": 2}, \"yaxis\": {\"automargin\": true, \"gridcolor\": \"white\", \"linecolor\": \"white\", \"ticks\": \"\", \"title\": {\"standoff\": 15}, \"zerolinecolor\": \"white\", \"zerolinewidth\": 2}}}},\n",
       "                        {\"responsive\": true}\n",
       "                    ).then(function(){\n",
       "                            \n",
       "var gd = document.getElementById('eb10771b-8a4c-4aab-9641-6279ad953434');\n",
       "var x = new MutationObserver(function (mutations, observer) {{\n",
       "        var display = window.getComputedStyle(gd).display;\n",
       "        if (!display || display === 'none') {{\n",
       "            console.log([gd, 'removed!']);\n",
       "            Plotly.purge(gd);\n",
       "            observer.disconnect();\n",
       "        }}\n",
       "}});\n",
       "\n",
       "// Listen for the removal of the full notebook cells\n",
       "var notebookContainer = gd.closest('#notebook-container');\n",
       "if (notebookContainer) {{\n",
       "    x.observe(notebookContainer, {childList: true});\n",
       "}}\n",
       "\n",
       "// Listen for the clearing of the current output cell\n",
       "var outputEl = gd.closest('.output');\n",
       "if (outputEl) {{\n",
       "    x.observe(outputEl, {childList: true});\n",
       "}}\n",
       "\n",
       "                        })\n",
       "                };\n",
       "                });\n",
       "            </script>\n",
       "        </div>"
      ]
     },
     "metadata": {},
     "output_type": "display_data"
    }
   ],
   "source": [
    "dfq6 = accts.merge(group, on=['group_id']) \\\n",
    "    .merge(pymt, on=['account_id'])\n",
    "\n",
    "dfq6 = pd.concat([dfq6, ast['created_when']], axis=1)\n",
    "\n",
    "\n",
    "dfq6['registration_date'] = pd.to_datetime(dfq6['registration_date'], format='%Y-%m-%d %H:%M:%S')\n",
    "dfq6['effective_when'] = pd.to_datetime(dfq6['effective_when'], format='%Y-%m-%d %H:%M:%S')\n",
    "dfq6['created_when'] = pd.to_datetime(dfq6['created_when'], format='%Y-%m-%d %H:%M:%S')\n",
    "\n",
    "dfq6['nominal_loan_term'] = (dfq6['price_unlock']) / (dfq6['price_clock_hour'])\n",
    "dfq6['nominal_loan_term_maturity'] = pd.to_datetime(dfq6['registration_date']) + pd.to_timedelta(dfq6['nominal_loan_term'],unit='h')\n",
    "\n",
    "dfq6['cum_amount'] = dfq6.groupby(['account_id'])['amount'].cumsum()\n",
    "dfq6['%_paid'] = dfq6['cum_amount'] / dfq6['price_unlock'] * 100\n",
    "\n",
    "dfq6 = dfq6.loc[(dfq6.created_when >= dfq6.nominal_loan_term_maturity)]\n",
    "dfq6 = dfq6.loc[(dfq6.effective_when <= dfq6.nominal_loan_term_maturity)]\n",
    "\n",
    "dfq6 = dfq6.sort_values(['account_id','effective_when']).drop_duplicates('account_id', keep='last')\n",
    "\n",
    "\n",
    "avg_pct_loan = dfq6['%_paid'].mean() \n",
    "print('Average % of total loan value paid at end of nominal term =', round(avg_pct_loan,1), '%')\n",
    "\n",
    "\n",
    "display(dfq6.head())\n",
    "display(dfq6.info())\n",
    "\n",
    "# Distribution by time% (each bin 5% increment of nominal)\n",
    "data = [go.Histogram(\n",
    "        x = dfq6['%_paid']\n",
    ")]\n",
    "\n",
    "# Vertical dashed line to indicate the average \n",
    "layout = {'shapes': [{\n",
    "              'type' :'line',\n",
    "              'x0': avg_pct_loan,\n",
    "              'y0': 0,\n",
    "              'x1': avg_pct_loan,\n",
    "              'y1': 100,\n",
    "              'line': { 'dash': 'dashdot'}\n",
    "          }]\n",
    "          }\n",
    "\n",
    "plotly.offline.iplot({'data': data, 'layout': layout})"
   ]
  }
 ],
 "metadata": {
  "kernelspec": {
   "display_name": "Python 3",
   "language": "python",
   "name": "python3"
  },
  "language_info": {
   "codemirror_mode": {
    "name": "ipython",
    "version": 3
   },
   "file_extension": ".py",
   "mimetype": "text/x-python",
   "name": "python",
   "nbconvert_exporter": "python",
   "pygments_lexer": "ipython3",
   "version": "3.7.4"
  }
 },
 "nbformat": 4,
 "nbformat_minor": 2
}
